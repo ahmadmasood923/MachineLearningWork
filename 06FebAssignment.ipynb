{
 "cells": [
  {
   "cell_type": "markdown",
   "id": "06647f8b-ecb8-4739-b3d0-97c4d943c654",
   "metadata": {},
   "source": [
    "## Ques 1:"
   ]
  },
  {
   "cell_type": "code",
   "execution_count": 14,
   "id": "24fff516-04a3-4898-b058-0f4e0c914128",
   "metadata": {},
   "outputs": [],
   "source": [
    "list1 = [1,2,3,4, [44,55,66, True], False, (34,56,78,89,34), {1,2,3,3,2,1}, {1:34, \"key2\": [55, 67, 78, 89], 4: (45,\n",
    "22, 61, 34)}, [56, 'data science'], 'Machine Learning']"
   ]
  },
  {
   "cell_type": "code",
   "execution_count": 15,
   "id": "6c9893ec-ef3d-4ffa-93bb-2967bb522324",
   "metadata": {},
   "outputs": [
    {
     "data": {
      "text/plain": [
       "([1,\n",
       "  2,\n",
       "  3,\n",
       "  4,\n",
       "  44,\n",
       "  55,\n",
       "  66,\n",
       "  34,\n",
       "  56,\n",
       "  78,\n",
       "  89,\n",
       "  34,\n",
       "  1,\n",
       "  2,\n",
       "  3,\n",
       "  1,\n",
       "  4,\n",
       "  34,\n",
       "  55,\n",
       "  67,\n",
       "  78,\n",
       "  89,\n",
       "  45,\n",
       "  22,\n",
       "  61,\n",
       "  34,\n",
       "  56],\n",
       " 'The product of the list is',\n",
       " 4134711838987085478833841242112000)"
      ]
     },
     "execution_count": 15,
     "metadata": {},
     "output_type": "execute_result"
    }
   ],
   "source": [
    "def ret_prod(list1):\n",
    "    list2=[]\n",
    "    for i in list1:\n",
    "        if type(i)==int or type(i)==float:\n",
    "            list2.append(i)\n",
    "        elif type(i)==list or type(i)==tuple :\n",
    "            for j in i:\n",
    "                if type(j)==int or type(j)==float:\n",
    "                    list2.append(j)\n",
    "        elif type(i)==set:\n",
    "            i = list(i)\n",
    "            for j in i:\n",
    "                if type(j)==int or type(j)==float:\n",
    "                    list2.append(j)\n",
    "        elif type(i) == dict:\n",
    "            for key in i.keys():\n",
    "                if type(key)==int or type(key)==float:\n",
    "                    list2.append(key)\n",
    "                elif type(key)==list or type(key)==tuple:\n",
    "                    for j in key:\n",
    "                        if type(j)==int or type(j)==float:\n",
    "                            list2.append(j)\n",
    "            for values in i.values():\n",
    "                if type(values)==int or type(values)==float:\n",
    "                    list2.append(values)\n",
    "                elif type(values)==list or type(values)==tuple:\n",
    "                    for j in values:\n",
    "                        if type(j)==int or type(j)==float:\n",
    "                            list2.append(j)\n",
    "    product = 1\n",
    "    for i in list2:\n",
    "        product = product*i\n",
    "    return list2, \"The product of the list is\", product\n",
    "ret_prod(list1)"
   ]
  },
  {
   "cell_type": "markdown",
   "id": "1ef527a6-cab8-4348-986d-e7837371b82f",
   "metadata": {},
   "source": [
    "## Ques 2:"
   ]
  },
  {
   "cell_type": "code",
   "execution_count": 16,
   "id": "52f3fbd5-94b2-4d10-b4fa-96708d69f8e1",
   "metadata": {},
   "outputs": [
    {
     "data": {
      "text/plain": [
       "'r$dzmg$gl$yvxlnv$z$wzgz$hxrvmgrhg.'"
      ]
     },
     "execution_count": 16,
     "metadata": {},
     "output_type": "execute_result"
    }
   ],
   "source": [
    "sentence = 'I want to become a Data Scientist.'\n",
    "def encrypt(sentence):\n",
    "    list1 = ['a', 'b', 'c', 'd', 'e', 'f', 'g', 'h', 'i', 'j', 'k', 'l', 'm', 'n', 'o', 'p', 'q', 'r', 's', 't', 'u', 'v', 'w', 'x', 'y', 'z']\n",
    "    sentence = sentence.lower()\n",
    "    str1 = \"\"\n",
    "    for i in sentence:\n",
    "        if i in list1:\n",
    "            j = list1.index(i)\n",
    "            i = list1[len(list1)-1-j]\n",
    "            str1 = str1+i\n",
    "        elif i==' ':\n",
    "            i = '$'\n",
    "            str1 = str1+i\n",
    "        else:\n",
    "            # i=i\n",
    "            str1=str1+i\n",
    "    return str1\n",
    "encrypt(sentence)"
   ]
  },
  {
   "cell_type": "code",
   "execution_count": null,
   "id": "530fc0f2-6096-4fc3-90a8-96879ac5598d",
   "metadata": {},
   "outputs": [],
   "source": []
  }
 ],
 "metadata": {
  "kernelspec": {
   "display_name": "Python 3 (ipykernel)",
   "language": "python",
   "name": "python3"
  },
  "language_info": {
   "codemirror_mode": {
    "name": "ipython",
    "version": 3
   },
   "file_extension": ".py",
   "mimetype": "text/x-python",
   "name": "python",
   "nbconvert_exporter": "python",
   "pygments_lexer": "ipython3",
   "version": "3.10.8"
  }
 },
 "nbformat": 4,
 "nbformat_minor": 5
}
