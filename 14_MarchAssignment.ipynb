{
 "cells": [
  {
   "cell_type": "markdown",
   "id": "bb247ccc-87c3-4ec6-a192-07fdc25cf55d",
   "metadata": {},
   "source": [
    "### Ques 1:"
   ]
  },
  {
   "cell_type": "markdown",
   "id": "9e72cd22-309f-46c5-945f-cd4728bfdf72",
   "metadata": {},
   "source": [
    "### Ans:"
   ]
  },
  {
   "cell_type": "code",
   "execution_count": 1,
   "id": "6be71e64-aa04-460b-a0a7-dcbdf6af6002",
   "metadata": {},
   "outputs": [],
   "source": [
    "import scipy.stats as stats\n",
    "\n",
    "def variance_ratio_test(data1, data2):\n",
    "    n1 = len(data1)\n",
    "    n2 = len(data2)\n",
    "    var1 = data1.var(ddof=1)\n",
    "    var2 = data2.var(ddof=1)\n",
    "    f_value = var2 / var1\n",
    "    p_value = stats.f.sf(f_value, n2-1, n1-1)\n",
    "    return f_value, p_value"
   ]
  },
  {
   "cell_type": "markdown",
   "id": "7b9be4e1-d017-47ef-a8f7-111ff61d006a",
   "metadata": {},
   "source": [
    "### Ques 2:"
   ]
  },
  {
   "cell_type": "markdown",
   "id": "d3ad8a56-4c40-4b85-acba-b55b62e1a94d",
   "metadata": {},
   "source": [
    "### Ans:"
   ]
  },
  {
   "cell_type": "code",
   "execution_count": 2,
   "id": "53d16a5c-cac1-4076-876a-42148e210fb6",
   "metadata": {},
   "outputs": [],
   "source": [
    "import scipy.stats as stats\n",
    "\n",
    "def critical_f_value(alpha, df1, df2):\n",
    "    return stats.f.ppf(alpha/2, df1, df2), stats.f.ppf(1-alpha/2, df1, df2)"
   ]
  },
  {
   "cell_type": "markdown",
   "id": "b4501fdd-5a0b-4c48-b565-f5a86f88b0f4",
   "metadata": {},
   "source": [
    "### Ques 3:"
   ]
  },
  {
   "cell_type": "markdown",
   "id": "a63f74bd-44fe-4bc8-bf48-100743985983",
   "metadata": {},
   "source": [
    "### Ans:"
   ]
  },
  {
   "cell_type": "code",
   "execution_count": 3,
   "id": "614bcd5b-e6b4-4f2b-b002-f6b621808ae8",
   "metadata": {},
   "outputs": [
    {
     "name": "stdout",
     "output_type": "stream",
     "text": [
      "Sample 1 mean: 10.02654288216757\n",
      "Sample 2 mean: 12.044564657308175\n",
      "Sample 1 variance: 5.776336488392834\n",
      "Sample 2 variance: 7.649533936156942\n",
      "F-value: 0.7551226697733712\n",
      "Degrees of freedom (numerator, denominator): 49 69\n",
      "p-value: 1.6987013369474473\n"
     ]
    }
   ],
   "source": [
    "import numpy as np\n",
    "import scipy.stats as stats\n",
    "\n",
    "# Generate random samples from two normal distributions with known variances\n",
    "n1 = 50\n",
    "n2 = 70\n",
    "mu1 = 10\n",
    "mu2 = 12\n",
    "var1 = 4\n",
    "var2 = 6\n",
    "\n",
    "np.random.seed(123)  # for reproducibility\n",
    "sample1 = np.random.normal(mu1, np.sqrt(var1), n1)\n",
    "sample2 = np.random.normal(mu2, np.sqrt(var2), n2)\n",
    "\n",
    "# Calculate the F-value and p-value for the variance ratio test\n",
    "F = np.var(sample1, ddof=1) / np.var(sample2, ddof=1)\n",
    "df1 = n1 - 1\n",
    "df2 = n2 - 1\n",
    "p_value = stats.f.sf(F, df1, df2) * 2  # two-tailed test\n",
    "\n",
    "# Output the results\n",
    "print(\"Sample 1 mean:\", np.mean(sample1))\n",
    "print(\"Sample 2 mean:\", np.mean(sample2))\n",
    "print(\"Sample 1 variance:\", np.var(sample1, ddof=1))\n",
    "print(\"Sample 2 variance:\", np.var(sample2, ddof=1))\n",
    "print(\"F-value:\", F)\n",
    "print(\"Degrees of freedom (numerator, denominator):\", df1, df2)\n",
    "print(\"p-value:\", p_value)"
   ]
  },
  {
   "cell_type": "markdown",
   "id": "06bace7b-99a2-4104-96a3-9d7ad4f5b93f",
   "metadata": {},
   "source": [
    "### Ques 4:"
   ]
  },
  {
   "cell_type": "markdown",
   "id": "24667c26-42ca-426f-8bcd-28277c25e77c",
   "metadata": {},
   "source": [
    "### Ans: We first calculate the sample variances for each population using the given sample data. Then we calculate the F-statistic using the formula:\n",
    "### F = s1^2 / s2^2\n",
    "### where s1^2 and s2^2 are the sample variances of the two populations.\n",
    "### With 12 observations from each population and known population variances, the sample variances are given by:\n",
    "### s1^2 = 10\n",
    "### s2^2 = 1\n",
    "### Therefore, the F-statistic is:\n",
    "### F = s1^2 / s2^2 = 10 / 15 = 0.6667\n",
    "### To determine if this F-value is significant at the 5% level, we need to compare it to the critical F-value with degrees of freedom (11, 11) for a two-tailed test. Using a statistical software or F-table, we can find that the critical F-value is approximately 2.54.\n",
    "### Since our calculated F-value of 0.6667 is much smaller than the critical F-value of 2.54, we fail to reject the null hypothesis that the variances are equal. Therefore, we can conclude that there is not enough evidence to suggest that the variances are significantly different at the 5% significance level."
   ]
  },
  {
   "cell_type": "markdown",
   "id": "c4b6d5ca-515f-476a-8f86-735406367745",
   "metadata": {},
   "source": [
    "### Ques 5:"
   ]
  },
  {
   "cell_type": "markdown",
   "id": "6d5fbfdf-3f3c-418d-93a8-baf26fc5048e",
   "metadata": {},
   "source": [
    "### Ans: The null and alternative hypotheses for the F-test are:\n",
    "### H0: σ^2 = 0.005\n",
    "### Ha: σ^2 ≠ 0.005\n",
    "### where σ^2 is the true population variance.\n",
    "### With a sample size of 25 and a sample variance of 0.006, we can calculate the F-statistic as:\n",
    "### F = s^2 / σ^2 = 0.006 / 0.005 = 1.2\n",
    "### To determine if this F-value is significant at the 1% level, we need to compare it to the critical F-value with degrees of freedom (24, 24) for a two-tailed test. Using a statistical software or F-table, we can find that the critical F-value is approximately 2.80.\n",
    "### Since our calculated F-value of 1.2 is much smaller than the critical F-value of 2.80, we fail to reject the null hypothesis that the population variance is equal to 0.005. Therefore, we can conclude that there is not enough evidence to suggest that the manufacturer's claim is not justified at the 1% significance level."
   ]
  },
  {
   "cell_type": "markdown",
   "id": "9154c775-270d-4175-8b06-946e6a625d78",
   "metadata": {},
   "source": [
    "### Ques 6:"
   ]
  },
  {
   "cell_type": "markdown",
   "id": "ee8492d3-ff19-4b49-add8-7c56e2ea3698",
   "metadata": {},
   "source": [
    "### Ans:"
   ]
  },
  {
   "cell_type": "code",
   "execution_count": 5,
   "id": "d40aaa38-07d8-48e0-9f88-3d2701c61ba7",
   "metadata": {},
   "outputs": [
    {
     "name": "stdout",
     "output_type": "stream",
     "text": [
      "Mean: 1.2857142857142858\n",
      "Variance: 1.4326530612244899\n"
     ]
    }
   ],
   "source": [
    "def f_distribution_mean_var(df1, df2):\n",
    "\n",
    "    mean = df2 / (df2 - 2)\n",
    "    var = (2 * df2**2 * (df1 + df2 - 2)) / (df1 * (df2 - 2)**2 * (df2 - 4))\n",
    "    \n",
    "    return mean, var\n",
    "mean, var = f_distribution_mean_var(6, 9)\n",
    "print(\"Mean:\", mean)\n",
    "print(\"Variance:\", var)"
   ]
  },
  {
   "cell_type": "markdown",
   "id": "0370e30c-bf8a-42d6-a3b0-152685f417e2",
   "metadata": {},
   "source": [
    "### Ques 7:"
   ]
  },
  {
   "cell_type": "markdown",
   "id": "40a9d425-692b-4d37-92a6-1c89eb4449be",
   "metadata": {},
   "source": [
    "### Ans: Given:\n",
    "### Sample size n1 = 10, sample variance s1^2 = 25 for population 1\n",
    "### Sample size n2 = 15, sample variance s2^2 = 20 for population 2\n",
    "### Significance level alpha = 0.10\n",
    "### We want to conduct an F-test to determine if the variances of the two populations are significantly different.\n",
    "### We can calculate the F-statistic as F = s1^2 / s2^2. Substituting the given values, we get:\n",
    "### F = 25 / 20 = 1.25\n",
    "### We then find the critical F-value from an F-distribution table with degrees of freedom df1 = n1 - 1 and df2 = n2 - 1 at the 10% significance level. Using a calculator or statistical software, we find the critical F-value to be 2.492.\n",
    "### Since our calculated F-value of 1.25 is less than the critical F-value of 2.492, we fail to reject the null hypothesis. Therefore, we do not have sufficient evidence to conclude that the variances of the two populations are significantly different at the 10% significance level."
   ]
  },
  {
   "cell_type": "markdown",
   "id": "81791d26-09e1-4e3f-85df-2e1a1e409c2c",
   "metadata": {},
   "source": [
    "### Ques 8:"
   ]
  },
  {
   "cell_type": "markdown",
   "id": "b43c3206-db96-44fe-b25a-3dec6748c828",
   "metadata": {},
   "source": [
    "### Ans: To conduct an F-test to determine if the variances of the waiting times at Restaurant A and Restaurant B are significantly different:\n",
    "### Calculate the sample variances of the waiting times at Restaurant A and Restaurant B.\n",
    "### Sample variance for Restaurant A = 8.2\n",
    "### Sample variance for Restaurant B = 6.6667\n",
    "### Calculate the F-value:\n",
    "### F = 8.2/6.6667 = 1.23\n",
    "### Calculate the degrees of freedom for the numerator and denominator:\n",
    "### Degrees of freedom for the numerator = n1-1 = 6\n",
    "### Degrees of freedom for the denominator = n2-1 = 5\n",
    "### Use a critical value table for the F-distribution with alpha=0.05 and degrees of freedom 6 and 5 to find the critical value of F.\n",
    "### The critical value of F is 5.05.\n",
    "### Compare the calculated F-value with the critical F-value.\n",
    "### Since 1.23 < 5.05, we fail to reject the null hypothesis that the variances are equal. Therefore, we conclude that there is not enough evidence to suggest that the variances of the waiting times at the two restaurants are significantly different at the 5% significance level."
   ]
  },
  {
   "cell_type": "markdown",
   "id": "5fdce080-d0ae-4f2e-a72a-9de20c4a94b9",
   "metadata": {},
   "source": [
    "### Ques 9:"
   ]
  },
  {
   "cell_type": "markdown",
   "id": "f80ebefa-02f3-455c-b1fd-f4b1c5da67a3",
   "metadata": {},
   "source": [
    "### Ans: To conduct an F-test for the variances, we need to first calculate the sample variances:\n",
    "### Sample variance of Group A: 20.3\n",
    "### Sample variance of Group B: 7.2\n",
    "### Using these values and the formula for the F-test, we can calculate the F-value:\n",
    "### F = 20.3/7.2 = 2.819\n",
    "### The degrees of freedom are 5 and 5 for the two groups.\n",
    "### Using a significance level of 0.01 and the F-distribution table, we find the critical F-value to be 6.94.\n",
    "### Since our calculated F-value (2.819) is less than the critical F-value (6.94), we fail to reject the null hypothesis and conclude that the variances of the two groups are not significantly different at the 1% significance level."
   ]
  },
  {
   "cell_type": "code",
   "execution_count": null,
   "id": "4f3f9134-ed7e-44b4-8f21-99935578a0bc",
   "metadata": {},
   "outputs": [],
   "source": []
  }
 ],
 "metadata": {
  "kernelspec": {
   "display_name": "Python 3 (ipykernel)",
   "language": "python",
   "name": "python3"
  },
  "language_info": {
   "codemirror_mode": {
    "name": "ipython",
    "version": 3
   },
   "file_extension": ".py",
   "mimetype": "text/x-python",
   "name": "python",
   "nbconvert_exporter": "python",
   "pygments_lexer": "ipython3",
   "version": "3.10.8"
  }
 },
 "nbformat": 4,
 "nbformat_minor": 5
}
