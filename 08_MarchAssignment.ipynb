{
 "cells": [
  {
   "cell_type": "markdown",
   "id": "303d3131-9131-4d6b-8e44-507096fdd76e",
   "metadata": {},
   "source": [
    "## Ques 1:"
   ]
  },
  {
   "cell_type": "markdown",
   "id": "43663c71-cf4c-495e-905c-e20cc8765605",
   "metadata": {},
   "source": [
    "### Ans: The probability density function (PDF) is a function that describes the probability distribution of a continuous random variable. It represents the relative likelihood of the variable taking on a particular value, and is defined as the derivative of the cumulative distribution function (CDF)."
   ]
  },
  {
   "cell_type": "markdown",
   "id": "03411221-6d12-4964-a639-d48d45484814",
   "metadata": {},
   "source": [
    "## Ques 2:"
   ]
  },
  {
   "cell_type": "markdown",
   "id": "77c65dbb-c608-4d9c-be28-cce53b85d1ce",
   "metadata": {},
   "source": [
    "### Ans: There are several types of probability distributions, some of them are listed below:\n",
    "### 1. Normal/Gaussian Distribution\n",
    "### 2. Bernoulli Distribution\n",
    "### 3. Uniform Distribution\n",
    "### 4. Poisson Distribution\n",
    "### 5. Log Normal Distribution\n",
    "### 6. Binomial Distribution"
   ]
  },
  {
   "cell_type": "markdown",
   "id": "ee588a85-e116-41d3-9039-6fe640a41ea9",
   "metadata": {},
   "source": [
    "## Ques 3:"
   ]
  },
  {
   "cell_type": "markdown",
   "id": "ba41ae04-3b60-46b1-92c6-b27eb017f09a",
   "metadata": {},
   "source": [
    "### Ans: "
   ]
  },
  {
   "cell_type": "code",
   "execution_count": 1,
   "id": "681ef9c0-33c5-45c6-88c8-270896b6f708",
   "metadata": {},
   "outputs": [],
   "source": [
    "import math\n",
    "\n",
    "def normal_pdf(x, mu, sigma):\n",
    "    \"\"\"\n",
    "    Calculates the probability density function of a normal distribution with given mean (mu) and\n",
    "    standard deviation (sigma) at a given point (x).\n",
    "    \"\"\"\n",
    "    coeff = 1 / (sigma * math.sqrt(2 * math.pi))\n",
    "    exponent = -0.5 * ((x - mu) / sigma) ** 2\n",
    "    pdf = coeff * math.exp(exponent)\n",
    "    return pdf"
   ]
  },
  {
   "cell_type": "markdown",
   "id": "22effc2f-455d-4e6a-a9d1-e0b633288cec",
   "metadata": {},
   "source": [
    "## Ques 4:"
   ]
  },
  {
   "cell_type": "markdown",
   "id": "c9429ea5-78a6-46cb-8b73-10583fb652e6",
   "metadata": {},
   "source": [
    "### Ans: In probability theory and statistics, the binomial distribution with parameters n and p is the discrete probability distribution of the numbers of successes in sequence of n independent experiments, each asking a yes-no question and each with its own Boolean-Valued outcome.\n",
    "### Binomial Distributions are applied where outcomes are binary and they are performed for n number of times."
   ]
  },
  {
   "cell_type": "markdown",
   "id": "e1177ff0-b61d-4367-915d-84938a0e42cd",
   "metadata": {},
   "source": [
    "## Ques 5:"
   ]
  },
  {
   "cell_type": "markdown",
   "id": "a1f30b2e-06e0-4a17-b33d-084d2fa8caf9",
   "metadata": {},
   "source": [
    "### Ans:"
   ]
  },
  {
   "cell_type": "code",
   "execution_count": 1,
   "id": "f43760df-6a10-4198-bc37-369e88317c77",
   "metadata": {},
   "outputs": [
    {
     "data": {
      "image/png": "[encoded data removed]",
      "text/plain": [
       "<Figure size 640x480 with 1 Axes>"
      ]
     },
     "metadata": {},
     "output_type": "display_data"
    }
   ],
   "source": [
    "import numpy as np\n",
    "import matplotlib.pyplot as plt\n",
    "\n",
    "# Set the seed for reproducibility\n",
    "np.random.seed(42)\n",
    "\n",
    "# Generate the random sample\n",
    "sample = np.random.binomial(n=1, p=0.4, size=1000)\n",
    "\n",
    "# Plot a histogram of the results\n",
    "plt.hist(sample, bins=10, color='blue', edgecolor='black')\n",
    "plt.xlabel('Number of successes')\n",
    "plt.ylabel('Frequency')\n",
    "plt.title('Binomial Distribution with n=1, p=0.4')\n",
    "plt.show()"
   ]
  },
  {
   "cell_type": "markdown",
   "id": "94cb7807-099a-42be-a0c9-6a1093c803f3",
   "metadata": {},
   "source": [
    "## Ques 6:"
   ]
  },
  {
   "cell_type": "markdown",
   "id": "fd513900-c7c1-4059-a4d2-d46e5d9553b4",
   "metadata": {},
   "source": [
    "### Ans:"
   ]
  },
  {
   "cell_type": "code",
   "execution_count": 3,
   "id": "1f601c68-339c-454e-8f21-b0a23d8ba6bd",
   "metadata": {},
   "outputs": [
    {
     "data": {
      "text/plain": [
       "0.33281967875071894"
      ]
     },
     "execution_count": 3,
     "metadata": {},
     "output_type": "execute_result"
    }
   ],
   "source": [
    "import math\n",
    "\n",
    "def poisson_cdf(mean, k):\n",
    "   \n",
    "    cdf = 0.0\n",
    "    for i in range(k+1):\n",
    "        cdf += (mean**i / math.factorial(i)) * math.exp(-mean)\n",
    "    return cdf\n",
    "poisson_cdf(10,8)"
   ]
  },
  {
   "cell_type": "markdown",
   "id": "9dcc05cb-4115-4338-8705-e81d4f9b891e",
   "metadata": {},
   "source": [
    "## Ques 7:"
   ]
  },
  {
   "cell_type": "markdown",
   "id": "6b00852b-321e-4290-b8ad-a941bbdc5ddb",
   "metadata": {},
   "source": [
    "### Ans: The Binomial distribution is used to model the probability of a certain number of successes occurring in a fixed number of independent trials. Each trial has only two possible outcomes (success or failure), and the probability of success is constant across all trials.\n",
    "### The Poisson distribution, on the other hand, is used to model the probability of a certain number of events occurring in a fixed interval of time or space. The events must be random and occur independently of each other, but the rate at which they occur can vary across the interval."
   ]
  },
  {
   "cell_type": "markdown",
   "id": "73cb10ea-bacd-464f-a49b-39cdcd8254b5",
   "metadata": {},
   "source": [
    "## Ques 8:"
   ]
  },
  {
   "cell_type": "markdown",
   "id": "fe19d218-7dbc-4b6e-88e3-687b0e536152",
   "metadata": {},
   "source": [
    "### Ans:"
   ]
  },
  {
   "cell_type": "code",
   "execution_count": 4,
   "id": "e072890a-f719-4f99-8c1e-4e226a49f530",
   "metadata": {},
   "outputs": [
    {
     "name": "stdout",
     "output_type": "stream",
     "text": [
      "Sample mean: 4.976\n",
      "Sample variance: 4.7942182182182185\n"
     ]
    }
   ],
   "source": [
    "import numpy as np\n",
    "\n",
    "mean = 5\n",
    "sample = np.random.poisson(mean, size=1000)\n",
    "\n",
    "\n",
    "sample_mean = np.mean(sample)\n",
    "sample_variance = np.var(sample, ddof=1)\n",
    "\n",
    "print(\"Sample mean:\", sample_mean)\n",
    "print(\"Sample variance:\", sample_variance)\n"
   ]
  },
  {
   "cell_type": "markdown",
   "id": "8e208640-c916-461a-9bce-0525a09e48c6",
   "metadata": {},
   "source": [
    "## Ques 9:"
   ]
  },
  {
   "cell_type": "markdown",
   "id": "8cc8ccfb-9d9f-4b7d-a66c-3e569e184c25",
   "metadata": {},
   "source": [
    "### Ans: In Binomial distribution mean and variance are given by"
   ]
  },
  {
   "cell_type": "code",
   "execution_count": null,
   "id": "05f2db0b-8477-4ce5-992b-339f312e4ae4",
   "metadata": {},
   "outputs": [],
   "source": [
    "# mean = n*p\n",
    "# variance = n*p*(1-p)"
   ]
  },
  {
   "cell_type": "markdown",
   "id": "19e8d8ca-6aaf-4bad-a47c-46025a129ae6",
   "metadata": {},
   "source": [
    "### In poisson distribution mean and variance are given by"
   ]
  },
  {
   "cell_type": "code",
   "execution_count": 6,
   "id": "4c47323f-a86b-4457-acf9-818ba1b3802f",
   "metadata": {},
   "outputs": [],
   "source": [
    "# mean = lambda * time interval\n",
    "# variance = lambda * time interval"
   ]
  },
  {
   "cell_type": "markdown",
   "id": "20165cf0-9cbc-48c1-9ae1-f13ce35fc452",
   "metadata": {},
   "source": [
    "## Ques 10:"
   ]
  },
  {
   "cell_type": "markdown",
   "id": "4da088d0-378d-4894-8860-9b4a83fde0f9",
   "metadata": {},
   "source": [
    "### Ans: The least frequent dat"
   ]
  }
 ],
 "metadata": {
  "kernelspec": {
   "display_name": "Python 3 (ipykernel)",
   "language": "python",
   "name": "python3"
  },
  "language_info": {
   "codemirror_mode": {
    "name": "ipython",
    "version": 3
   },
   "file_extension": ".py",
   "mimetype": "text/x-python",
   "name": "python",
   "nbconvert_exporter": "python",
   "pygments_lexer": "ipython3",
   "version": "3.10.8"
  }
 },
 "nbformat": 4,
 "nbformat_minor": 5
}
