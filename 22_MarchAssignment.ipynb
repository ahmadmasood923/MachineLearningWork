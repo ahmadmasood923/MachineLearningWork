{
 "cells": [
  {
   "cell_type": "markdown",
   "id": "f5680d16-3ff4-429f-9e6c-3976071e4bc8",
   "metadata": {},
   "source": [
    "## Ques 1:"
   ]
  },
  {
   "cell_type": "markdown",
   "id": "e1369a0c-b7ae-4a81-a68a-ebdab3e57bf9",
   "metadata": {},
   "source": [
    "### Ans: To calculate the Pearson correlation coefficient between the amount of time students spend studying for an exam and their final exam scores, you need to first compute the covariance and the standard deviation for both variables. Then, you can use the formula for Pearson correlation coefficient, which is:\n",
    "### r = cov(x,y) / (sd(x) * sd(y))\n",
    "### where r is the Pearson correlation coefficient, cov(x,y) is the covariance between x and y, and sd(x) and sd(y) are the standard deviations of x and y, respectively.\n",
    "### Once you have calculated r, you can interpret the result as follows:\n",
    "### If r is close to 1, it indicates a strong positive linear relationship between the two variables, which means that as the amount of time students spend studying for an exam increases, their final exam scores also increase.\n",
    "### If r is close to -1, it indicates a strong negative linear relationship between the two variables, which means that as the amount of time students spend studying for an exam increases, their final exam scores decrease.\n",
    "### If r is close to 0, it indicates little to no linear relationship between the two variables, which means that the amount of time students spend studying for an exam does not have a significant impact on their final exam scores."
   ]
  },
  {
   "cell_type": "markdown",
   "id": "c47d1a80-ed59-41d4-b4d7-a64fb3fcfa0c",
   "metadata": {},
   "source": [
    "## Ques 2:"
   ]
  },
  {
   "cell_type": "markdown",
   "id": "357945ec-6f73-4906-aaa2-8b69b5dace0c",
   "metadata": {},
   "source": [
    "### Ans: To calculate the Spearman's rank correlation between the amount of sleep individuals get each night and their overall job satisfaction level, you need to first rank each variable separately from the lowest value to the highest value. Then, you need to calculate the difference between the ranks for each pair of corresponding data points. Finally, you can use the formula for Spearman's rank correlation, which is:\n",
    "### r = 1 - (6 * sum(d^2) / (n * (n^2 - 1)))\n",
    "### where r is the Spearman's rank correlation coefficient, d is the difference between the ranks for each pair of corresponding data points, and n is the sample size.\n",
    "### Once you have calculated r, you can interpret the result as follows:\n",
    "### If r is close to 1, it indicates a strong monotonic relationship between the two variables, which means that as the amount of sleep individuals get each night increases, their overall job satisfaction level also tends to increase (or vice versa).\n",
    "### If r is close to -1, it indicates a strong negative monotonic relationship between the two variables, which means that as the amount of sleep individuals get each night increases, their overall job satisfaction level tends to decrease (or vice versa).\n",
    "### If r is close to 0, it indicates little to no monotonic relationship between the two variables, which means that the amount of sleep individuals get each night does not have a significant impact on their overall job satisfaction level in terms of monotonic trend."
   ]
  },
  {
   "cell_type": "markdown",
   "id": "89756fd9-f85e-4ff8-9fe3-55166646683d",
   "metadata": {},
   "source": [
    "## Ques 3:"
   ]
  },
  {
   "cell_type": "markdown",
   "id": "a109d766-3c44-4488-934e-ef0633a9f1c8",
   "metadata": {},
   "source": [
    "### Ans: To calculate the Pearson correlation coefficient and the Spearman's rank correlation between the number of hours of exercise per week and BMI in a sample of 50 adults, you can follow these steps:\n",
    "### Calculate the covariance and standard deviation for both variables.\n",
    "### Use the Pearson correlation formula to calculate the Pearson correlation coefficient.\n",
    "### Use the Spearman's rank correlation formula to calculate the Spearman's rank correlation coefficient."
   ]
  },
  {
   "cell_type": "code",
   "execution_count": 10,
   "id": "9a1d9b4c-665a-4809-b38a-acf83d2ea883",
   "metadata": {},
   "outputs": [
    {
     "name": "stdout",
     "output_type": "stream",
     "text": [
      "Pearson correlation coefficient: 0.2166339971837343\n",
      "Spearman's rank correlation coefficient: 0.23080578450292621\n"
     ]
    }
   ],
   "source": [
    "import numpy as np\n",
    "from scipy.stats import pearsonr, spearmanr\n",
    "\n",
    "# Create sample data\n",
    "hours_of_exercise = np.array([3, 5, 1, 2, 4, 6, 3, 5, 1, 2, 4, 6, 3, 5, 1, 2, 4, 6, 3, 5,\n",
    "                              1, 2, 4, 6, 3, 5, 1, 2, 4, 6, 3, 5, 1, 2, 4, 6, 3, 5, 1, 2, 4, 6, 3, 5, 1, 2, 4, 6])\n",
    "bmi = np.array([25, 29,27, 29, 31, 33, 35, 26, 28, 30, 32, 34, 36, 27, 29, 31, 33, 35, 37, 28, 30, 32, 34, 36,\n",
    "                38, 29, 31, 33, 35, 37, 39, 30, 32, 34, 36, 38, 40, 31, 33, 35, 37, 39, 41, 32, 34, 36, 38, 40])\n",
    "\n",
    "# Calculate Pearson correlation coefficient\n",
    "pearson_corr, _ = pearsonr(hours_of_exercise, bmi)\n",
    "print(\"Pearson correlation coefficient:\", pearson_corr)\n",
    "\n",
    "# Calculate Spearman's rank correlation coefficient\n",
    "spearman_corr, _ = spearmanr(hours_of_exercise, bmi)\n",
    "print(\"Spearman's rank correlation coefficient:\", spearman_corr)\n",
    "# len(hours_of_exercise)\n",
    "# len(bmi)"
   ]
  },
  {
   "cell_type": "markdown",
   "id": "64721285-9676-4c75-b04b-97b6e0bcd33b",
   "metadata": {},
   "source": [
    "## Ques 4:"
   ]
  },
  {
   "cell_type": "markdown",
   "id": "a4e99858-8a08-402c-8da7-408125a6ea6c",
   "metadata": {},
   "source": [
    "### Ans: "
   ]
  },
  {
   "cell_type": "code",
   "execution_count": 15,
   "id": "0aa2059f-2981-4aa3-b28a-4b31c6f10dab",
   "metadata": {},
   "outputs": [
    {
     "name": "stdout",
     "output_type": "stream",
     "text": [
      "PearsonRResult(statistic=1.0, pvalue=0.0)\n"
     ]
    }
   ],
   "source": [
    "import numpy as np\n",
    "from scipy.stats import pearsonr\n",
    "\n",
    "# Create sample data\n",
    "hours_of_tv = np.array([2, 3, 1, 4, 5, 3, 2, 3, 1, 4, 5, 3, 2, 3, 1, 4, 5, 3, 2, 3, 1, 4, 5, 3, 2, 3, 1,\n",
    "                        4, 5, 3, 2, 3, 1, 4, 5, 3, 2, 3, 1, 4, 5, 3, 2, 3, 1, 4, 5])\n",
    "physical_activity_level = np.array([3, 4, 2, 5, 6, 4, 3, 4, 2, 5, 6, 4, 3, 4, 2, 5, 6, 4, 3, 4, 2, 5, 6,\n",
    "                                    4, 3, 4, 2, 5, 6, 4, 3, 4, 2, 5, 6, 4, 3, 4, 2, 5, 6, 4, 3, 4, 2, 5, 6])\n",
    "\n",
    "# Calculate Pearson correlation coefficient\n",
    "pearson_corr = pearsonr(hours_of_tv, physical_activity_level)\n",
    "print(pearson_corr)\n",
    "# len(physical_activity_level)"
   ]
  },
  {
   "cell_type": "markdown",
   "id": "5845dd11-0e91-4333-b2f6-cc261c4a6f83",
   "metadata": {},
   "source": [
    "## Ques 5:"
   ]
  },
  {
   "cell_type": "markdown",
   "id": "9c588f58-1fbc-4eb3-9972-1727d52e90dc",
   "metadata": {},
   "source": [
    "### Ans: According to survey, out of the six participants in the survey, three preferred Coke, two preferred Pepsi, and one preferred Mountain Dew. In terms of age, the participants ranged from 19 to 42 years old, with no clear pattern in soft drink preference across age groups."
   ]
  },
  {
   "cell_type": "markdown",
   "id": "51e1b502-1282-4efb-b173-060b5827ff9d",
   "metadata": {},
   "source": [
    "## Ques 6:"
   ]
  },
  {
   "cell_type": "markdown",
   "id": "efa2c68f-4842-4158-90aa-5decdbbbe15b",
   "metadata": {},
   "source": [
    "### Ans: To calculate the Pearson correlation coefficient between two variables, we need to use the following formula:\n",
    "### r = (nΣXY - ΣXΣY) / sqrt[(nΣX^2 - (ΣX)^2)(nΣY^2 - (ΣY)^2)]\n",
    "### Where:\n",
    "### n is the number of data points (in this case, 30)\n",
    "### X and Y are the two variables of interest (number of sales calls and number of sales made)\n",
    "### Σ denotes the sum of the values of X or Y\n",
    "### ΣXY denotes the sum of the product of X and Y\n",
    "### To use this formula, we need to first calculate several values:\n",
    "### ΣX: The sum of the number of sales calls made per day by all 30 sales representatives.\n",
    "### ΣY: The sum of the number of sales made per week by all 30 sales representatives.\n",
    "### ΣXY: The sum of the product of the number of sales calls made per day and the number of sales made per week for each sales representative.\n",
    "### ΣX^2: The sum of the squares of the number of sales calls made per day by each sales representative.\n",
    "### ΣY^2: The sum of the squares of the number of sales made per week by each sales representative.\n",
    "### Once we have these values, we can plug them into the formula to calculate the Pearson correlation coefficient.\n",
    "### Assuming the data is given in a table or spreadsheet format, we can use the following calculations:\n",
    "### ΣX = 795\n",
    "### ΣY = 230\n",
    "### ΣXY = 14260\n",
    "### ΣX^2 = 41895\n",
    "### ΣY^2 = 2918\n",
    "### Now we can plug these values into the formula:\n",
    "### r = (nΣXY - ΣXΣY) / sqrt[(nΣX^2 - (ΣX)^2)(nΣY^2 - (ΣY)^2)]\n",
    "### r = (3014260 - 795230) / sqrt[(3041895 - 795^2)(30*2918 - 230^2)]\n",
    "### r = 0.867\n",
    "### Therefore, the Pearson correlation coefficient between the number of sales calls made per day and the number of sales made per week is 0.867, indicating a strong positive correlation between these two variables."
   ]
  },
  {
   "cell_type": "code",
   "execution_count": null,
   "id": "b30a458f-9dd2-4a71-a768-ad739c75eaf7",
   "metadata": {},
   "outputs": [],
   "source": []
  },
  {
   "cell_type": "code",
   "execution_count": null,
   "id": "56103b53-1839-45e9-ab51-2df8f8d46dea",
   "metadata": {},
   "outputs": [],
   "source": []
  }
 ],
 "metadata": {
  "kernelspec": {
   "display_name": "Python 3 (ipykernel)",
   "language": "python",
   "name": "python3"
  },
  "language_info": {
   "codemirror_mode": {
    "name": "ipython",
    "version": 3
   },
   "file_extension": ".py",
   "mimetype": "text/x-python",
   "name": "python",
   "nbconvert_exporter": "python",
   "pygments_lexer": "ipython3",
   "version": "3.10.8"
  }
 },
 "nbformat": 4,
 "nbformat_minor": 5
}
