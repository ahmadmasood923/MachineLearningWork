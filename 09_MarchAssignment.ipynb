{
 "cells": [
  {
   "cell_type": "markdown",
   "id": "bb67f12c-0cd1-4bda-bc74-e813a0415bf9",
   "metadata": {},
   "source": [
    "## Ques 1:"
   ]
  },
  {
   "cell_type": "markdown",
   "id": "1a571c4f-82ad-4752-9581-c9b6e5d3b3f3",
   "metadata": {},
   "source": [
    "### Ans: The PMF is used for discrete random variables, while the PDF is used for continuous random variables.\n",
    "### The PMF of a discrete random variable X is a function that gives the probability that X takes on a particular value x. Mathematically, we can write the PMF as:\n",
    "### P(X = x) = p(x)\n",
    "### where p(x) is the probability that X takes on the value x. The sum of all the probabilities in the PMF is equal to 1. For example, the PMF for rolling a fair six-sided die is:\n",
    "### P(X = 1) = 1/6\n",
    "### P(X = 2) = 1/6\n",
    "### P(X = 3) = 1/6\n",
    "### P(X = 4) = 1/6\n",
    "### P(X = 5) = 1/6\n",
    "### P(X = 6) = 1/6\n",
    "### The PDF of a continuous random variable X is a function that gives the probability density at each point x in the range of X. Mathematically, we can write the PDF as:\n",
    "### f(x) = dF(x)/dx\n",
    "### where F(x) is the cumulative distribution function (CDF) of X, and dF(x)/dx is the derivative of the CDF. The area under the curve of the PDF between any two points a and b gives the probability that X lies between a and b. For example, the PDF for a standard normal distribution is:\n",
    "### f(x) = (1/√(2π)) * e^(-x^2/2)\n",
    "### This PDF describes the probability density of a normally distributed random variable with mean 0 and variance 1. The area under the curve of this PDF between any two points a and b gives the probability that a standard normal random variable lies between a and b."
   ]
  },
  {
   "cell_type": "markdown",
   "id": "5638c7cc-947a-4d64-a787-b4d98b38d235",
   "metadata": {},
   "source": [
    "## Ques 2:"
   ]
  },
  {
   "cell_type": "markdown",
   "id": "4a9700ca-6ad1-43ee-b120-e6abe0f0e1ad",
   "metadata": {},
   "source": [
    "### Ans: The Cumulative Density Function (CDF) is a mathematical function that describes the probability of a random variable taking a value less than or equal to a given value. In other words, it is the probability that a random variable X takes on a value less than or equal to a certain value x.\n",
    "### The CDF is denoted by F(x), where x is the value at which we want to evaluate the CDF. Mathematically, the CDF can be expressed as:\n",
    "### F(x) = P(X <= x)\n",
    "### where X is the random variable and P(X <= x) is the probability that X is less than or equal to x."
   ]
  },
  {
   "cell_type": "markdown",
   "id": "eb56c23d-ab4f-4420-8213-9161dbaa12e3",
   "metadata": {},
   "source": [
    "## Ques 3:"
   ]
  },
  {
   "cell_type": "markdown",
   "id": "7bfaec26-91af-4525-93af-10bce16caf24",
   "metadata": {},
   "source": [
    "### Ans: The normal distribution is a probability distribution that is commonly used to model real-world phenomena that are influenced by many small, random factors. Some examples of situations where the normal distribution might be used as a model include:\n",
    "\n",
    "### Heights or weights of people, test scores, Errors in measurments, blood pressure readings, stock prices etc.\n",
    "### The normal distribution is characterized by two parameters: the mean (μ) and the standard deviation (σ). The mean represents the center of the distribution, while the standard deviation represents the spread of the distribution.\n",
    "### When the mean is increased, the entire distribution is shifted to the right, and when the mean is decreased, the entire distribution is shifted to the left.The standard deviation, on the other hand, controls the width of the distribution. A large standard deviation means that the distribution is more spread out, while a small standard deviation means that the distribution is more tightly clustered around the mean."
   ]
  },
  {
   "cell_type": "markdown",
   "id": "9854b78e-7712-4cff-8ca7-bcacbbc3d01c",
   "metadata": {},
   "source": [
    "## Ques 4:"
   ]
  },
  {
   "cell_type": "markdown",
   "id": "be9c9fdb-2e4e-4cfd-a84a-3b987f329905",
   "metadata": {},
   "source": [
    "### Ans: The normal distribution is one of the most important and widely used probability distributions in statistics and data science. It has several important properties, including being symmetric, bell-shaped, and having a well-defined mean and standard deviation. Here are some reasons why the normal distribution is so important:\n",
    "### Many real-world phenomena follow a normal distribution: The normal distribution arises naturally in many real-world situations, such as the heights and weights of people, IQ scores, and errors in measurement. By understanding the properties of the normal distribution, we can better understand and model these phenomena."
   ]
  },
  {
   "cell_type": "markdown",
   "id": "c7526559-b27b-4497-b0e4-1098371e1e9f",
   "metadata": {},
   "source": [
    "## Ques 5:"
   ]
  },
  {
   "cell_type": "markdown",
   "id": "faaa39ea-5df0-4d9e-b410-5cd7bcb9b9d1",
   "metadata": {},
   "source": [
    "### Ans: The Bernoulli distribution is a probability distribution that models the outcomes of a single binary event, such as a coin flip or a single toss of a biased die. It is named after the Swiss mathematician Jacob Bernoulli, who introduced it in the late 17th century. The Bernoulli distribution has two possible outcomes, which are usually denoted as 0 and 1, and a single parameter p that represents the probability of the event occurring.\n",
    "### The difference between the Bernoulli distribution and the binomial distribution is that the Bernoulli distribution models a single event, while the binomial distribution models the outcomes of a series of independent, identically distributed Bernoulli trials. In other words, the binomial distribution is the sum of a fixed number of Bernoulli distributions with the same probability parameter p."
   ]
  },
  {
   "cell_type": "markdown",
   "id": "7af1ecf3-27ca-4c56-b192-9dda961f1e2e",
   "metadata": {},
   "source": [
    "## Ques 6:"
   ]
  },
  {
   "cell_type": "markdown",
   "id": "09fd856d-545b-405c-8272-cbeff8ba34d2",
   "metadata": {},
   "source": [
    "### Ans: X = N(50, 10)\n",
    "### mu = 50, sigma = 10\n",
    "### x = 60\n",
    "### z score = (x-mu)/sigma\n",
    "###         = (60-50)/10\n",
    "###         = 1\n",
    "### From z table , we find that the probability of randomly selected observation will be greater than 60 is 0.1587 or 15.87%."
   ]
  },
  {
   "cell_type": "markdown",
   "id": "302b08b9-0833-40d1-ba1e-0d59fefda0c8",
   "metadata": {},
   "source": [
    "## Ques 7:"
   ]
  },
  {
   "cell_type": "markdown",
   "id": "29ca9022-70b2-41b2-8f60-99b0dd33ba5e",
   "metadata": {},
   "source": [
    "### Ans: he uniform distribution is a probability distribution that describes a situation where all possible outcomes of an experiment are equally likely. It is often used in situations where we have a continuous range of possible values, and we want to model the probability of selecting a value from that range.\n",
    "### In a uniform distribution, the probability of selecting any individual value is the same as the probability of selecting any other value within the range. The probability density function (PDF) for a continuous uniform distribution is given by:\n",
    "### f(x) = 1 / (b - a)\n",
    "### where a is the minimum possible value in the range, b is the maximum possible value in the range, and x is any value between a and b.\n",
    "### For example, consider a situation where a restaurant offers a special promotion where customers can win a discount coupon by rolling a single fair die. If the customer rolls a 1, 2, or 3, they win a 10% discount coupon; if they roll a 4 or 5, they win a 20% discount coupon; and if they roll a 6, they win a 50% discount coupon. This situation can be modeled using a discrete uniform distribution, where each of the six possible outcomes is equally likely to occur."
   ]
  },
  {
   "cell_type": "markdown",
   "id": "f7811550-1860-462c-9a41-cd77ee21df49",
   "metadata": {},
   "source": [
    "## Ques 8:"
   ]
  },
  {
   "cell_type": "markdown",
   "id": "511131d0-e771-4541-bb4b-ce5f7b96bfc9",
   "metadata": {},
   "source": [
    "### Ans: The z-score, also known as the standard score, is a standardized measure of how many standard deviations an observation or data point is away from the mean of the dataset. It is a way of expressing the distance between an observation and the mean of the dataset in terms of the standard deviation.\n",
    "### The z-score is important because it allows us to compare observations from different datasets, even if the datasets have different units or scales. By standardizing the observations in this way, we can compare them on a common scale and make meaningful comparisons."
   ]
  },
  {
   "cell_type": "markdown",
   "id": "0719e18f-7cd9-43e8-bca6-6d7405f66c46",
   "metadata": {},
   "source": [
    "## Ques 9:"
   ]
  },
  {
   "cell_type": "markdown",
   "id": "1f1769c9-365a-4ebf-8760-d8a34d3112af",
   "metadata": {},
   "source": [
    "### Ans: The central limit theorem (CLT) is a fundamental concept in probability theory and statistics. It states that the sample means of a sufficiently large number of independent and identically distributed (i.i.d) random variables will be approximately normally distributed, regardless of the underlying distribution of the individual random variables. This means that as the sample size increases, the distribution of the sample means becomes closer and closer to a normal distribution.\n",
    "### The significance of the central limit theorem is that it provides a powerful tool for analyzing data, even in situations where we do not know the underlying distribution of the population. It also allows us to make more accurate estimates and predictions based on a sample of data, as we can use the normal distribution as an approximation for the distribution of the sample means."
   ]
  },
  {
   "cell_type": "markdown",
   "id": "31f17bda-28b7-435a-b041-1d1c3bc25f95",
   "metadata": {},
   "source": [
    "## Ques 10:"
   ]
  },
  {
   "cell_type": "markdown",
   "id": "917b24b7-7c1c-4204-aa01-6eee26b14af9",
   "metadata": {},
   "source": [
    "### Ans: The Central Limit Theorem (CLT) is a statistical theory that describes the behavior of the means of a large number of independent, identically distributed random variables. The assumptions of the CLT are:\n",
    "### 1. Independence: The random variables in the sample are independent of each other.\n",
    "### 2. Identically distributed: The random variables in the sample have the same probability distribution.\n",
    "### 3. Finite variance: The random variables in the sample have a finite variance (i.e., their variance is not infinite).\n",
    "### 4. Sample size: The sample size is large enough, typically n ≥ 30, where n is the sample size.\n",
    "### These assumptions are important because they ensure that the CLT can be used to estimate the distribution of sample means even when the population distribution is unknown or non-normal."
   ]
  },
  {
   "cell_type": "code",
   "execution_count": null,
   "id": "ce4452e9-f9e3-42f9-9ffd-904ca8dc5837",
   "metadata": {},
   "outputs": [],
   "source": []
  }
 ],
 "metadata": {
  "kernelspec": {
   "display_name": "Python 3 (ipykernel)",
   "language": "python",
   "name": "python3"
  },
  "language_info": {
   "codemirror_mode": {
    "name": "ipython",
    "version": 3
   },
   "file_extension": ".py",
   "mimetype": "text/x-python",
   "name": "python",
   "nbconvert_exporter": "python",
   "pygments_lexer": "ipython3",
   "version": "3.10.8"
  }
 },
 "nbformat": 4,
 "nbformat_minor": 5
}
