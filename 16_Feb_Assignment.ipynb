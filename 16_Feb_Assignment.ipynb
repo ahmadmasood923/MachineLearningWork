{
 "cells": [
  {
   "cell_type": "markdown",
   "id": "7c6550da-d47f-4443-824c-cc423effc56d",
   "metadata": {},
   "source": [
    "## Ques 1:"
   ]
  },
  {
   "cell_type": "markdown",
   "id": "f955b4c3-ddd6-479e-974b-cf52bef06a9e",
   "metadata": {
    "jp-MarkdownHeadingCollapsed": true,
    "tags": []
   },
   "source": [
    "### Ans:  A database is a structured collection of data that is organized and managed in a way that allows for efficient storage, retrieval, modification, and deletion of data. Databases are widely used in various applications to store and manage large amounts of structured information.\n",
    "### SQL (Structured Query Language) and NoSQL (Not Only SQL) are two different types of database management systems that differ in their data models, query languages, and architectural designs.\n",
    "### SQL Databases:\n",
    "### SQL databases use a structured data model based on tables with predefined schemas.\n",
    "### They enforce a fixed schema, meaning the structure of the data is defined before data insertion.\n",
    "### They use SQL as the query language for managing and manipulating data.\n",
    "### SQL databases are generally suitable for applications that have complex relationships between entities and require strong data consistency, such as traditional relational databases like MySQL, PostgreSQL, Oracle, and Microsoft SQL Server.\n",
    "### They are known for ACID (Atomicity, Consistency, Isolation, Durability) compliance, which ensures data integrity.\n",
    "### NoSQL Databases:\n",
    "### NoSQL databases use various data models, including key-value, document, columnar, and graph, allowing for more flexible data representation.\n",
    "### They provide a dynamic schema, meaning the structure of the data can be altered on the fly.\n",
    "### They use different query languages, such as MongoDB's BSON query language or Cassandra Query Language (CQL).\n",
    "### NoSQL databases are generally suitable for handling large amounts of unstructured or semi-structured data, such as social media data, sensor data, or real-time data.\n",
    "### They offer high scalability and performance due to their distributed and horizontally scalable architecture.\n",
    "### NoSQL databases often prioritize scalability and availability over strict data consistency and may offer eventual consistency models."
   ]
  },
  {
   "cell_type": "markdown",
   "id": "e8261ea9-d6b7-49b1-ac8a-978dcab9b27f",
   "metadata": {},
   "source": [
    "### Ques 2:"
   ]
  },
  {
   "cell_type": "markdown",
   "id": "f84ed706-33e9-46fd-a8cc-88bbad0ce035",
   "metadata": {},
   "source": [
    "### Ans: DDL stands for Data Definition Language. It is a subset of SQL (Structured Query Language) that is used to define and manage the structure of a database. DDL statements are responsible for creating, modifying, and deleting database objects such as tables, indexes, and views. DDL statements do not manipulate the actual data stored in the database but rather define the structure and organization of the data.\n",
    "### CREATE: The CREATE statement is used to create new database objects, such as tables, indexes, or views.\n",
    "### DROP: The DROP statement is used to delete existing database objects, such as tables, indexes, or views.\n",
    "### ALTER: The ALTER statement is used to modify the structure of an existing database object, such as adding or removing columns from a table.\n",
    "### TRUNCATE: The TRUNCATE statement is used to remove all data from a table, effectively emptying it. Unlike the DROP statement, TRUNCATE keeps the structure of the table intact."
   ]
  },
  {
   "cell_type": "markdown",
   "id": "53a42e5a-58eb-498d-8630-7bfc037cdcca",
   "metadata": {},
   "source": [
    "### Ques 3:"
   ]
  },
  {
   "cell_type": "markdown",
   "id": "39ac35e5-b038-4086-9b52-aa5b447a97ae",
   "metadata": {},
   "source": [
    "### Ans: DML stands for Data Manipulation Language. It is a subset of SQL (Structured Query Language) that is used to manipulate and modify data within a database. DML statements are responsible for inserting, updating, and deleting data in database tables.\n",
    "### INSERT: The INSERT statement is used to insert new data into a table.\n",
    "### UPDATE: The UPDATE statement is used to modify existing data in a table.\n",
    "### DELETE: The DELETE statement is used to remove data from a table."
   ]
  },
  {
   "cell_type": "markdown",
   "id": "f0406176-e77f-491e-b084-79b8526dcfdd",
   "metadata": {},
   "source": [
    "### Ques 4:\n"
   ]
  },
  {
   "cell_type": "markdown",
   "id": "da29ec94-e24d-442f-a7a5-38ad6631aee7",
   "metadata": {},
   "source": [
    "### Ans: DQL stands for Data Query Language. It is a subset of SQL (Structured Query Language) that is used to retrieve and query data from a database. DQL statements are primarily focused on retrieving and selecting data based on specific conditions or criteria. The most commonly used DQL statement is SELECT. It allows you to retrieve data from one or more tables in a database.\n",
    "### The SELECT statement allows for various other functionalities like sorting, aggregating data using GROUP BY, applying functions, joining multiple tables, and more. It provides a powerful and flexible way to retrieve and analyze data from a database."
   ]
  },
  {
   "cell_type": "markdown",
   "id": "451ba1d1-2d43-452a-a373-0811bbf8785d",
   "metadata": {},
   "source": [
    "### Ques 5:"
   ]
  },
  {
   "cell_type": "markdown",
   "id": "2e0baabc-c060-426f-869a-36e2d49f89a8",
   "metadata": {},
   "source": [
    "### Ans: A primary key is a column or a set of columns in a database table that uniquely identifies each record (row) in that table. It serves as a unique identifier for each record and ensures the integrity and uniqueness of the data within the table. Here are some key points about primary keys:\n",
    "### Uniqueness: Each value in the primary key column(s) must be unique. No two records in the table can have the same primary key value.\n",
    "### Non-nullability: The primary key column(s) cannot contain null values. Every record must have a valid value in the primary key column(s).\n",
    "### Indexing: By default, most database systems automatically create an index on the primary key column(s) to optimize search and retrieval operations.\n",
    "### Relationship establishment: Primary keys are often used to establish relationships between tables, particularly through foreign keys.\n",
    "### Foreign Key:\n",
    "### A foreign key is a column or a set of columns in a database table that refers to the primary key of another table. It establishes a relationship between two tables, known as the parent table and the child table. Here are some important aspects of foreign keys:\n",
    "### Relationship establishment: A foreign key in a child table references the primary key of the parent table, establishing a relationship between the two tables.\n",
    "### Referential integrity: Foreign keys enforce referential integrity, meaning that the values in the foreign key column(s) of the child table must match values in the primary key column(s) of the parent table.\n",
    "### Relationship types: Foreign key relationships can be classified as one-to-one, one-to-many, or many-to-many, depending on the cardinality of the relationship.\n",
    "### Cascading actions: In some database systems, you can define cascading actions such as ON DELETE or ON UPDATE, which automatically propagate changes made to the primary key of the parent table to the associated foreign key values in the child table."
   ]
  },
  {
   "cell_type": "markdown",
   "id": "eba62f1d-a913-4924-b6d4-6ce406bd9059",
   "metadata": {},
   "source": [
    "### Ques 6:"
   ]
  },
  {
   "cell_type": "markdown",
   "id": "ed6876ce-ed53-4d66-9358-173127c8b9ad",
   "metadata": {},
   "source": [
    "### Ans: "
   ]
  },
  {
   "cell_type": "code",
   "execution_count": 2,
   "id": "73c93c9a-bcb9-4da7-959f-6e3739d11e77",
   "metadata": {},
   "outputs": [],
   "source": [
    "import mysql.connector\n",
    "\n",
    "cnx = mysql.connector.connect(\n",
    "    host=\"localhost\",\n",
    "    user=\"your_username\",\n",
    "    password=\"your_password\",\n",
    "    database=\"your_database\"\n",
    ")\n",
    "\n",
    "cursor = cnx.cursor()\n",
    "\n",
    "query = \"SELECT * FROM your_table\"\n",
    "cursor.execute(query)\n",
    "\n",
    "results = cursor.fetchall()\n",
    "for row in results:\n",
    "    print(row)\n",
    "\n",
    "cursor.close()\n",
    "cnx.close()"
   ]
  },
  {
   "cell_type": "markdown",
   "id": "d4ba0feb-d725-483f-805b-05cbf1d496c1",
   "metadata": {},
   "source": [
    "### Ques 7:"
   ]
  },
  {
   "cell_type": "markdown",
   "id": "b7d276db-889c-4cc9-8bbe-1a5ee2fdc327",
   "metadata": {},
   "source": [
    "### Ans: The order of execution of SQL clauses in a typical SQL query is as follows:\n",
    "### FROM: Specifies the table or tables from which the data will be retrieved.\n",
    "### WHERE: Filters the data based on specified conditions.\n",
    "### GROUP BY: Groups the data based on specified columns.\n",
    "### HAVING: Filters the grouped data based on specified conditions.\n",
    "### SELECT: Specifies the columns to be retrieved from the data.\n",
    "### DISTINCT: Filters out duplicate rows from the result set (optional).\n",
    "### ORDER BY: Sorts the result set based on specified columns.\n",
    "### LIMIT/OFFSET: Limits the number of rows returned or specifies an offset for pagination (optional)."
   ]
  }
 ],
 "metadata": {
  "kernelspec": {
   "display_name": "Python 3 (ipykernel)",
   "language": "python",
   "name": "python3"
  },
  "language_info": {
   "codemirror_mode": {
    "name": "ipython",
    "version": 3
   },
   "file_extension": ".py",
   "mimetype": "text/x-python",
   "name": "python",
   "nbconvert_exporter": "python",
   "pygments_lexer": "ipython3",
   "version": "3.10.8"
  }
 },
 "nbformat": 4,
 "nbformat_minor": 5
}
