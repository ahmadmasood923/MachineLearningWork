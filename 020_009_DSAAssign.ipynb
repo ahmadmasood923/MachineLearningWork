{
 "cells": [
  {
   "cell_type": "markdown",
   "id": "3bdbea8f",
   "metadata": {},
   "source": [
    "1. Given a 1-indexed array of integers numbers that are already sorted in non-decreasing order, find two numbers such that they add up to a specific target number. Let these two numbers be numbers[index1] and numbers[index2] where 1 <= index1 < index2 < numbers.length.\n",
    "Return the indices of the two numbers, index1, and index2, added by one as an integer array [index1, index2] of length 2.\n",
    "The tests are generated such that there is exactly one solution. You may not use the same element twice.\n",
    "Your solution must use only constant extra space.\n",
    "Input: numbers = [2,7,11,15], target = 9\n",
    "Output: [1,2]\n",
    "Explanation: The sum of 2 and 7 is 9. Therefore, index1 = 1, index2 = 2. We return [1, 2].\n"
   ]
  },
  {
   "cell_type": "code",
   "execution_count": 8,
   "id": "53df0949",
   "metadata": {},
   "outputs": [],
   "source": [
    "def two_sum(numbers, target):\n",
    "    low = 0 \n",
    "    high = len(numbers) - 1\n",
    "\n",
    "    while low < high:\n",
    "        current_sum = numbers[low] + numbers[high]\n",
    "\n",
    "        if current_sum == target:\n",
    "            return [low + 1, high + 1]  # Adding 1 to get 1-indexed positions\n",
    "        elif current_sum < target:\n",
    "            low += 1\n",
    "        else:\n",
    "            high -= 1"
   ]
  },
  {
   "cell_type": "markdown",
   "id": "a0374641",
   "metadata": {},
   "source": [
    "2. Given an array of integer nums sorted in non-decreasing order, find the starting and ending position of a given target value.\n",
    "If the target is not found in the array, return [-1, -1].\n",
    "You must write an algorithm with O(log n) runtime complexity\n",
    "Input: nums = [5,7,7,8,8,10], target = 8\n",
    "Output: [3,4]\n"
   ]
  },
  {
   "cell_type": "code",
   "execution_count": 11,
   "id": "3f18625b",
   "metadata": {},
   "outputs": [],
   "source": [
    "def find_startToend(nums, target):\n",
    "    def find_first(target):\n",
    "        left, right = 0, len(nums) - 1\n",
    "        result = -1\n",
    "\n",
    "        while left <= right:\n",
    "            mid = left + (right - left) // 2\n",
    "            if nums[mid] == target:\n",
    "                result = mid\n",
    "                right = mid - 1\n",
    "            elif nums[mid] < target:\n",
    "                left = mid + 1\n",
    "            else:\n",
    "                right = mid - 1\n",
    "\n",
    "        return result\n",
    "\n",
    "    def find_last(target):\n",
    "        left, right = 0, len(nums) - 1\n",
    "        result = -1\n",
    "\n",
    "        while left <= right:\n",
    "            mid = left + (right - left) // 2\n",
    "            if nums[mid] == target:\n",
    "                result = mid\n",
    "                left = mid + 1\n",
    "            elif nums[mid] < target:\n",
    "                left = mid + 1\n",
    "            else:\n",
    "                right = mid - 1\n",
    "\n",
    "        return result\n",
    "\n",
    "    start = find_first(target)\n",
    "    end = find_last(target)\n",
    "\n",
    "    return [start, end]"
   ]
  },
  {
   "cell_type": "markdown",
   "id": "762ef644",
   "metadata": {},
   "source": [
    "3. A peak element is an element that is strictly greater than its neighbors.\n",
    "Given a 0-indexed integer array nums, find a peak element, and return its index. If the array contains multiple peaks, return the index to any of the peaks.\n",
    "You may imagine that nums[-1] = nums[n] = -∞. In other words, an element is always considered to be strictly greater than a neighbor that is outside the array.\n",
    "You must write an algorithm that runs in O(log n) time.\n",
    "Input: nums = [1,2,3,1]\n",
    "Output: 2\n",
    "Explanation: 3 is a peak element and your function should return the index number 2.\n"
   ]
  },
  {
   "cell_type": "code",
   "execution_count": 17,
   "id": "54cfeee4",
   "metadata": {},
   "outputs": [],
   "source": [
    "def find_peak(nums):\n",
    "    low = 0\n",
    "    high = len(nums) - 1\n",
    "\n",
    "    while low < high:\n",
    "        mid = low + (high - low) // 2\n",
    "\n",
    "        if nums[mid] < nums[mid + 1]:\n",
    "            low = mid + 1 \n",
    "        else:\n",
    "            high = mid \n",
    "    return low\n"
   ]
  },
  {
   "cell_type": "markdown",
   "id": "2c98a987",
   "metadata": {},
   "source": [
    "4. Given a sorted array of distinct integers and a target value, return the index if the target is found. If not, return the index where it would be if it were inserted in order.\n",
    "You must write an algorithm with O(log n) runtime complexity.\n",
    "Input: nums = [1,3,5,6], target = 5\n",
    "Output: 2\n",
    "\n",
    "Input: nums = [1,3,5,6], target = 7\n",
    "Output: 4\n"
   ]
  },
  {
   "cell_type": "code",
   "execution_count": 20,
   "id": "3487066b",
   "metadata": {},
   "outputs": [],
   "source": [
    "def search_insert(nums, target):\n",
    "    low = 0 \n",
    "    high = len(nums) - 1\n",
    "\n",
    "    while low <= high:\n",
    "        mid = low + (high - low) // 2\n",
    "\n",
    "        if nums[mid] == target:\n",
    "            return mid\n",
    "        elif nums[mid] < target:\n",
    "            low = mid + 1\n",
    "        else:\n",
    "            high = mid - 1\n",
    "\n",
    "    return low"
   ]
  },
  {
   "cell_type": "markdown",
   "id": "f68a9958",
   "metadata": {},
   "source": [
    "5. Find the majority element in the array. A majority element in an array A[] of size n is an element that appears more than n/2 times (and hence there is at most one such element). \n",
    "Input: A[]={3, 3, 4, 2, 4, 4, 2, 4, 4}\n",
    "Output: 4\n",
    "Explanation: The frequency of 4 is 5 which is greater than half of the size of the array size. \n"
   ]
  },
  {
   "cell_type": "code",
   "execution_count": 22,
   "id": "fa530886",
   "metadata": {},
   "outputs": [],
   "source": [
    "def find_majority_element(A):\n",
    "    count = {}\n",
    "    for i in A:\n",
    "        if i in count:\n",
    "            count[i]+=1\n",
    "        else:\n",
    "            count[i]=1\n",
    "    for num in count:\n",
    "        if count[num]>len(A)//2:\n",
    "            return num\n",
    "    return None"
   ]
  },
  {
   "cell_type": "markdown",
   "id": "84d66b8d",
   "metadata": {},
   "source": [
    "6. You are a product manager and currently leading a team to develop a new product. Unfortunately, the latest version of your product fails the quality check. Since each version is developed based on the previous version, all the versions after a bad version are also bad.\n",
    "Suppose you have n versions [1, 2, ..., n] and you want to find out the first bad one, which causes all the following ones to be bad.\n",
    "You are given an API bool isBadVersion(version) which returns whether the version is bad. Implement a function to find the first bad version. You should minimize the number of calls to the API.\n",
    "Input: n = 5, bad = 4\n",
    "Output: 4\n",
    "Explanation:\n",
    "call isBadVersion(3) -> false\n",
    "call isBadVersion(5) -> true\n",
    "call isBadVersion(4) -> true\n",
    "Then 4 is the first bad version.\n"
   ]
  },
  {
   "cell_type": "code",
   "execution_count": 27,
   "id": "d4297a72",
   "metadata": {},
   "outputs": [],
   "source": [
    "def first_bad_version(n):\n",
    "    low = 1\n",
    "    high = n\n",
    "\n",
    "    while low < high:\n",
    "        mid = low + (high - low) // 2\n",
    "\n",
    "        if isBadVersion(mid):\n",
    "            high = mid\n",
    "        else:\n",
    "            low = mid + 1\n",
    "\n",
    "    return low\n",
    "\n",
    "def isBadVersion(version):\n",
    "    return version >= 4  "
   ]
  },
  {
   "cell_type": "markdown",
   "id": "cea6e967",
   "metadata": {},
   "source": [
    "7. Given an array of integers, find the inversion of an array. Formally, two elements a[i] and a[j] form an inversion if a[i] > a[j] and i < j.\n",
    "N=5, arr[] = {2, 4, 1, 3, 5}\n",
    "Output: 3\n",
    "Explanation: (2,1) (4,1) and (4,3) forms an inversion in an array\n"
   ]
  },
  {
   "cell_type": "code",
   "execution_count": 29,
   "id": "fd9d0a3c",
   "metadata": {},
   "outputs": [],
   "source": [
    "def count_inversions(arr):\n",
    "    def merge(low, high):\n",
    "        merged = []\n",
    "        count = 0\n",
    "        i, j = 0, 0\n",
    "\n",
    "        while i < len(low) and j < len(high):\n",
    "            if low[i] <= high[j]:\n",
    "                merged.append(low[i])\n",
    "                i += 1\n",
    "            else:\n",
    "                merged.append(high[j])\n",
    "                j += 1\n",
    "                count += len(low) - i\n",
    "\n",
    "        merged.extend(low[i:])\n",
    "        merged.extend(high[j:])\n",
    "        return merged, count\n",
    "\n",
    "    def merge_sort(arr):\n",
    "        if len(arr) <= 1:\n",
    "            return arr, 0\n",
    "\n",
    "        mid = len(arr) // 2\n",
    "        low, count_low = merge_sort(arr[:mid])\n",
    "        high, count_high = merge_sort(arr[mid:])\n",
    "        merged, count_merge = merge(low, high)\n",
    "\n",
    "        return merged, count_low + count_high + count_merge\n",
    "\n",
    "    _, count = merge_sort(arr)\n",
    "    return count"
   ]
  },
  {
   "cell_type": "markdown",
   "id": "92407824",
   "metadata": {},
   "source": [
    "8. Given three arrays sorted in non-decreasing order, print all common elements in these arrays.\n",
    "ar1[] = {1, 5, 10, 20, 40, 80} \n",
    "ar2[] = {6, 7, 20, 80, 100} \n",
    "ar3[] = {3, 4, 15, 20, 30, 70, 80, 120} \n",
    "Output: 20, 80\n"
   ]
  },
  {
   "cell_type": "code",
   "execution_count": 31,
   "id": "04aaa32c",
   "metadata": {},
   "outputs": [],
   "source": [
    "def find_common_elements(ar1, ar2, ar3):\n",
    "    i, j, k = 0, 0, 0\n",
    "    common_elements = []\n",
    "\n",
    "    while i < len(ar1) and j < len(ar2) and k < len(ar3):\n",
    "        if ar1[i] == ar2[j] == ar3[k]:\n",
    "            common_elements.append(ar1[i])\n",
    "            i += 1\n",
    "            j += 1\n",
    "            k += 1\n",
    "        elif ar1[i] <= ar2[j] and ar1[i] <= ar3[k]:\n",
    "            i += 1\n",
    "        elif ar2[j] <= ar1[i] and ar2[j] <= ar3[k]:\n",
    "            j += 1\n",
    "        else:\n",
    "            k += 1\n",
    "\n",
    "    return common_elements"
   ]
  }
 ],
 "metadata": {
  "kernelspec": {
   "display_name": "Python 3 (ipykernel)",
   "language": "python",
   "name": "python3"
  },
  "language_info": {
   "codemirror_mode": {
    "name": "ipython",
    "version": 3
   },
   "file_extension": ".py",
   "mimetype": "text/x-python",
   "name": "python",
   "nbconvert_exporter": "python",
   "pygments_lexer": "ipython3",
   "version": "3.9.12"
  }
 },
 "nbformat": 4,
 "nbformat_minor": 5
}
