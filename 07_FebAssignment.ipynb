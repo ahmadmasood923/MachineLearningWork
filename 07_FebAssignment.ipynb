{
 "cells": [
  {
   "cell_type": "markdown",
   "id": "06647f8b-ecb8-4739-b3d0-97c4d943c654",
   "metadata": {},
   "source": [
    "## Ques 1:"
   ]
  },
  {
   "cell_type": "code",
   "execution_count": 41,
   "id": "f054261b-16c2-41e1-a8f6-b22386a0efef",
   "metadata": {},
   "outputs": [
    {
     "name": "stdin",
     "output_type": "stream",
     "text": [
      "Enter your password:  khIJ@@@88u\n"
     ]
    },
    {
     "data": {
      "text/plain": [
       "'Valid Password'"
      ]
     },
     "execution_count": 41,
     "metadata": {},
     "output_type": "execute_result"
    }
   ],
   "source": [
    "password = input(\"Enter your password: \")\n",
    "def valid_pass(password):\n",
    "    upper_count = 0\n",
    "    lower_count = 0\n",
    "    numeric_count = 0\n",
    "    special_count = 0\n",
    "    for i in password:\n",
    "        if i.islower() == True:\n",
    "            lower_count+=1\n",
    "        elif i.isupper() ==  True:\n",
    "            upper_count+=1\n",
    "        elif i.isnumeric() == True:\n",
    "            numeric_count+=1\n",
    "        elif i.islower()!=True and i.isupper()!=True and i.isnumeric()!=True:\n",
    "            special_count+=1\n",
    "    if len(password)==10 and upper_count>=2 and lower_count>=2 and numeric_count>=1 and special_count==3:\n",
    "        return \"Valid Password\"\n",
    "    else:\n",
    "        return \"Invalid Password\"\n",
    "valid_pass(password)"
   ]
  },
  {
   "cell_type": "markdown",
   "id": "6f3312c1-1ea7-4272-96fe-83f91dfc2dba",
   "metadata": {},
   "source": [
    "## Ques 2:"
   ]
  },
  {
   "cell_type": "code",
   "execution_count": 47,
   "id": "9b952064-ced5-49ca-8e69-30fcb32e5ae5",
   "metadata": {},
   "outputs": [
    {
     "name": "stdin",
     "output_type": "stream",
     "text": [
      "Enter your string:  apple\n"
     ]
    },
    {
     "name": "stdout",
     "output_type": "stream",
     "text": [
      "True\n"
     ]
    }
   ],
   "source": [
    "# Check if the string starts with a particular letter\n",
    "# Lets check if it starts with 'a' or 'A'\n",
    "str1 = input(\"Enter your string: \")\n",
    "str1=str1.lower()\n",
    "x = str1.startswith('a')\n",
    "print(x)"
   ]
  },
  {
   "cell_type": "code",
   "execution_count": 48,
   "id": "a8f71a68-1215-42d2-b980-6526b9f5df0b",
   "metadata": {},
   "outputs": [
    {
     "name": "stdin",
     "output_type": "stream",
     "text": [
      "Enter your string:  8963\n"
     ]
    },
    {
     "name": "stdout",
     "output_type": "stream",
     "text": [
      "True\n"
     ]
    }
   ],
   "source": [
    "# check if string is numeric\n",
    "str2 = input(\"Enter your string: \")\n",
    "x = str2.isnumeric()\n",
    "print(x)"
   ]
  },
  {
   "cell_type": "code",
   "execution_count": 53,
   "id": "8a57963b-a962-4a5d-99cd-43112364b8f3",
   "metadata": {},
   "outputs": [
    {
     "data": {
      "text/plain": [
       "[('orange', 80), ('mango', 99), ('grapes', 1000)]"
      ]
     },
     "execution_count": 53,
     "metadata": {},
     "output_type": "execute_result"
    }
   ],
   "source": [
    "# sorting a list of tuples\n",
    "list1 = [(\"mango\",99),(\"orange\",80), (\"grapes\", 1000)]\n",
    "list1.sort(key = lambda x:x[1])\n",
    "list1"
   ]
  },
  {
   "cell_type": "code",
   "execution_count": 55,
   "id": "6983f459-8ad3-4671-84a5-25960142cd52",
   "metadata": {},
   "outputs": [
    {
     "data": {
      "text/plain": [
       "[1, 4, 9, 16, 25, 36, 49, 64, 81, 100]"
      ]
     },
     "execution_count": 55,
     "metadata": {},
     "output_type": "execute_result"
    }
   ],
   "source": [
    "# Find the squares of numbers from 1 to 10\n",
    "list2 = list(range(1, 11))\n",
    "list3 = [i**2 for i in list2]\n",
    "list3"
   ]
  },
  {
   "cell_type": "code",
   "execution_count": 56,
   "id": "a14baea7-8375-401d-88d3-47b1a6c704d1",
   "metadata": {},
   "outputs": [
    {
     "data": {
      "text/plain": [
       "[1.0,\n",
       " 1.2599210498948732,\n",
       " 1.4422495703074083,\n",
       " 1.5874010519681994,\n",
       " 1.7099759466766968,\n",
       " 1.8171205928321397,\n",
       " 1.912931182772389,\n",
       " 2.0,\n",
       " 2.080083823051904,\n",
       " 2.154434690031884]"
      ]
     },
     "execution_count": 56,
     "metadata": {},
     "output_type": "execute_result"
    }
   ],
   "source": [
    "list2 = list(range(1, 11))\n",
    "list3 = [i**(1/3) for i in list2]\n",
    "list3"
   ]
  },
  {
   "cell_type": "code",
   "execution_count": 57,
   "id": "7841bef2-5621-42d0-bde9-434bb45284b7",
   "metadata": {},
   "outputs": [
    {
     "name": "stdin",
     "output_type": "stream",
     "text": [
      "Enter a number:  24\n"
     ]
    },
    {
     "name": "stdout",
     "output_type": "stream",
     "text": [
      "The number is even\n"
     ]
    }
   ],
   "source": [
    "# Check if a given number is even \n",
    "num = int(input(\"Enter a number: \"))\n",
    "if num%2==0:\n",
    "    print(\"The number is even\")\n",
    "else:\n",
    "    print(\"The number is odd\")"
   ]
  },
  {
   "cell_type": "code",
   "execution_count": 61,
   "id": "0ce3f6cf-16db-4d5b-ba95-ca13a51760b9",
   "metadata": {},
   "outputs": [
    {
     "data": {
      "text/plain": [
       "[1, 3, 5, 7, 9]"
      ]
     },
     "execution_count": 61,
     "metadata": {},
     "output_type": "execute_result"
    }
   ],
   "source": [
    "# Filter odd numbers from the given list\n",
    "list2 = [1,2,3,4,5,6,7,8,9,10]\n",
    "list3 = list(filter(lambda x:x%2!=0, list2))\n",
    "list3"
   ]
  },
  {
   "cell_type": "code",
   "execution_count": 66,
   "id": "30448ddc-b3ca-459b-955a-f8e83523808d",
   "metadata": {},
   "outputs": [
    {
     "name": "stdout",
     "output_type": "stream",
     "text": [
      "[1, 2, 3, 4, 5, 6]\n",
      "[-1, -2, -3, -4, -5]\n"
     ]
    }
   ],
   "source": [
    "# Sorting integer list into positive and negative integer lists\n",
    "list1 = [1,2,3,4,5,6,-1,-2,-3,-4,-5,0]\n",
    "list2 = list(filter(lambda x:x>0, list1))\n",
    "list3 = list(filter(lambda x:x<0, list1))\n",
    "print(list2)\n",
    "print(list3)"
   ]
  },
  {
   "cell_type": "code",
   "execution_count": null,
   "id": "0ae4941a-986a-4236-99ff-ac4f13de004d",
   "metadata": {},
   "outputs": [],
   "source": []
  }
 ],
 "metadata": {
  "kernelspec": {
   "display_name": "Python 3 (ipykernel)",
   "language": "python",
   "name": "python3"
  },
  "language_info": {
   "codemirror_mode": {
    "name": "ipython",
    "version": 3
   },
   "file_extension": ".py",
   "mimetype": "text/x-python",
   "name": "python",
   "nbconvert_exporter": "python",
   "pygments_lexer": "ipython3",
   "version": "3.10.8"
  }
 },
 "nbformat": 4,
 "nbformat_minor": 5
}
