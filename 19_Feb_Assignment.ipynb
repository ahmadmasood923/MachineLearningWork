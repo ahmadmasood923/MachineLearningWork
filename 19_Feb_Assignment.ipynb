{
 "cells": [
  {
   "cell_type": "markdown",
   "id": "267e7b92-b617-4048-bb29-eeffb2a08be6",
   "metadata": {},
   "source": [
    "### Ques 1:"
   ]
  },
  {
   "cell_type": "markdown",
   "id": "139d26c7-f0e3-4c19-bb03-2a731fa79442",
   "metadata": {},
   "source": [
    "### Ans: Flask is a lightweight web framework for Python that allows developers to build web applications quickly and with simplicity. It is designed to be minimalistic and follows a \"micro\" architecture, meaning it provides only the essential tools and features needed for web development.\n",
    "### Advantages of Flask Framework:\n",
    "### Simplicity: Flask is known for its simplicity and ease of use. It has a small learning curve, making it an excellent choice for beginners or developers who prefer a straightforward framework.\n",
    "### Lightweight: Flask is a lightweight framework that does not impose rigid structures or dependencies. It allows developers to choose and integrate only the necessary components and libraries, resulting in more flexibility and reduced overhead.\n",
    "### Extensibility: Flask is highly extensible, enabling developers to add additional functionality through Flask extensions or third-party libraries. It follows a modular design, allowing developers to customize and tailor their applications according to specific requirements.\n",
    "### Flexibility: Flask provides the flexibility to choose the desired tools and libraries based on the project's needs. It does not enforce any particular database or template engine, allowing developers to integrate with different components as per their preference.\n",
    "### Python Integration: Flask is built on Python, which is known for its simplicity and readability. Developers familiar with Python can leverage their existing knowledge and utilize a wide range of Python libraries and modules within their Flask applications.\n",
    "### Testing and Debugging: Flask offers a built-in development server and a powerful debugger, making it easier to test and debug applications during the development process. It provides helpful error messages and supports interactive debugging.\n",
    "### Scalability: Although Flask is a \"micro\" framework, it can handle small to medium-sized projects with ease. By leveraging additional tools and libraries, such as Flask Blueprints or Flask-SQLAlchemy, developers can scale their Flask applications as needed.\n",
    "### Active Community: Flask has a vibrant and active community of developers. This means there is a wealth of resources, tutorials, and extensions available, making it easier to find support and guidance while developing Flask applications."
   ]
  },
  {
   "cell_type": "markdown",
   "id": "759a8461-d4a0-4003-b3b6-7dfe04d90a72",
   "metadata": {},
   "source": [
    "### Ques 2:"
   ]
  },
  {
   "cell_type": "markdown",
   "id": "c6fb53cf-e874-4a6e-872f-b8dd7b94d9fa",
   "metadata": {},
   "source": [
    "### Ans: "
   ]
  },
  {
   "cell_type": "code",
   "execution_count": 7,
   "id": "8933750d-d996-4089-a824-cabf8044a358",
   "metadata": {},
   "outputs": [
    {
     "name": "stdout",
     "output_type": "stream",
     "text": [
      "Collecting flask\n",
      "  Downloading Flask-2.3.2-py3-none-any.whl (96 kB)\n",
      "\u001b[2K     \u001b[90m━━━━━━━━━━━━━━━━━━━━━━━━━━━━━━━━━━━━━━━━\u001b[0m \u001b[32m96.9/96.9 kB\u001b[0m \u001b[31m5.7 MB/s\u001b[0m eta \u001b[36m0:00:00\u001b[0m\n",
      "\u001b[?25hCollecting blinker>=1.6.2\n",
      "  Downloading blinker-1.6.2-py3-none-any.whl (13 kB)\n",
      "Collecting Werkzeug>=2.3.3\n",
      "  Downloading Werkzeug-2.3.4-py3-none-any.whl (242 kB)\n",
      "\u001b[2K     \u001b[90m━━━━━━━━━━━━━━━━━━━━━━━━━━━━━━━━━━━━━━\u001b[0m \u001b[32m242.5/242.5 kB\u001b[0m \u001b[31m28.4 MB/s\u001b[0m eta \u001b[36m0:00:00\u001b[0m\n",
      "\u001b[?25hRequirement already satisfied: click>=8.1.3 in /opt/conda/lib/python3.10/site-packages (from flask) (8.1.3)\n",
      "Requirement already satisfied: Jinja2>=3.1.2 in /opt/conda/lib/python3.10/site-packages (from flask) (3.1.2)\n",
      "Collecting itsdangerous>=2.1.2\n",
      "  Downloading itsdangerous-2.1.2-py3-none-any.whl (15 kB)\n",
      "Requirement already satisfied: MarkupSafe>=2.0 in /opt/conda/lib/python3.10/site-packages (from Jinja2>=3.1.2->flask) (2.1.1)\n",
      "Installing collected packages: Werkzeug, itsdangerous, blinker, flask\n",
      "  Attempting uninstall: blinker\n",
      "    Found existing installation: blinker 1.5\n",
      "    Uninstalling blinker-1.5:\n",
      "      Successfully uninstalled blinker-1.5\n",
      "Successfully installed Werkzeug-2.3.4 blinker-1.6.2 flask-2.3.2 itsdangerous-2.1.2\n",
      "Note: you may need to restart the kernel to use updated packages.\n"
     ]
    }
   ],
   "source": [
    "pip install flask"
   ]
  },
  {
   "cell_type": "code",
   "execution_count": null,
   "id": "76a521d4-0275-40db-83a1-332fcd06a9f1",
   "metadata": {},
   "outputs": [
    {
     "name": "stdout",
     "output_type": "stream",
     "text": [
      " * Serving Flask app '__main__'\n",
      " * Debug mode: off\n"
     ]
    },
    {
     "name": "stderr",
     "output_type": "stream",
     "text": [
      "WARNING: This is a development server. Do not use it in a production deployment. Use a production WSGI server instead.\n",
      " * Running on http://127.0.0.1:5000\n",
      "Press CTRL+C to quit\n"
     ]
    }
   ],
   "source": [
    "from flask import Flask\n",
    "\n",
    "app = Flask(__name__)\n",
    "\n",
    "@app.route('/')\n",
    "def hello():\n",
    "    return 'Hello World!!'\n",
    "\n",
    "if __name__ == '__main__':\n",
    "    app.run()"
   ]
  },
  {
   "cell_type": "markdown",
   "id": "c7abb306-521c-4333-8d14-8a609f5e2b03",
   "metadata": {},
   "source": [
    "### Ques 3:"
   ]
  },
  {
   "cell_type": "markdown",
   "id": "46f9de5b-b9ec-4547-a783-d584a24cb37e",
   "metadata": {},
   "source": [
    "### Ans: In Flask, app routing refers to the process of mapping URL paths to corresponding functions or view handlers in a web application. It allows you to define different routes or endpoints in your Flask application and associate them with specific functions that will be executed when those routes are accessed."
   ]
  },
  {
   "cell_type": "markdown",
   "id": "83e572c0-42ca-40f3-a2bc-ea097b72c62a",
   "metadata": {},
   "source": [
    "### Ques 4:"
   ]
  },
  {
   "cell_type": "markdown",
   "id": "02f3569f-d812-402c-872c-4978589714b6",
   "metadata": {},
   "source": [
    "### Ans: "
   ]
  },
  {
   "cell_type": "code",
   "execution_count": null,
   "id": "b92ee96e-620d-461e-9442-6e7aac66ff3f",
   "metadata": {},
   "outputs": [],
   "source": [
    "from flask import Flask\n",
    "\n",
    "app = Flask(__name__)\n",
    "\n",
    "@app.route('/welcome')\n",
    "def welcome():\n",
    "    return 'Welcome to ABC Corporation'\n",
    "\n",
    "@app.route('/')\n",
    "def company_details():\n",
    "    return '''\n",
    "    Company Name: ABC Corporation\n",
    "    Location: India\n",
    "    Contact Detail: 999-999-9999\n",
    "    '''\n",
    "\n",
    "if __name__ == '__main__':\n",
    "    app.run()"
   ]
  },
  {
   "cell_type": "markdown",
   "id": "b0362991-0207-4aa4-87c4-4ca0249c7012",
   "metadata": {},
   "source": [
    "### Ques 5:"
   ]
  },
  {
   "cell_type": "markdown",
   "id": "e98ab246-fdd5-43ce-93c7-2e5a71dc91ec",
   "metadata": {},
   "source": [
    "### Ans: "
   ]
  },
  {
   "cell_type": "code",
   "execution_count": null,
   "id": "1087d90d-70cf-4d65-93bd-6ebc2b74028c",
   "metadata": {},
   "outputs": [],
   "source": [
    "from flask import Flask, url_for\n",
    "\n",
    "app = Flask(__name__)\n",
    "\n",
    "@app.route('/')\n",
    "def index():\n",
    "    return 'This is the homepage'\n",
    "\n",
    "@app.route('/about')\n",
    "def about():\n",
    "    return 'This is the about page'\n",
    "\n",
    "@app.route('/contact')\n",
    "def contact():\n",
    "    return 'This is the contact page'\n",
    "\n",
    "@app.route('/user/<username>')\n",
    "def user_profile(username):\n",
    "    return f'This is the profile page of {username}'\n",
    "\n",
    "@app.route('/profile')\n",
    "def profile():\n",
    "    username = 'JohnDoe'\n",
    "    # Generating the URL for the 'user_profile' function dynamically\n",
    "    profile_url = url_for('user_profile', username=username)\n",
    "    return f'This is the profile page.<br>Username: {username}<br>Profile URL: {profile_url}'\n",
    "\n",
    "if __name__ == '__main__':\n",
    "    app.run()"
   ]
  },
  {
   "cell_type": "code",
   "execution_count": null,
   "id": "9292ab91-a685-4fc3-85b2-b1b030826487",
   "metadata": {},
   "outputs": [],
   "source": []
  }
 ],
 "metadata": {
  "kernelspec": {
   "display_name": "Python 3 (ipykernel)",
   "language": "python",
   "name": "python3"
  },
  "language_info": {
   "codemirror_mode": {
    "name": "ipython",
    "version": 3
   },
   "file_extension": ".py",
   "mimetype": "text/x-python",
   "name": "python",
   "nbconvert_exporter": "python",
   "pygments_lexer": "ipython3",
   "version": "3.10.8"
  }
 },
 "nbformat": 4,
 "nbformat_minor": 5
}
