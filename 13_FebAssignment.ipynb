{
 "cells": [
  {
   "cell_type": "markdown",
   "id": "b6c271d4-dac0-41e1-88c8-6a4f6217ab05",
   "metadata": {},
   "source": [
    "## Ques 1:"
   ]
  },
  {
   "cell_type": "markdown",
   "id": "a4ebe8b1-e3fc-4a7d-bc8a-62c955df3924",
   "metadata": {},
   "source": [
    "### Ans: In Python, we use the Exception class as the base class for creating custom exceptions. This is because the Exception class is the parent class of all built-in exception classes in Python, and provides a standard interface for creating and handling exceptions.\n",
    "### When we create a custom exception, we want it to inherit from the Exception class so that it can have access to all the standard exception handling methods and attributes provided by the Exception class, such as __str__() and args. This ensures that our custom exception behaves consistently with other built-in exceptions in Python and can be handled using the same exception handling mechanisms."
   ]
  },
  {
   "cell_type": "markdown",
   "id": "3c23ab56-59d9-4465-a06c-a1cf0c1123d8",
   "metadata": {},
   "source": [
    "## Ques 2:"
   ]
  },
  {
   "cell_type": "markdown",
   "id": "addbec6b-fb79-42ef-b1ff-d782a86073cc",
   "metadata": {},
   "source": [
    "### Ans: "
   ]
  },
  {
   "cell_type": "code",
   "execution_count": 3,
   "id": "fbbbbbd3-de26-444e-80e0-57d793eb0b4c",
   "metadata": {},
   "outputs": [],
   "source": [
    "def print_exception_hierarchy(exc_class, indent=0):\n",
    "    print(' ' * indent + exc_class.__name__)\n",
    "    for subclass in exc_class.__subclasses__():\n",
    "        print_exception_hierarchy(subclass, indent + 4)\n",
    "\n",
    "print_exception_hierarchy(Exception)"
   ]
  },
  {
   "cell_type": "markdown",
   "id": "0398ed57-4cbf-4de8-b25b-1f26f3894c64",
   "metadata": {},
   "source": [
    "## Ques 3:"
   ]
  },
  {
   "cell_type": "markdown",
   "id": "cf87357f-352b-4cfd-b9d6-c5ce1c12dd07",
   "metadata": {},
   "source": [
    "### Ans: The ArithmeticError class is a built-in exception class in Python that serves as the base class for mathematical errors that occur during the execution of a program. It is a subclass of the Exception class and is itself the parent class of several specific exception classes that represent different types of arithmetic errors.\n",
    "### Two examples of specific exceptions that are defined in the ArithmeticError class are ZeroDivisionError and FloatingPointError."
   ]
  },
  {
   "cell_type": "markdown",
   "id": "13c2d5db-5856-4c50-b51c-9e2d8b55d9b6",
   "metadata": {},
   "source": [
    "## Ques 4:"
   ]
  },
  {
   "cell_type": "markdown",
   "id": "b233830f-52db-447e-97c6-d157ea226c7f",
   "metadata": {},
   "source": [
    "### Ans: The LookupError class is a built-in exception class in Python that serves as the base class for key and index lookup errors. It is a subclass of the Exception class and is itself the parent class of several specific exception classes that represent different types of lookup errors.\n",
    "### Two examples of specific exceptions that are defined in the LookupError class are KeyError and IndexError."
   ]
  },
  {
   "cell_type": "markdown",
   "id": "11140f3d-01a5-46f9-bab2-c0e3b3dd690b",
   "metadata": {},
   "source": [
    "## Ques 5:"
   ]
  },
  {
   "cell_type": "markdown",
   "id": "4fa3509f-a457-437b-a7ef-5277fdd60dcc",
   "metadata": {},
   "source": [
    "### Ans: In Python, ImportError is a built-in exception that is raised when a module, package, or module member (such as a function or class) could not be imported or found during the execution of a program. This error occurs when the Python interpreter cannot find the specified module or when there are errors in the module code that prevent it from being imported.\n",
    "### For example, if you try to import a module that does not exist you will get an import error."
   ]
  },
  {
   "cell_type": "markdown",
   "id": "104e58ee-10b8-426a-8ce5-77e290a6076c",
   "metadata": {},
   "source": [
    "## Ques 6:"
   ]
  },
  {
   "cell_type": "markdown",
   "id": "2c0d43cb-91d2-4272-8cdc-b59692a5c717",
   "metadata": {},
   "source": [
    "### Ans: Here are some best practices for exception handling in Python:\n",
    "### Use specific exception types: When catching exceptions, it's important to use specific exception types rather than generic ones. This allows you to handle different exceptions differently and helps to make your code more robust.\n",
    "### Keep the try block as small as possible: You should only include the code that might raise an exception in the try block. Keeping the try block small helps to make your code more readable and easier to debug.\n",
    "### Use the finally block: The finally block is used to execute code that should always run, regardless of whether an exception was raised or not. This is useful for closing files or releasing resources.\n",
    "### Don't use bare except clauses: Using a bare except clause (i.e., except without an exception type) is generally considered bad practice because it catches all exceptions, including ones that you might not have intended to catch. Always use specific exception types in except clauses.\n",
    "### Handle exceptions at the right level: Exceptions should be handled at the right level of abstraction. For example, if an exception occurs in a lower-level function, it should be caught and handled in the calling function.\n",
    "### Log exceptions: Logging exceptions can help you to diagnose and debug problems in your code. You should log the exception message, as well as any relevant context.\n",
    "### Raise exceptions when necessary: You should raise exceptions when necessary to indicate that an error has occurred. This can help to make your code more modular and easier to test.\n",
    "### Use context managers: Context managers, such as the with statement, can be used to handle resources, such as files or database connections, in a safe and consistent manner. They also ensure that resources are properly cleaned up when exceptions occur.\n",
    "### Don't use exceptions for flow control: Exceptions should not be used for flow control because they can be expensive in terms of performance. Instead, use conditional statements or other control structures to handle different cases."
   ]
  },
  {
   "cell_type": "code",
   "execution_count": null,
   "id": "174a2fb1-cf97-4aae-93d2-27bfdf433fec",
   "metadata": {},
   "outputs": [],
   "source": []
  }
 ],
 "metadata": {
  "kernelspec": {
   "display_name": "Python 3 (ipykernel)",
   "language": "python",
   "name": "python3"
  },
  "language_info": {
   "codemirror_mode": {
    "name": "ipython",
    "version": 3
   },
   "file_extension": ".py",
   "mimetype": "text/x-python",
   "name": "python",
   "nbconvert_exporter": "python",
   "pygments_lexer": "ipython3",
   "version": "3.10.8"
  }
 },
 "nbformat": 4,
 "nbformat_minor": 5
}
