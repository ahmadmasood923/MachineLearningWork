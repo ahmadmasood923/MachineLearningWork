{
 "cells": [
  {
   "cell_type": "markdown",
   "id": "392293f4-7fb2-4a63-bcac-100b7734558d",
   "metadata": {},
   "source": [
    "## Ques 1:"
   ]
  },
  {
   "cell_type": "markdown",
   "id": "069f17f5-25c4-48ab-b0f9-75f204bbaf59",
   "metadata": {},
   "source": [
    "### Ans: A t-test and a z-test are statistical tests used to compare a sample mean to a population mean or to compare the means of two different samples. The main difference between a t-test and a z-test is that a t-test is used when the sample size is small or when the population variance is unknown, while a z-test is used when the sample size is large and the population variance is known.\n",
    "### A t-test is a statistical test that compares a sample mean to a known or hypothesized population mean when the sample size is small or when the population variance is unknown. For example, a researcher may want to test whether the mean height of a sample of 30 people is different from the mean height of the population. Since the population variance is unknown, the researcher can use a t-test to determine whether the difference between the sample mean and the population mean is statistically significant."
   ]
  },
  {
   "cell_type": "markdown",
   "id": "925074ce-d204-436c-aab2-fed25ff296c7",
   "metadata": {},
   "source": [
    "## Ques 2:"
   ]
  },
  {
   "cell_type": "markdown",
   "id": "f77b4900-fd07-4225-9429-8f5aa0feae58",
   "metadata": {},
   "source": [
    "### Ans: One-tailed and two-tailed tests are two types of hypothesis tests used in statistics to evaluate the likelihood of a particular outcome.\n",
    "### A one-tailed test is a hypothesis test where the alternative hypothesis is stated in a way that suggests that the effect being tested occurs in only one direction. This means that the researcher is only interested in determining whether the effect is either greater than or less than a certain value. For example, a one-tailed test might be used to determine whether a new drug is more effective than an existing drug, or whether a new advertising campaign leads to an increase in sales.\n",
    "### In contrast, a two-tailed test is a hypothesis test where the alternative hypothesis is stated in a way that suggests that the effect being tested can occur in either direction. This means that the researcher is interested in determining whether the effect is either greater than or less than a certain value, but also whether it is simply different from that value. For example, a two-tailed test might be used to determine whether a new fertilizer increases crop yield, without making any assumptions about whether it increases or decreases it."
   ]
  },
  {
   "cell_type": "markdown",
   "id": "e82d5898-315a-4ff9-89d0-fef1cdb225e1",
   "metadata": {},
   "source": [
    "## Ques 3:"
   ]
  },
  {
   "cell_type": "markdown",
   "id": "b2d071d4-5eac-4883-b6ae-b110892ded59",
   "metadata": {},
   "source": [
    "### Ans:  Type 1 error occurs when the null hypothesis is rejected even though it is true. In other words, the test concludes that there is a significant difference between the groups being compared, when in fact there is no significant difference. The probability of making a Type 1 error is denoted by the symbol alpha (α) and is typically set at 0.05 or 0.01.\n",
    "### An example scenario for a Type 1 error is a medical researcher testing a new drug. The null hypothesis in this case would be that the drug has no effect on the patients, and the alternative hypothesis would be that the drug does have an effect. If the researcher concludes that the drug is effective when in reality it is not, this would be a Type 1 error.\n",
    "### A Type 2 error occurs when the null hypothesis is not rejected even though it is false. In other words, the test concludes that there is no significant difference between the groups being compared, when in fact there is a significant difference. The probability of making a Type 2 error is denoted by the symbol beta (β) and is typically set at 0.2 or 0.1.\n",
    "### An example scenario for a Type 2 error is a medical researcher testing a new drug. The null hypothesis in this case would be that the drug has no effect on the patients, and the alternative hypothesis would be that the drug does have an effect. If the researcher concludes that the drug is not effective when in reality it is, this would be a Type 2 error."
   ]
  },
  {
   "cell_type": "markdown",
   "id": "35310838-6bcc-4c4d-ba27-0884bc24785d",
   "metadata": {},
   "source": [
    "## Ques 4:"
   ]
  },
  {
   "cell_type": "markdown",
   "id": "f22db136-8f1f-4bf2-86f8-aecef03e4f4f",
   "metadata": {},
   "source": [
    "### Ans: Bayes's theorem is a statistical rule used to update the probability of a hypothesis based on new evidence. The theorem is named after Thomas Bayes, an 18th-century British statistician, and theologian.\n",
    "### Bayes's theorem can be stated as follows:\n",
    "### P(A|B) = (P(B|A) * P(A)) / P(B)\n",
    "### where P(A|B) is the probability of hypothesis A given the observed evidence B, P(B|A) is the probability of observing evidence B given that hypothesis A is true, P(A) is the prior probability of hypothesis A, and P(B) is the prior probability of evidence B.\n",
    "### Here's an example to illustrate how Bayes's theorem works in practice:\n",
    "### Suppose a medical test is designed to detect a rare disease that affects 1 in 10,000 people. The test is 99% accurate, meaning that the probability of a false positive (i.e., the test says you have the disease when you don't) is 1%, and the probability of a false negative (i.e., the test says you don't have the disease when you do) is also 1%."
   ]
  },
  {
   "cell_type": "markdown",
   "id": "7ebced3e-e937-4b12-bae3-b2621d81d7a1",
   "metadata": {},
   "source": [
    "## Ques 5:"
   ]
  },
  {
   "cell_type": "markdown",
   "id": "e1c95298-f257-4c16-bcb4-fc14b12b3e6c",
   "metadata": {},
   "source": [
    "### Ans: A confidence interval is a statistical range of values that is likely to contain the true population parameter of interest. In other words, it provides a range of values within which we can be reasonably confident that the true population value lies. Confidence intervals are commonly used in inferential statistics to estimate population parameters such as means, proportions, or variances based on a sample.\n",
    "### To calculate a confidence interval, we typically start by selecting a confidence level, which is the probability that the interval will contain the true population value. Common confidence levels are 90%, 95%, and 99%. The corresponding significance levels are 0.1, 0.05, and 0.01, respectively.\n",
    "### The formula to calculate a confidence interval depends on the parameter of interest and the distribution of the sample data. Here is an example of how to calculate a confidence interval for the population mean:\n",
    "### Suppose we want to estimate the average height of all the students in a particular school. We take a random sample of 100 students and measure their heights. The sample mean is 68 inches, and the sample standard deviation is 3 inches.\n",
    "### To calculate a 95% confidence interval for the population mean height, we can use the following formula:\n",
    "### CI = X̄ ± z * (σ / sqrt(n))\n",
    "### where CI is the confidence interval, X̄ is the sample mean, z is the critical value from the standard normal distribution corresponding to a 95% confidence level (which is approximately 1.96), σ is the population standard deviation (which we don't know, so we use the sample standard deviation as an estimate), and n is the sample size.\n",
    "### Plugging in the values, we get:\n",
    "### CI = 68 ± 1.96 * (3 / sqrt(100))\n",
    "### CI = 68 ± 0.588\n",
    "### The confidence interval is therefore (67.412, 68.588). This means that we can be 95% confident that the true population mean height lies within this range. We can interpret this as follows: if we were to repeat the sampling process many times and calculate a confidence interval for each sample, 95% of those intervals would contain the true population mean height."
   ]
  },
  {
   "cell_type": "markdown",
   "id": "ff2d3ac7-50f5-42e1-a246-7d75d40aaa71",
   "metadata": {},
   "source": [
    "## Ques 6:"
   ]
  },
  {
   "cell_type": "markdown",
   "id": "51f701e0-0458-4a3e-b993-81a54391c66e",
   "metadata": {},
   "source": [
    "### Ans: Suppose that 10% of the population has a certain medical condition, and a diagnostic test for the condition has a sensitivity of 80% and a specificity of 90%. If a person tests positive for the condition, what is the probability that they actually have the condition?\n",
    "### Solution:\n",
    "### Let's use the following notation:\n",
    "### A: the event that a person has the medical condition\n",
    "### B: the event that a person tests positive for the condition\n",
    "### We are given the following probabilities:\n",
    "### P(A) = 0.1 (prior probability of having the condition)\n",
    "### P(B | A) = 0.8 (probability of testing positive given that the person has the condition)\n",
    "### P(B | not A) = 0.1 (probability of testing positive given that the person does not have the condition)\n",
    "### We want to find P(A | B), the probability of having the condition given that the person tests positive. We can use Bayes' Theorem to do this:\n",
    "### P(A | B) = P(B | A) * P(A) / P(B)\n",
    "### where P(B) is the probability of testing positive, which we can calculate using the Law of Total Probability:\n",
    "### P(B) = P(B | A) * P(A) + P(B | not A) * P(not A)\n",
    "### where P(not A) = 1 - P(A) is the probability of not having the condition.\n",
    "### Plugging in the values, we get:\n",
    "### P(B) = 0.8 * 0.1 + 0.1 * 0.9 = 0.17\n",
    "### Now we can calculate P(A | B):\n",
    "### P(A | B) = P(B | A) * P(A) / P(B) = 0.8 * 0.1 / 0.17 = 0.47\n",
    "### Therefore, the probability of a person actually having the medical condition given that they test positive is 0.47 or 47%."
   ]
  },
  {
   "cell_type": "markdown",
   "id": "f346ef52-c5c8-46d5-8d04-27defb64feef",
   "metadata": {},
   "source": [
    "## Ques 7:"
   ]
  },
  {
   "cell_type": "markdown",
   "id": "889cb216-1f0f-4fdf-a155-3ff8a60b43d2",
   "metadata": {},
   "source": [
    "### Ans: Let's assume that the sample size is 100.\n",
    "### To calculate the 95% confidence interval for a sample of data with a mean of 50 and a standard deviation of 5, we can use the formula:\n",
    "### CI = X̄ ± z * (σ / sqrt(n))\n",
    "### where CI is the confidence interval, X̄ is the sample mean, z is the critical value from the standard normal distribution corresponding to a 95% confidence level (which is approximately 1.96), σ is the population standard deviation (which we don't know, so we use the sample standard deviation as an estimate), and n is the sample size.\n",
    "### Plugging in the values, we get:\n",
    "### CI = 50 ± 1.96 * (5 / sqrt(n))\n",
    "### For example, if the sample size were 100, then the confidence interval would be:\n",
    "### CI = 50 ± 1.96 * (5 / sqrt(100))\n",
    "### CI = 50 ± 0.98\n",
    "### The confidence interval is therefore (49.02, 50.98). This means that we can be 95% confident that the true population mean lies within this range. We can interpret this as follows: if we were to repeat the sampling process many times and calculate a confidence interval for each sample, 95% of those intervals would contain the true population mean. In other words, there is a high probability that the true population mean is within this range, based on the sample data we have."
   ]
  },
  {
   "cell_type": "markdown",
   "id": "66c30d86-a6bc-42a5-bd33-003aeb02f937",
   "metadata": {},
   "source": [
    "## Ques 8:"
   ]
  },
  {
   "cell_type": "markdown",
   "id": "f26655b7-d044-4e14-8449-169b7d5fa9a8",
   "metadata": {},
   "source": [
    "### Ans: The margin of error in a confidence interval is the amount of error that we allow for in our estimate of a population parameter. It represents the range of values that we expect the true population parameter to fall within, given a certain level of confidence.\n",
    "### The margin of error is influenced by several factors, including the sample size, the level of confidence, and the variability of the data. In general, a larger sample size will result in a smaller margin of error, because a larger sample size reduces the variability of the data and increases the precision of our estimate.\n",
    "### For example, suppose we want to estimate the average income of households in a certain city, and we take a sample of 100 households. If we calculate a 95% confidence interval for the mean income, the margin of error might be around $2,000.\n",
    "### However, if we were to take a larger sample of 1,000 households, the margin of error would be smaller. This is because a larger sample size reduces the variability of the data and increases the precision of our estimate. With a larger sample size, we might get a margin of error of only $500, which would give us a more precise estimate of the true population mean."
   ]
  },
  {
   "cell_type": "markdown",
   "id": "34e54ddd-0793-4041-90c4-cec9426ecf61",
   "metadata": {},
   "source": [
    "## Ques 9:"
   ]
  },
  {
   "cell_type": "markdown",
   "id": "3de9fce1-3937-418d-8d10-a5c8d9c64600",
   "metadata": {},
   "source": [
    "### Ans: To calculate the z-score for a data point with a value of 75, we use the formula:\n",
    "### z = (x - μ) / σ\n",
    "### where x is the value of the data point, μ is the population mean, and σ is the population standard deviation.\n",
    "### Plugging in the values, we get:\n",
    "### z = (75 - 70) / 5 = 1\n",
    "### Therefore, the z-score for a data point with a value of 75, a population mean of 70, and a population standard deviation of 5 is 1.\n",
    "### Interpretation: The z-score of 1 indicates that the data point of 75 is one standard deviation above the population mean of 70. This means that the data point is above average relative to the population, and falls within the top 16% of the distribution (according to the standard normal distribution table)."
   ]
  },
  {
   "cell_type": "markdown",
   "id": "9b28456c-f2fc-47cd-af65-42dabbe45362",
   "metadata": {},
   "source": [
    "## Ques 10:"
   ]
  },
  {
   "cell_type": "markdown",
   "id": "6c8fdfd7-6ae7-4baa-83d6-b4ccda86fe67",
   "metadata": {},
   "source": [
    "### Ans: To conduct a hypothesis test to determine if the new weight loss drug is significantly effective at a 95% confidence level using a t-test, we can follow these steps:\n",
    "### Step 1: State the null and alternative hypotheses\n",
    "### The null hypothesis (H0) is that the drug is not significantly effective, and the alternative hypothesis (Ha) is that the drug is significantly effective. We can express these hypotheses as:\n",
    "### H0: μ = μ0 (the population mean weight loss is equal to a specific value)\n",
    "### Ha: μ ≠ μ0 (the population mean weight loss is not equal to a specific value)\n",
    "### Step 2: Determine the significance level and the test statistic\n",
    "### We are conducting a two-tailed test at a 95% confidence level, which means that the significance level (α) is 0.05/2 = 0.025 for each tail. We can use The t-test statistic to test our hypothesis, which is calculated as:\n",
    "### t = (x̄ - μ0) / (s / sqrt(n))\n",
    "### where x̄ is the sample mean, μ0 is the hypothesized population mean, s is the sample standard deviation, and n is the sample size.\n",
    "### Plugging in the values, we get:\n",
    "### t = (6 - μ0) / (2.5 / sqrt(50))\n",
    "### Step 3: Determine the critical value and the p-value\n",
    "### Since we are conducting a two-tailed test at a 95% confidence level, we need to find the critical value of t with degrees of freedom (df) equal to n-1=49 and a significance level of 0.025. From a t-distribution table, the critical value is approximately ±2.009.\n",
    "### We can also use software or a calculator to find the p-value associated with the test statistic. Using a t-distribution calculator or software, we find that the p-value is very small, approximately 0.000004.\n",
    "### Step 4: Make a decision and interpret the results\n",
    "### Comparing the test statistic (t) to the critical value (±2.009), we find that t is much greater than 2.009 in absolute value, which means we can reject the null hypothesis. Alternatively, we can compare the p-value (0.000004) to the significance level (0.025), and we find that the p-value is smaller than the significance level, which means we can reject the null hypothesis.\n",
    "### Therefore, we can conclude that the weight loss drug is significantly effective at a 95% confidence level. The sample data provides evidence that the drug causes a statistically significant reduction in weight loss."
   ]
  },
  {
   "cell_type": "markdown",
   "id": "ea25e955-d8ce-4de1-b22b-1f38eaf77829",
   "metadata": {},
   "source": [
    "## Ques 11:"
   ]
  },
  {
   "cell_type": "markdown",
   "id": "68159eaa-4028-4065-b04a-bd4fbb52b1cb",
   "metadata": {},
   "source": [
    "### Ans: To calculate the 95% confidence interval for the true proportion of people who are satisfied with their job, we can use the following formula:\n",
    "### CI = p ± zsqrt((p(1-p))/n)\n",
    "### Where:\n",
    "### p = proportion of people in the sample who reported being satisfied with their job\n",
    "### z = the critical value for a 95% confidence interval (1.96)\n",
    "### n = the sample size\n",
    "### Plugging in the values we have:\n",
    "### p = 0.65\n",
    "### z = 1.96\n",
    "### n = 500\n",
    "### CI = 0.65 ± 1.96sqrt((0.65(1-0.65))/500)\n",
    "### CI = 0.65 ± 0.043\n",
    "### CI = (0.607, 0.693)\n",
    "### Therefore, we can be 95% confident that the true proportion of people who are satisfied with their job lies between 60.7% and 69.3%."
   ]
  },
  {
   "cell_type": "markdown",
   "id": "26a6f5f9-fee3-4261-a839-623e3bdb10a0",
   "metadata": {},
   "source": [
    "## Ques 12:"
   ]
  },
  {
   "cell_type": "markdown",
   "id": "311bebd3-281d-4d3c-80dd-6b9e19f9d3ea",
   "metadata": {},
   "source": [
    "### Ans: To test whether there is a significant difference in student performance between the two teaching methods, we can use a two-sample t-test.\n",
    "#### The null hypothesis is that there is no significant difference between the mean scores of the two teaching methods, while the alternative hypothesis is that there is a significant difference.\n",
    "#### H0: μA = μB\n",
    "#### Ha: μA ≠ μB\n",
    "#### Where:\n",
    "#### μA is the population mean of sample A\n",
    "#### μB is the population mean of sample B\n",
    "#### We will use a t-test because we do not know the population standard deviations, and the sample sizes are relatively small (less than 30).\n",
    "#### The formula for the t-statistic for independent samples is:\n",
    "#### t = (x̄A - x̄B) / (s_pool * sqrt(1/nA + 1/nB))\n",
    "#### Where:\n",
    "#### x̄A is the sample mean of sample A\n",
    "#### x̄B is the sample mean of sample B\n",
    "#### s_pool is the pooled standard deviation\n",
    "#### nA is the sample size of sample A\n",
    "#### nB is the sample size of sample B\n",
    "#### The pooled standard deviation is calculated as:\n",
    "#### s_pool = sqrt(((nA-1)*sA^2 + (nB-1)*sB^2)/(nA+nB-2))\n",
    "#### Where:\n",
    "#### sA is the sample standard deviation of sample A\n",
    "#### sB is the sample standard deviation of sample B\n",
    "#### Plugging in the values we have:\n",
    "#### x̄A = 85\n",
    "#### sA = 6\n",
    "#### nA = ?\n",
    "#### x̄B = 82\n",
    "#### sB = 5\n",
    "#### nB = ?\n",
    "#### α = 0.01\n",
    "#### We need to find the sample sizes for each sample. We can solve for the sample sizes by assuming a specific effect size, which is the difference in means divided by the pooled standard deviation:\n",
    "#### d = (x̄A - x̄B) / s_pool\n",
    "#### Assuming a medium effect size of 0.5, we can solve for the sample sizes:\n",
    "#### d = 0.5\n",
    "#### s_pool = sqrt(((nA-1)*sA^2 + (nB-1)*sB^2)/(nA+nB-2))\n",
    "#### 0.5 = (85-82) / s_pool\n",
    "#### s_pool = (85-82) / 0.5\n",
    "#### s_pool = 6\n",
    "#### 6 = sqrt(((nA-1)*6^2 + (nB-1)*5^2)/(nA+nB-2))\n",
    "#### nA + nB = 87.72\n",
    "#### Since we do not have fractional sample sizes, we can round up to the nearest integer:\n",
    "#### nA = 44\n",
    "#### nB = 44\n",
    "#### We can now calculate the t-statistic:\n",
    "#### s_pool = sqrt(((44-1)*6^2 + (44-1)*5^2)/(44+44-2)) = 5.537\n",
    "#### t = (85-82) / (5.537 * sqrt(1/44 + 1/44)) = 3 / 1.662 = 1.803\n",
    "#### The degrees of freedom are:\n",
    "#### df = nA + nB - 2 = 86\n",
    "#### Using a t-table or calculator with 86 degrees of freedom, we can find the critical t-value for a two-tailed test at a significance level of 0.01:\n",
    "#### t_critical = ±2.611\n",
    "#### Since our calculated t-value (1.803) is less than the critical t-value (2.611), we fail to reject the null hypothesis. Therefore, we do not have enough evidence to conclude that there is a significant difference in student performance between the two teaching"
   ]
  },
  {
   "cell_type": "markdown",
   "id": "c2d5ec2c-95a5-42a8-92d9-3f4c686a25f7",
   "metadata": {},
   "source": [
    "## Ques 13:"
   ]
  },
  {
   "cell_type": "markdown",
   "id": "855caf7b-cdec-4bb1-b3cd-d1190cadab8c",
   "metadata": {},
   "source": [
    "### Ans: The 90% confidence interval for the true population mean is:\n",
    "### CI = 65 ± 1.645*(8/√50)\n",
    "### Where 65 is the sample mean, 8 is the sample standard deviation, and 50 is the sample size. The critical value for a 90% confidence interval, z, is 1.645 from the standard normal distribution table."
   ]
  },
  {
   "cell_type": "markdown",
   "id": "3aee2cac-7ad9-4f0c-913d-dc728dfa9ab1",
   "metadata": {},
   "source": [
    "## Ques 14:"
   ]
  },
  {
   "cell_type": "markdown",
   "id": "ddbf99c3-75aa-45e6-8497-bdef17bfef8a",
   "metadata": {},
   "source": [
    "### Ans: We are given a sample of 30 participants with an average reaction time of 0.25 seconds and a standard deviation of 0.05 seconds.\n",
    "### We want to test if caffeine has a significant effect on reaction time using a one-sample t-test with a 90% confidence level. The null hypothesis is that there is no significant effect of caffeine on reaction time, while the alternative hypothesis is that there is a significant effect.\n",
    "### We can calculate the t-value using the formula: t = (x̄ - μ0) / (s/√n), where x̄ is the sample mean, μ0 is the hypothesized population mean, s is the sample standard deviation, and n is the sample size.\n",
    "### Assuming that the hypothesized population mean is also 0.25 seconds, the calculated t-value is 0. Since the calculated t-value is not greater than the critical value of ±1.699 at the 90% confidence level, we fail to reject the null hypothesis and conclude that there is no significant effect of caffeine on reaction time based on this sample."
   ]
  },
  {
   "cell_type": "code",
   "execution_count": null,
   "id": "3feb1bef-443c-420e-b927-939197a71c74",
   "metadata": {},
   "outputs": [],
   "source": []
  }
 ],
 "metadata": {
  "kernelspec": {
   "display_name": "Python 3 (ipykernel)",
   "language": "python",
   "name": "python3"
  },
  "language_info": {
   "codemirror_mode": {
    "name": "ipython",
    "version": 3
   },
   "file_extension": ".py",
   "mimetype": "text/x-python",
   "name": "python",
   "nbconvert_exporter": "python",
   "pygments_lexer": "ipython3",
   "version": "3.10.8"
  }
 },
 "nbformat": 4,
 "nbformat_minor": 5
}
