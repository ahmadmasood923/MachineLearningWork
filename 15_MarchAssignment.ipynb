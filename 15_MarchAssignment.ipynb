{
 "cells": [
  {
   "cell_type": "markdown",
   "id": "8a4d9829-bd48-4453-bdd8-198b8c5449d8",
   "metadata": {},
   "source": [
    "### Ques 1:"
   ]
  },
  {
   "cell_type": "markdown",
   "id": "d3a55262-4636-417a-a8d5-7153c408dd42",
   "metadata": {},
   "source": [
    "### Ans: Artificial Intelligence (AI): AI is a broad field that encompasses the development of algorithms and systems that can perform tasks that typically require human intelligence, such as perception, reasoning, and decision-making. One example of AI is natural language processing (NLP) algorithms used in virtual assistants like Siri or Alexa. \n",
    "### Machine Learning (ML): Machine learning is a subset of AI that involves the development of algorithms that can learn from and make predictions or decisions based on data. One example of machine learning is image recognition. Algorithms can be trained on large datasets of images and learn to recognize specific objects or patterns within those images. This technology is used in self-driving cars to recognize and react to objects in their environment.\n",
    "### Deep Learning (DL): Deep learning is a subset of machine learning that involves the use of artificial neural networks to learn from large datasets. One example of deep learning is image classification. A deep learning algorithm can learn to recognize specific features within images and use those features to classify new images. This technology is used in medical imaging to identify tumors or abnormalities in scans."
   ]
  },
  {
   "cell_type": "markdown",
   "id": "ccc356b3-13af-4dd8-8881-88946228adaf",
   "metadata": {},
   "source": [
    "### Ques 2:"
   ]
  },
  {
   "cell_type": "markdown",
   "id": "58216c55-2075-49e6-905d-803bf77dea26",
   "metadata": {},
   "source": [
    "### Ans: Supervised learning is a machine learning technique in which an algorithm learns to map input data to corresponding output labels or target values. The algorithm is trained on labeled examples, where the correct output labels are provided for each input. During training, the algorithm learns to make predictions on new, unseen data by finding patterns and relationships between the input and output variables.\n",
    "### For example, a supervised learning algorithm can be trained to recognize handwritten digits. The input to the algorithm is an image of a handwritten digit, and the output is the corresponding digit label (0-9)."
   ]
  },
  {
   "cell_type": "markdown",
   "id": "3ae10d8f-ee7f-4c8b-9137-fb50f9cce1a6",
   "metadata": {},
   "source": [
    "### Ques 3:"
   ]
  },
  {
   "cell_type": "markdown",
   "id": "c2b933e1-c745-4eda-a51b-36a4a2fac71a",
   "metadata": {},
   "source": [
    "### Ans: Unsupervised learning is a machine learning technique in which the algorithm learns to find patterns and structure in the input data without being given any explicit output labels or target values. The algorithm discovers hidden relationships and structures in the data on its own.\n",
    "### Clustering: For example, an algorithm can be used to group similar customer purchase behaviors based on their buying patterns, which can help businesses understand customer preferences and tailor their marketing strategies."
   ]
  },
  {
   "cell_type": "markdown",
   "id": "8540c6a3-1e04-4d11-b790-df8dd0e07f2a",
   "metadata": {},
   "source": [
    "### Ques 4:"
   ]
  },
  {
   "cell_type": "markdown",
   "id": "71517bba-659a-4080-a1ae-baa7ddc02a89",
   "metadata": {},
   "source": [
    "### Ans: Artificial Intelligence (AI): AI is a broad field that encompasses the development of algorithms and systems that can perform tasks that typically require human intelligence, such as perception, reasoning, and decision-making. AI includes various subfields such as natural language processing, robotics, and computer vision.\n",
    "### Machine Learning (ML): Machine learning is a subset of AI that involves the development of algorithms that can learn from and make predictions or decisions based on data. ML algorithms can be supervised, unsupervised, or semi-supervised and are used to solve various problems such as classification, regression, and clustering.\n",
    "### Deep Learning (DL): Deep learning is a subset of machine learning that involves the use of artificial neural networks to learn from large datasets. DL algorithms can be used for various tasks such as image and speech recognition, natural language processing, and predictive modeling.\n",
    "### Data Science (DS): Data science is an interdisciplinary field that involves the extraction, analysis, and interpretation of data using statistical and computational methods. DS includes various techniques such as data mining, machine learning, and visualization and is used to extract insights and knowledge from data."
   ]
  },
  {
   "cell_type": "markdown",
   "id": "8c15373c-90a6-44f5-9837-e5c3c8a51ded",
   "metadata": {},
   "source": [
    "### Ques 5:"
   ]
  },
  {
   "cell_type": "markdown",
   "id": "8b0007b8-fc45-4180-ba38-960d4ce05b62",
   "metadata": {},
   "source": [
    "### Ans: In supervised learning we need a training dataset to train our model. Examples of supervised machine learning are classification and regression.\n",
    "### In unsupervised learning the model finds patterns or structures in input data, there is no explicit output. The algorithm discovers hidden relationships and structures in the data on its own. Clustering is one example of unsupervised ML.\n",
    "### Semi-supervised learning is a type of machine learning where a model is trained using a combination of labeled and unlabeled data to improve prediction accuracy."
   ]
  },
  {
   "cell_type": "markdown",
   "id": "f04e21cf-0746-48f4-b8d4-b934e2b43466",
   "metadata": {},
   "source": [
    "### Ques 6:"
   ]
  },
  {
   "cell_type": "markdown",
   "id": "8ad78427-19b0-4c33-bc86-0d14e6e404e9",
   "metadata": {},
   "source": [
    "### Ans: Training Set: The training set is the portion of the dataset that is used to train the machine learning model. The model learns from the patterns and relationships in the data and uses this information to make predictions.\n",
    "### Validation Set: The validation set is used to tune the hyperparameters of the model. Hyperparameters are settings that are chosen before training the model and can affect the model's performance.\n",
    "### Test Set: The test set is the final subset of the data that is used to evaluate the performance of the model. The model has never seen this data before, so it serves as a good indicator of how well the model will generalize to new, unseen data. "
   ]
  },
  {
   "cell_type": "markdown",
   "id": "3ac5129c-0c61-455c-a5e5-e230b4beb380",
   "metadata": {},
   "source": [
    "### Ques 7:"
   ]
  },
  {
   "cell_type": "markdown",
   "id": "f10b89a6-956e-4ed1-a82e-599254786d1e",
   "metadata": {},
   "source": [
    "### Ans: Unsupervised learning can be used for anomaly detection by identifying patterns and structures in data that deviate from the norm. One common technique for anomaly detection using unsupervised learning is clustering. Clustering algorithms group similar data points together based on their characteristics, and any data point that does not fit well into any of the clusters can be considered an anomaly."
   ]
  },
  {
   "cell_type": "markdown",
   "id": "74259a49-a78e-4e9d-9da1-f85537633595",
   "metadata": {},
   "source": [
    "### Ques 8:"
   ]
  },
  {
   "cell_type": "markdown",
   "id": "5e81ee07-e828-4f86-9e7d-7e31c00913d8",
   "metadata": {},
   "source": [
    "### Ans: Supervised Learning Algorithms:  Linear Regression, Logistic Regression, Decision Tree, Random Forest, Gradient Boosting, Support Vector Machines, K-Nearest Neighbors etc.\n",
    "### Unsupervised Learning Algorithms: k-Means Clustering, Hierarchical Clustering, Principal Component Analysis (PCA), Independent Component Analysis (ICA), Gaussian Mixture Models (GMM), Isolation Forest etc. "
   ]
  },
  {
   "cell_type": "code",
   "execution_count": null,
   "id": "5a9bf7b9-db20-423f-8454-c27a1053f98f",
   "metadata": {},
   "outputs": [],
   "source": []
  }
 ],
 "metadata": {
  "kernelspec": {
   "display_name": "Python 3 (ipykernel)",
   "language": "python",
   "name": "python3"
  },
  "language_info": {
   "codemirror_mode": {
    "name": "ipython",
    "version": 3
   },
   "file_extension": ".py",
   "mimetype": "text/x-python",
   "name": "python",
   "nbconvert_exporter": "python",
   "pygments_lexer": "ipython3",
   "version": "3.10.8"
  }
 },
 "nbformat": 4,
 "nbformat_minor": 5
}
