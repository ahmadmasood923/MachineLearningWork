{
 "cells": [
  {
   "cell_type": "markdown",
   "id": "3ada70ff-6f0d-4965-97db-5647cc40c01d",
   "metadata": {},
   "source": [
    "## Ques 1:"
   ]
  },
  {
   "cell_type": "markdown",
   "id": "3a86f1bc-c6d0-4adb-a965-52798ecf3bd8",
   "metadata": {},
   "source": [
    "### Ans:"
   ]
  },
  {
   "cell_type": "code",
   "execution_count": 1,
   "id": "7ca428b6-6534-4dc9-900f-95b9c2178bbe",
   "metadata": {},
   "outputs": [
    {
     "name": "stdout",
     "output_type": "stream",
     "text": [
      "95% Confidence Interval: [49.01, 50.99]\n"
     ]
    }
   ],
   "source": [
    "import scipy.stats as stats\n",
    "\n",
    "sample_mean = 50\n",
    "sample_std = 5\n",
    "n = 100 # assume a sample size of 100\n",
    "\n",
    "# Calculate the standard error of the mean\n",
    "sem = sample_std / (n ** 0.5)\n",
    "\n",
    "# Calculate the margin of error\n",
    "moe = stats.t.ppf(0.975, n-1) * sem\n",
    "\n",
    "# Calculate the confidence interval\n",
    "lower_ci = sample_mean - moe\n",
    "upper_ci = sample_mean + moe\n",
    "\n",
    "# Print the confidence interval\n",
    "print(\"95% Confidence Interval: [{:.2f}, {:.2f}]\".format(lower_ci, upper_ci))"
   ]
  },
  {
   "cell_type": "markdown",
   "id": "885240b4-9d27-4db2-a468-3a581bb86ded",
   "metadata": {},
   "source": [
    "## Ques 2:"
   ]
  },
  {
   "cell_type": "markdown",
   "id": "e030abf8-c228-49f2-b277-508eee7270c0",
   "metadata": {},
   "source": [
    "### Ans: "
   ]
  },
  {
   "cell_type": "code",
   "execution_count": 2,
   "id": "a68309d4-b52d-4743-a86a-e27644fd9231",
   "metadata": {},
   "outputs": [
    {
     "name": "stdout",
     "output_type": "stream",
     "text": [
      "Chi-square statistic: 2.70\n",
      "p-value: 0.7461\n",
      "Critical value: 11.07\n",
      "Fail to reject null hypothesis. The distribution of M&M colors in the bag matches the expected distribution.\n"
     ]
    }
   ],
   "source": [
    "import numpy as np\n",
    "import scipy.stats as stats\n",
    "\n",
    "# observed frequencies\n",
    "obs_freq = [25, 19, 22, 10, 8, 16] # blue, orange, green, yellow, red, brown\n",
    "\n",
    "# expected frequencies based on the null hypothesis\n",
    "exp_freq = [0.2*100, 0.2*100, 0.2*100, 0.1*100, 0.1*100, 0.2*100] # blue, orange, green, yellow, red, brown\n",
    "\n",
    "# perform chi-square test\n",
    "chi2, p = stats.chisquare(obs_freq, exp_freq)\n",
    "\n",
    "# specify significance level\n",
    "alpha = 0.05\n",
    "\n",
    "# find the critical value for the chi-square distribution\n",
    "df = len(obs_freq) - 1 # degrees of freedom\n",
    "crit = stats.chi2.ppf(1-alpha, df)\n",
    "\n",
    "# print results\n",
    "print(\"Chi-square statistic: {:.2f}\".format(chi2))\n",
    "print(\"p-value: {:.4f}\".format(p))\n",
    "print(\"Critical value: {:.2f}\".format(crit))\n",
    "\n",
    "if chi2 > crit:\n",
    "    print(\"Reject null hypothesis. The distribution of M&M colors in the bag does not match the expected distribution.\")\n",
    "else:\n",
    "    print(\"Fail to reject null hypothesis. The distribution of M&M colors in the bag matches the expected distribution.\")"
   ]
  },
  {
   "cell_type": "markdown",
   "id": "7f2ea89c-5a00-4b47-92f8-5061faf793fc",
   "metadata": {},
   "source": [
    "## Ques 3:"
   ]
  },
  {
   "cell_type": "markdown",
   "id": "c256477d-2b11-4445-8418-f00972ee55b9",
   "metadata": {},
   "source": [
    "### Ans:"
   ]
  },
  {
   "cell_type": "code",
   "execution_count": 35,
   "id": "bf0d1918-c71d-40ec-a2db-7604a804acfe",
   "metadata": {},
   "outputs": [
    {
     "name": "stdout",
     "output_type": "stream",
     "text": [
      "Chi-square test statistic: 5.833333333333334\n",
      "P-value: 0.05411376622282158\n"
     ]
    }
   ],
   "source": [
    "import numpy as np\n",
    "from scipy.stats import chi2_contingency\n",
    "\n",
    "# create contingency table\n",
    "obs = np.array([[20, 10, 15], [15, 25, 20]])\n",
    "\n",
    "# calculate chi-square test statistic, p-value, degrees of freedom, and expected frequencies\n",
    "chi2, pval, dof, expected = chi2_contingency(obs)\n",
    "\n",
    "# print results\n",
    "print(\"Chi-square test statistic:\", chi2)\n",
    "print(\"P-value:\", pval)"
   ]
  },
  {
   "cell_type": "markdown",
   "id": "a7b1d710-51e4-42b3-b594-4a0285a35ccb",
   "metadata": {},
   "source": [
    "## Ques 4:"
   ]
  },
  {
   "cell_type": "markdown",
   "id": "6fb53e7a-932f-419a-b1d8-ed4bb88ccf19",
   "metadata": {},
   "source": [
    "### Ans: "
   ]
  },
  {
   "cell_type": "code",
   "execution_count": 3,
   "id": "0ea2f766-8f9d-42e4-ba83-baf9f7ce93ae",
   "metadata": {},
   "outputs": [
    {
     "name": "stdout",
     "output_type": "stream",
     "text": [
      "95% Confidence Interval for Smoking Prevalence: [0.092, 0.148]\n"
     ]
    }
   ],
   "source": [
    "import statsmodels.stats.proportion as prop\n",
    "\n",
    "n = 500 # sample size\n",
    "x = 60 # number of individuals who smoke\n",
    "\n",
    "# Calculate the proportion of individuals who smoke in the sample\n",
    "p = x / n\n",
    "\n",
    "# Calculate the standard error of the proportion\n",
    "se = (p * (1 - p) / n) ** 0.5\n",
    "\n",
    "# Calculate the 95% confidence interval for the true proportion of individuals who smoke\n",
    "ci = prop.proportion_confint(x, n, alpha=0.05, method='normal')\n",
    "\n",
    "# Print the confidence interval\n",
    "print(\"95% Confidence Interval for Smoking Prevalence: [{:.3f}, {:.3f}]\".format(ci[0], ci[1]))"
   ]
  },
  {
   "cell_type": "markdown",
   "id": "7034b4f7-5f32-46fe-9e58-95275d047a02",
   "metadata": {},
   "source": [
    "## Ques 5:"
   ]
  },
  {
   "cell_type": "markdown",
   "id": "29f5fa93-4b3f-4634-98fa-d3598cad7fc1",
   "metadata": {},
   "source": [
    "### Ans: "
   ]
  },
  {
   "cell_type": "code",
   "execution_count": 12,
   "id": "49e8ab80-0c42-4994-bbbb-179fab8776a3",
   "metadata": {},
   "outputs": [
    {
     "name": "stdout",
     "output_type": "stream",
     "text": [
      "90% Confidence Interval: 68.0438255094044 81.9561744905956\n"
     ]
    }
   ],
   "source": [
    "import numpy as np\n",
    "import scipy.stats as stats\n",
    "\n",
    "n = 10 # sample size assumed \n",
    "x_bar = 75 # sample mean\n",
    "s = 12 # sample standard deviation\n",
    "alpha = 0.1 # significance level\n",
    "\n",
    "# Calculate the standard error of the mean\n",
    "se = s / np.sqrt(n)\n",
    "# Calculate the t-value for the given alpha and degrees of freedom\n",
    "df = n - 1\n",
    "t = stats.t.ppf(1 - alpha/2, df)\n",
    "# # Calculate the confidence interval for the population mean\n",
    "ci_lower = x_bar - t * se\n",
    "ci_upper = x_bar + t * se\n",
    "# Print the confidence interval\n",
    "print(\"90% Confidence Interval:\", ci_lower, ci_upper)"
   ]
  },
  {
   "cell_type": "markdown",
   "id": "10d496e5-caaf-45fb-a1c3-ec36be1a069d",
   "metadata": {},
   "source": [
    "## Ques 6:"
   ]
  },
  {
   "cell_type": "markdown",
   "id": "eeeb26f3-11d1-4e6e-a9ba-bd1d080b264c",
   "metadata": {},
   "source": [
    "### Ans: "
   ]
  },
  {
   "cell_type": "code",
   "execution_count": 13,
   "id": "d554f0b9-de66-457c-b642-b7333e50a680",
   "metadata": {},
   "outputs": [
    {
     "data": {
      "image/png": "[encoded data removed]",
      "text/plain": [
       "<Figure size 640x480 with 1 Axes>"
      ]
     },
     "metadata": {},
     "output_type": "display_data"
    }
   ],
   "source": [
    "import numpy as np\n",
    "import matplotlib.pyplot as plt\n",
    "import scipy.stats as stats\n",
    "\n",
    "df = 10\n",
    "# Create a range of x-values\n",
    "x = np.linspace(0, 30, 500)\n",
    "# Create the chi-square distribution\n",
    "chi2 = stats.chi2.pdf(x, df)\n",
    "# Plot the chi-square distribution\n",
    "plt.plot(x, chi2, label=\"df = 10\")\n",
    "# Shade the area to the right of chi-square = 15\n",
    "x_shade = np.linspace(15, 30, 100)\n",
    "y_shade = stats.chi2.pdf(x_shade, df)\n",
    "plt.fill_between(x_shade, y_shade, color='orange', alpha=0.5)\n",
    "# Label the axes\n",
    "plt.xlabel(\"Chi-Square Statistic\")\n",
    "plt.ylabel(\"Density\")\n",
    "# Add a legend\n",
    "plt.legend()\n",
    "# Display the plot\n",
    "plt.show()"
   ]
  },
  {
   "cell_type": "markdown",
   "id": "fe50c57e-3bab-4d2d-a076-ba9b0846ecfd",
   "metadata": {},
   "source": [
    "## Ques 7:"
   ]
  },
  {
   "cell_type": "markdown",
   "id": "b33fd0f0-6099-41b5-8e1a-63debf42e465",
   "metadata": {},
   "source": [
    "### Ans: "
   ]
  },
  {
   "cell_type": "code",
   "execution_count": 22,
   "id": "f59a22c7-1f9b-4366-a7c0-b5a48e9118f5",
   "metadata": {},
   "outputs": [
    {
     "name": "stdout",
     "output_type": "stream",
     "text": [
      "99% Confidence Interval: [0.479, 0.561]\n"
     ]
    }
   ],
   "source": [
    "import numpy as np\n",
    "import statsmodels.api as sm\n",
    "import scipy.stats as stats\n",
    "# Set the sample size and the number of successes (people who prefer Coke)\n",
    "n = 1000\n",
    "successes = 520\n",
    "\n",
    "# Calculate the sample proportion\n",
    "p = successes / n\n",
    "\n",
    "# Calculate the standard error of the sample proportion\n",
    "se = np.sqrt(p*(1-p)/n)\n",
    "\n",
    "# Calculate the margin of error using the z-score for a 99% confidence interval\n",
    "z = stats.norm.ppf(0.995)  # Two-tailed test\n",
    "me = z * se\n",
    "\n",
    "# Calculate the confidence interval\n",
    "ci = sm.stats.proportion_confint(successes, n, alpha=0.01, method='normal')\n",
    "\n",
    "# Print the confidence interval\n",
    "print(\"99% Confidence Interval: [{:.3f}, {:.3f}]\".format(ci[0], ci[1]))"
   ]
  },
  {
   "cell_type": "markdown",
   "id": "c1900599-10bb-4b6c-a911-582ebdc598ec",
   "metadata": {},
   "source": [
    "## Ques 8:"
   ]
  },
  {
   "cell_type": "markdown",
   "id": "52f2cfee-d3ee-4792-80a7-a2369c3ae309",
   "metadata": {},
   "source": [
    "### Ans:"
   ]
  },
  {
   "cell_type": "code",
   "execution_count": 34,
   "id": "64754c21-77e4-4949-9742-9bed908a9c23",
   "metadata": {},
   "outputs": [
    {
     "name": "stdout",
     "output_type": "stream",
     "text": [
      "Chi-square statistic: 1.0\n",
      "Degrees of freedom: 1\n",
      "p-value: 0.31731050786291115\n",
      "Accept the Null Hypothesis\n"
     ]
    }
   ],
   "source": [
    "import scipy.stats as stats\n",
    "import numpy as np\n",
    "\n",
    "observed = np.array([55, 45])\n",
    "expected = np.array([50, 50])\n",
    "chi_statistics, p_value  = stats.chisquare(observed,expected)\n",
    "\n",
    "dof = len(observed) - 1\n",
    "significance_value = 0.05\n",
    "critical_value = stats.chi2.ppf(1-significance_value,dof)\n",
    "\n",
    "print(\"Chi-square statistic:\", chi_statistics)\n",
    "print(\"Degrees of freedom:\", dof)\n",
    "print(\"p-value:\", p_value)\n",
    "\n",
    "if chi_statistics > critical_value:\n",
    "    print(\"Reject the Null Hypothesis\")\n",
    "else:\n",
    "    print(\"Accept the Null Hypothesis\")"
   ]
  },
  {
   "cell_type": "markdown",
   "id": "1916b482-dca4-4673-a343-1b30c301e775",
   "metadata": {},
   "source": [
    "## Ques 9:"
   ]
  },
  {
   "cell_type": "markdown",
   "id": "24faac9f-d541-4589-9698-6d2c6d91e6e7",
   "metadata": {},
   "source": [
    "### Ans: Based on the provided contingency table, we can set up the following null and alternative hypotheses:\n",
    "### Null Hypothesis: There is no significant association between smoking status and lung cancer diagnosis.\n",
    "### Alternative Hypothesis: There is a significant association between smoking status and lung cancer diagnosis.\n",
    "### To conduct a chi-square test, we need to calculate the expected frequencies for each cell assuming independence. The expected frequency for each cell can be calculated as follows:\n",
    "### Expected Frequency for Lung cancer: Yes, Smoker: Yes = (60+90)*(60+140)/(60+30+90+140) = 75\n",
    "### Expected Frequency for Lung cancer: Yes, Smoker: No = (30+90)*(60+140)/(60+30+90+140) = 45\n",
    "### Expected Frequency for Lung cancer: No, Smoker: Yes = (60+90)*(30+170)/(60+30+90+140) = 115\n",
    "### Expected Frequency for Lung cancer: No, Smoker: No = (30+90)*(30+170)/(60+30+90+140) = 70\n",
    "### Now we can calculate the chi-square statistic:\n",
    "### X^2 = Σ (O - E)^2 / E\n",
    "### where Σ represents the sum of all cells, O is the observed frequency, and E is the expected frequency.\n",
    "### Using this formula, we can calculate the chi-square statistic as follows:\n",
    "### X^2 = (60-75)^2/75 + (30-45)^2/45 + (140-115)^2/115 + (170-70)^2/70\n",
    "### X^2 = 13.18\n",
    "### The degrees of freedom for a chi-square test for independence are (number of rows - 1) x (number of columns - 1) = (2-1) x (2-1) = 1.\n",
    "### Using a chi-square distribution table with 1 degree of freedom and a significance level of 0.05, we find that the critical value is 3.84. Since our calculated chi-square value (13.18) is greater than the critical value (3.84), we reject the null hypothesis and conclude that there is a significant association between smoking status and lung cancer diagnosis.\n",
    "### Therefore, we can conclude that smoking status and lung cancer diagnosis are not independent, and smoking is a risk factor for lung cancer."
   ]
  },
  {
   "cell_type": "markdown",
   "id": "bfd95a05-1a22-4e86-a170-99fbfb8b125d",
   "metadata": {},
   "source": [
    "## Ques 10:"
   ]
  },
  {
   "cell_type": "markdown",
   "id": "af3d9f55-6542-4aa4-8a0f-46d4729ea43f",
   "metadata": {},
   "source": [
    "### Ans: To conduct a chi-square test for independence, we need to set up the null and alternative hypotheses:\n",
    "### Null hypothesis: There is no significant association between chocolate preference and country of origin.\n",
    "### Alternative hypothesis: There is a significant association between chocolate preference and country of origin.\n",
    "### We can use a chi-square test for independence to test these hypotheses. The test statistic is calculated as:\n",
    "### χ^2 = ∑(O - E)^2 / E\n",
    "### where O is the observed frequency in each cell of the contingency table, and E is the expected frequency in each cell under the assumption of independence.\n",
    "### To calculate the expected frequencies, we need to assume that there is no association between chocolate preference and country of origin. We can calculate the expected frequency for each cell as:\n",
    "### E = (row total * column total) / grand total\n",
    "### where the grand total is the total number of observations in the table.\n",
    "### Using these expected frequencies and the observed frequencies from the contingency table, we can calculate the chi-square test statistic:\n",
    "### χ^2 = (200-212.5)^2/212.5 + (150-162.5)^2/162.5 + (150-125)^2/125 + (225-212.5)^2/212.5 + (175-162.5)^2/162.5 + (100-125)^2/125\n",
    "### = 9.91\n",
    "### To determine the p-value associated with this test statistic, we need to consult a chi-square distribution table with (2-1)(3-1)=2 degrees of freedom and a significance level of 0.01. The critical value for this test is 9.21.\n",
    "### Since the calculated test statistic (9.91) is greater than the critical value (9.21), we reject the null hypothesis and conclude that there is a significant association between chocolate preference and country of origin at a significance level of 0.01."
   ]
  },
  {
   "cell_type": "markdown",
   "id": "4290b660-e478-4620-ba25-959715e65e41",
   "metadata": {},
   "source": [
    "## Ques 11:"
   ]
  },
  {
   "cell_type": "markdown",
   "id": "dcf759f7-15ad-4241-9a42-5beaec0abbc3",
   "metadata": {},
   "source": [
    "### Ans: To conduct the hypothesis test, we can use a t-test since the population standard deviation is unknown.\n",
    "### The null hypothesis is that the population mean is equal to 70:\n",
    "### H0: μ = 70\n",
    "### The alternative hypothesis is that the population mean is significantly different from 70:\n",
    "### Ha: μ ≠ 70\n",
    "### We can use a significance level of 0.05, which means that we are willing to accept a 5% chance of making a Type I error (rejecting the null hypothesis when it is actually true).\n",
    "### To conduct the test, we can calculate the t-statistic using the formula:\n",
    "### t = (x̄ - μ) / (s / √n)\n",
    "### where x̄ is the sample mean, μ is the hypothesized population mean (in this case, 70), s is the sample standard deviation, and n is the sample size.\n",
    "### Plugging in the values from the problem, we get:\n",
    "### t = (72 - 70) / (10 / √30)\n",
    "### t = 1.095\n",
    "### Using a t-table with 29 degrees of freedom (30 - 1), we find the critical values for a two-tailed test with a significance level of 0.05 to be ±2.045.\n",
    "### Since our calculated t-statistic (1.095) is less than the critical value (2.045), we fail to reject the null hypothesis. Therefore, we do not have sufficient evidence to conclude that the population mean is significantly different from 70 at the 0.05 level of significance."
   ]
  },
  {
   "cell_type": "code",
   "execution_count": null,
   "id": "ebaf8a24-6724-419c-9083-52a1e16a0622",
   "metadata": {},
   "outputs": [],
   "source": []
  }
 ],
 "metadata": {
  "kernelspec": {
   "display_name": "Python 3 (ipykernel)",
   "language": "python",
   "name": "python3"
  },
  "language_info": {
   "codemirror_mode": {
    "name": "ipython",
    "version": 3
   },
   "file_extension": ".py",
   "mimetype": "text/x-python",
   "name": "python",
   "nbconvert_exporter": "python",
   "pygments_lexer": "ipython3",
   "version": "3.10.8"
  }
 },
 "nbformat": 4,
 "nbformat_minor": 5
}
