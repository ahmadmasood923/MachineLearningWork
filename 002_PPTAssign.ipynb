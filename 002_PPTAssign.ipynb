{
 "cells": [
  {
   "cell_type": "markdown",
   "id": "11a5c2c9",
   "metadata": {},
   "source": [
    "<aside>\n",
    "💡 **Question 1**\n",
    "Given an integer array nums of 2n integers, group these integers into n pairs (a1, b1), (a2, b2),..., (an, bn) such that the sum of min(ai, bi) for all i is maximized. Return the maximized sum.\n",
    "\n",
    "**Example 1:**\n",
    "Input: nums = [1,4,3,2]\n",
    "Output: 4\n",
    "\n",
    "**Explanation:** All possible pairings (ignoring the ordering of elements) are:\n",
    "\n",
    "1. (1, 4), (2, 3) -> min(1, 4) + min(2, 3) = 1 + 2 = 3\n",
    "2. (1, 3), (2, 4) -> min(1, 3) + min(2, 4) = 1 + 2 = 3\n",
    "3. (1, 2), (3, 4) -> min(1, 2) + min(3, 4) = 1 + 3 = 4\n",
    "So the maximum possible sum is 4\n",
    "</aside>"
   ]
  },
  {
   "cell_type": "code",
   "execution_count": 10,
   "id": "4234570f",
   "metadata": {},
   "outputs": [],
   "source": [
    "def max_sum(nums):\n",
    "    nums.sort()  \n",
    "    max_sum = 0  \n",
    "    for i in range(0, len(nums), 2):  \n",
    "        max_sum += nums[i]  \n",
    "    return max_sum "
   ]
  },
  {
   "cell_type": "markdown",
   "id": "328051b1",
   "metadata": {},
   "source": [
    "Question 2\n",
    "Alice has n candies, where the ith candy is of type candyType[i]. Alice noticed that she started to gain weight, so she visited a doctor. \n",
    "\n",
    "The doctor advised Alice to only eat n / 2 of the candies she has (n is always even). Alice likes her candies very much, and she wants to eat the maximum number of different types of candies while still following the doctor's advice. \n",
    "\n",
    "Given the integer array candyType of length n, return the maximum number of different types of candies she can eat if she only eats n / 2 of them.\n",
    "\n",
    "Example 1:\n",
    "Input: candyType = [1,1,2,2,3,3]\n",
    "Output: 3\n",
    "\n",
    "Explanation: Alice can only eat 6 / 2 = 3 candies. Since there are only 3 types, she can eat one of each type."
   ]
  },
  {
   "cell_type": "code",
   "execution_count": 13,
   "id": "b7e01f07",
   "metadata": {},
   "outputs": [],
   "source": [
    "def candies(candyType):\n",
    "        l = len(candyType)\n",
    "        eat = l//2\n",
    "        set_candy = set(candyType)\n",
    "\n",
    "        if eat <= len(set_candy):\n",
    "            return eat\n",
    "\n",
    "        elif eat > len(set_candy):\n",
    "            return len(set_candy) \n"
   ]
  },
  {
   "cell_type": "markdown",
   "id": "36106493",
   "metadata": {},
   "source": [
    "Question 3\n",
    "We define a harmonious array as an array where the difference between its maximum value\n",
    "and its minimum value is exactly 1.\n",
    "\n",
    "Given an integer array nums, return the length of its longest harmonious subsequence\n",
    "among all its possible subsequences.\n",
    "\n",
    "A subsequence of an array is a sequence that can be derived from the array by deleting some or no elements without changing the order of the remaining elements.\n",
    "\n",
    "Example 1:\n",
    "Input: nums = [1,3,2,2,5,2,3,7]\n",
    "Output: 5\n",
    "\n",
    "Explanation: The longest harmonious subsequence is [3,2,2,2,3]."
   ]
  },
  {
   "cell_type": "code",
   "execution_count": 26,
   "id": "1c0a2935",
   "metadata": {},
   "outputs": [],
   "source": [
    "def harm_seq(nums):\n",
    "    freq_dict = {}\n",
    "    for num in nums:\n",
    "        if num in freq_dict:\n",
    "            freq_dict[num]+=1\n",
    "        else:\n",
    "            freq_dict[num]=1\n",
    "    max_length = 0\n",
    "    for key in freq_dict:\n",
    "        if key + 1 in freq_dict:\n",
    "            length = freq_dict[key] + freq_dict[key + 1]\n",
    "            if length > max_length:\n",
    "                max_length = length\n",
    "    return max_length"
   ]
  },
  {
   "cell_type": "markdown",
   "id": "20097cc5",
   "metadata": {},
   "source": [
    "Question 4\n",
    "You have a long flowerbed in which some of the plots are planted, and some are not.\n",
    "However, flowers cannot be planted in adjacent plots.\n",
    "Given an integer array flowerbed containing 0's and 1's, where 0 means empty and 1 means not empty, and an integer n, return true if n new flowers can be planted in the flowerbed without violating the no-adjacent-flowers rule and false otherwise.\n",
    "\n",
    "Example 1:\n",
    "Input: flowerbed = [1,0,0,0,1], n = 1\n",
    "Output: true"
   ]
  },
  {
   "cell_type": "code",
   "execution_count": 30,
   "id": "a42b8e59",
   "metadata": {},
   "outputs": [],
   "source": [
    "def plant(flowerbed):\n",
    "    count = 0\n",
    "    for i in range(len(flowerbed)-3):\n",
    "        if flowerbed[i] != flowerbed[i+2]:\n",
    "            count +=1\n",
    "    return count"
   ]
  },
  {
   "cell_type": "markdown",
   "id": "f3e0374d",
   "metadata": {},
   "source": [
    "Question 5\n",
    "Given an integer array nums, find three numbers whose product is maximum and return the maximum product.\n",
    "\n",
    "Example 1:\n",
    "Input: nums = [1,2,3]\n",
    "Output: 6"
   ]
  },
  {
   "cell_type": "code",
   "execution_count": 39,
   "id": "2500afc0",
   "metadata": {},
   "outputs": [],
   "source": [
    "def max_product(nums):\n",
    "    product = 1\n",
    "    if len(nums)<3:\n",
    "        return \"List is short\"\n",
    "    elif len(nums)==3:\n",
    "        for i in nums:\n",
    "            product = product * i\n",
    "    else:\n",
    "        nums.sort()\n",
    "        i = len(nums)-1\n",
    "        while(i>=len(nums)-3):\n",
    "            product = product * nums[i]\n",
    "            i-=1\n",
    "    return product"
   ]
  },
  {
   "cell_type": "markdown",
   "id": "b5d39ce4",
   "metadata": {},
   "source": [
    "Question 6\n",
    "Given an array of integers nums which is sorted in ascending order, and an integer target,\n",
    "write a function to search target in nums. If target exists, then return its index. Otherwise,\n",
    "return -1.\n",
    "\n",
    "You must write an algorithm with O(log n) runtime complexity.\n",
    "\n",
    "Input: nums = [-1,0,3,5,9,12], target = 9\n",
    "Output: 4\n",
    "\n",
    "Explanation: 9 exists in nums and its index is 4"
   ]
  },
  {
   "cell_type": "code",
   "execution_count": 42,
   "id": "ade899ce",
   "metadata": {},
   "outputs": [],
   "source": [
    "def find_target(nums, target):\n",
    "    left = 0\n",
    "    right = len(nums) - 1\n",
    "\n",
    "    while left <= right:\n",
    "        mid = (left + right) // 2\n",
    "\n",
    "        if nums[mid] == target:\n",
    "            return mid\n",
    "        elif nums[mid] < target:\n",
    "            left = mid + 1\n",
    "        else:\n",
    "            right = mid - 1\n",
    "\n",
    "    return -1"
   ]
  },
  {
   "cell_type": "markdown",
   "id": "fdb99adb",
   "metadata": {},
   "source": [
    "Question 7\n",
    "An array is monotonic if it is either monotone increasing or monotone decreasing.\n",
    "\n",
    "An array nums is monotone increasing if for all i <= j, nums[i] <= nums[j]. An array nums is\n",
    "monotone decreasing if for all i <= j, nums[i] >= nums[j].\n",
    "\n",
    "Given an integer array nums, return true if the given array is monotonic, or false otherwise.\n",
    "\n",
    "Example 1:\n",
    "Input: nums = [1,2,2,3]\n",
    "Output: true"
   ]
  },
  {
   "cell_type": "code",
   "execution_count": 46,
   "id": "ec42640a",
   "metadata": {},
   "outputs": [],
   "source": [
    "def  check_monotonic(nums):\n",
    "    if nums[1]>=nums[0]:\n",
    "        for i in range(len(nums)):\n",
    "            if nums[i+1]>=nums[i]:\n",
    "                return True\n",
    "            else:\n",
    "                return False\n",
    "    else:\n",
    "        for i in range(len(nums)):\n",
    "            if nums[i]+1<=nums[i]:\n",
    "                return True\n",
    "            else:\n",
    "                return False"
   ]
  },
  {
   "cell_type": "markdown",
   "id": "263e0d94",
   "metadata": {},
   "source": [
    "Question 8\n",
    "You are given an integer array nums and an integer k.\n",
    "\n",
    "In one operation, you can choose any index i where 0 <= i < nums.length and change nums[i] to nums[i] + x where x is an integer from the range [-k, k]. You can apply this operation at most once for each index i.\n",
    "\n",
    "The score of nums is the difference between the maximum and minimum elements in nums.\n",
    "\n",
    "Return the minimum score of nums after applying the mentioned operation at most once for each index in it.\n",
    "\n",
    "Example 1:\n",
    "Input: nums = [1], k = 0\n",
    "Output: 0\n",
    "\n",
    "Explanation: The score is max(nums) - min(nums) = 1 - 1 = 0."
   ]
  },
  {
   "cell_type": "code",
   "execution_count": 49,
   "id": "c84d3d8e",
   "metadata": {},
   "outputs": [],
   "source": [
    "def minimumScore(nums, k):\n",
    "    min_num = float('inf')\n",
    "    max_num = float('-inf')\n",
    "\n",
    "    for num in nums:\n",
    "        min_num = min(min_num, num)\n",
    "        max_num = max(max_num, num)\n",
    "\n",
    "    initial_score = max_num - min_num\n",
    "\n",
    "    if initial_score == 0:\n",
    "        return 0\n",
    "\n",
    "    min_score = initial_score\n",
    "\n",
    "    for num in nums:\n",
    "        new_min = min(min_num, num + k)\n",
    "        new_max = max(max_num, num - k)\n",
    "        min_score = min(min_score, new_max - new_min)\n",
    "\n",
    "    return min_score"
   ]
  }
 ],
 "metadata": {
  "kernelspec": {
   "display_name": "Python 3 (ipykernel)",
   "language": "python",
   "name": "python3"
  },
  "language_info": {
   "codemirror_mode": {
    "name": "ipython",
    "version": 3
   },
   "file_extension": ".py",
   "mimetype": "text/x-python",
   "name": "python",
   "nbconvert_exporter": "python",
   "pygments_lexer": "ipython3",
   "version": "3.9.12"
  }
 },
 "nbformat": 4,
 "nbformat_minor": 5
}
