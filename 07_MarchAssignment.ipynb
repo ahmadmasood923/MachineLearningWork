{
 "cells": [
  {
   "cell_type": "markdown",
   "id": "aae39b31-6b94-4ee6-9157-83a95bf81831",
   "metadata": {},
   "source": [
    "## Ques 1:"
   ]
  },
  {
   "cell_type": "markdown",
   "id": "ccb0bdbb-6e54-45fe-bd8f-77f25d2fbf34",
   "metadata": {},
   "source": [
    "### Ans: Three measures of central tendencies are: Mean, Median and Mode."
   ]
  },
  {
   "cell_type": "markdown",
   "id": "e111d71c-6a9e-4bc9-994f-9327dd6e0324",
   "metadata": {},
   "source": [
    "## Ques 2:"
   ]
  },
  {
   "cell_type": "markdown",
   "id": "138e4d96-3091-419c-8120-4009a3299734",
   "metadata": {},
   "source": [
    "### Ans: The mean is the average of all the values in a dataset. To calculate the mean, you add up all the values in the dataset and divide by the total number of values.\n",
    "### The median is the middle value in a dataset. To find the median, you first need to sort the values in ascending or descending order. If there is an odd number of values, the median is the middle value. If there is an even number of values, the median is the average of the two middle values.\n",
    "### The mode is the value that appears most frequently in a dataset. A dataset may have one or more modes, or it may have no mode at all if no value appears more than once.\n",
    "### Each of these measures of central tendency has its own strengths and weaknesses. The mean is sensitive to extreme values, while the median and mode are not. The mode is useful when looking for the most common value, while the mean and median are useful for finding the typical value.\n",
    "### In practice, which measure of central tendency is used depends on the nature of the dataset and the research question being addressed. "
   ]
  },
  {
   "cell_type": "markdown",
   "id": "80de45f7-1450-4840-8a3b-481ec87de2d5",
   "metadata": {},
   "source": [
    "## Ques 3:"
   ]
  },
  {
   "cell_type": "code",
   "execution_count": 1,
   "id": "a730f92b-a930-474c-a8fb-314d6313e0aa",
   "metadata": {},
   "outputs": [],
   "source": [
    "height_list = [178,177,176,177,178.2,178,175,179,180,175,178.9,176.2,177,172.5,178,176.5]"
   ]
  },
  {
   "cell_type": "code",
   "execution_count": 2,
   "id": "4a0330e3-19c4-4ad5-a14e-2a092e1ab3e1",
   "metadata": {},
   "outputs": [],
   "source": [
    "import numpy as np"
   ]
  },
  {
   "cell_type": "code",
   "execution_count": 3,
   "id": "1c8edcdf-0211-4c5f-9a80-33fb87104818",
   "metadata": {},
   "outputs": [],
   "source": [
    "mean = np.mean(height_list)"
   ]
  },
  {
   "cell_type": "code",
   "execution_count": 4,
   "id": "8924b58c-7597-4f16-8ab5-212268d5b898",
   "metadata": {},
   "outputs": [
    {
     "data": {
      "text/plain": [
       "177.01875"
      ]
     },
     "execution_count": 4,
     "metadata": {},
     "output_type": "execute_result"
    }
   ],
   "source": [
    "mean"
   ]
  },
  {
   "cell_type": "code",
   "execution_count": 5,
   "id": "02450e41-9560-43ff-95ba-1bd75013dd69",
   "metadata": {},
   "outputs": [],
   "source": [
    "median = np.median(height_list)"
   ]
  },
  {
   "cell_type": "code",
   "execution_count": 6,
   "id": "98b4b212-d003-4cc6-9969-092ef991a1e9",
   "metadata": {},
   "outputs": [
    {
     "data": {
      "text/plain": [
       "177.0"
      ]
     },
     "execution_count": 6,
     "metadata": {},
     "output_type": "execute_result"
    }
   ],
   "source": [
    "median"
   ]
  },
  {
   "cell_type": "code",
   "execution_count": 7,
   "id": "01c1c214-957b-456a-9368-6893e44b83ea",
   "metadata": {},
   "outputs": [],
   "source": [
    "from scipy import stats"
   ]
  },
  {
   "cell_type": "code",
   "execution_count": 14,
   "id": "1b622574-7592-4fe2-b8a7-3aa4519419c4",
   "metadata": {},
   "outputs": [
    {
     "name": "stderr",
     "output_type": "stream",
     "text": [
      "/tmp/ipykernel_84/3326654205.py:1: FutureWarning: Unlike other reduction functions (e.g. `skew`, `kurtosis`), the default behavior of `mode` typically preserves the axis it acts along. In SciPy 1.11.0, this behavior will change: the default value of `keepdims` will become False, the `axis` over which the statistic is taken will be eliminated, and the value None will no longer be accepted. Set `keepdims` to True or False to avoid this warning.\n",
      "  mode = stats.mode(height_list)\n"
     ]
    }
   ],
   "source": [
    "mode = stats.mode(height_list)"
   ]
  },
  {
   "cell_type": "code",
   "execution_count": 10,
   "id": "a922fb52-c3ca-4bf4-b148-7b733c68bf50",
   "metadata": {},
   "outputs": [
    {
     "data": {
      "text/plain": [
       "ModeResult(mode=array([177.]), count=array([3]))"
      ]
     },
     "execution_count": 10,
     "metadata": {},
     "output_type": "execute_result"
    }
   ],
   "source": [
    "mode"
   ]
  },
  {
   "cell_type": "markdown",
   "id": "bc89016d-1006-4be5-852e-e731149a35b9",
   "metadata": {},
   "source": [
    "## Ques 4:"
   ]
  },
  {
   "cell_type": "code",
   "execution_count": 15,
   "id": "65ed9205-b326-489d-8db8-1e7151d09244",
   "metadata": {},
   "outputs": [],
   "source": [
    "# Standard Deviation of the given data"
   ]
  },
  {
   "cell_type": "code",
   "execution_count": 16,
   "id": "ac5a9b74-13a0-4b96-8093-0bfa14aec56a",
   "metadata": {},
   "outputs": [],
   "source": [
    "data  = [178,177,176,177,178.2,178,175,179,180,175,178.9,176.2,177,172.5,178,176.5]"
   ]
  },
  {
   "cell_type": "code",
   "execution_count": 17,
   "id": "427d0755-11a3-4f21-93b1-14600bc5f40e",
   "metadata": {},
   "outputs": [],
   "source": [
    "import numpy as np"
   ]
  },
  {
   "cell_type": "code",
   "execution_count": 18,
   "id": "ce143e57-9379-4e38-924e-fe62748bd872",
   "metadata": {},
   "outputs": [],
   "source": [
    "std = np.std(data)"
   ]
  },
  {
   "cell_type": "code",
   "execution_count": 22,
   "id": "31090a67-4de8-4ed3-9443-cf78f628eef5",
   "metadata": {},
   "outputs": [
    {
     "name": "stdout",
     "output_type": "stream",
     "text": [
      "Standard deviation of the given data is 1.7885814036548633\n"
     ]
    }
   ],
   "source": [
    "print(\"Standard deviation of the given data is\",std)"
   ]
  },
  {
   "cell_type": "markdown",
   "id": "7f2c5855-4555-4b90-a23f-1c9db5e506b1",
   "metadata": {},
   "source": [
    "## Ques 5:"
   ]
  },
  {
   "cell_type": "markdown",
   "id": "166e23c7-d731-401e-b41b-941e3d3be355",
   "metadata": {},
   "source": [
    "## Ans: The range is the simplest measure of dispersion and is calculated by subtracting the smallest value in the dataset from the largest value. For example, if a dataset contains the values [3, 7, 9, 11, 15], the range would be 15 - 3 = 12.\n",
    "### The variance is a more complex measure of dispersion that takes into account the differences between each data point and the mean. It is calculated by taking the average of the squared differences between each data point and the mean. The variance is denoted by σ^2 for a population and s^2 for a sample.\n",
    "### The standard deviation is the square root of the variance and is denoted by σ for a population and s for a sample. It is a more commonly used measure of dispersion as it is in the same units as the original data points, unlike variance."
   ]
  },
  {
   "cell_type": "markdown",
   "id": "5401abc7-a85f-4c38-b2e2-77294dca484c",
   "metadata": {},
   "source": [
    "## Ques 6:"
   ]
  },
  {
   "cell_type": "markdown",
   "id": "3ae7c739-bdb8-47b6-8713-f6113aa06660",
   "metadata": {},
   "source": [
    "## Ans: A Venn diagram is a graphical representation of set theory, used to visually show the relationships between sets. It consists of overlapping circles, each representing a set, with the overlapping region representing the elements that belong to both sets.\n",
    "### Venn diagrams were introduced by John Venn in the late 19th century and are widely used in mathematics, statistics, logic, and computer science to represent and analyze relationships between different sets of data."
   ]
  },
  {
   "cell_type": "markdown",
   "id": "587f7dca-b7ed-4c3a-82ea-463722e39db1",
   "metadata": {},
   "source": [
    "## Ques 7:"
   ]
  },
  {
   "cell_type": "markdown",
   "id": "015e939a-dbdf-413b-b2c0-6d3d9eed538f",
   "metadata": {},
   "source": [
    "### Ans: (i) --> Intersection of A and B will be (2, 6).\n",
    "###      (ii) --> Union of A and B will be (0,2,3,4,5,6,7,8,10)"
   ]
  },
  {
   "cell_type": "markdown",
   "id": "a55545ca-8283-4f31-913a-0cb88ea3b866",
   "metadata": {},
   "source": [
    "## Ques 8:"
   ]
  },
  {
   "cell_type": "markdown",
   "id": "182a3eb0-b9ba-4b37-8e59-00fcf25a2915",
   "metadata": {},
   "source": [
    "### Ans: Skewness is a measure of the asymmetry of a distribution of data. A distribution is said to be skewed if it is not symmetric about its mean.\n",
    "### If a distribution is skewed to the right, it means that the tail of the distribution extends to the right, and if a distribution is skewed to the left it means the tail extends to the left."
   ]
  },
  {
   "cell_type": "markdown",
   "id": "4f72e728-b8bf-47c3-b86b-293d8daa2d87",
   "metadata": {},
   "source": [
    "## Ques 9:"
   ]
  },
  {
   "cell_type": "markdown",
   "id": "792ac696-b9c3-4c29-a5b6-7ebd8de65bb0",
   "metadata": {},
   "source": [
    "### Ans: If a data is right skewed it means the median will be on the left of the mean. It means the median will be less than mean."
   ]
  },
  {
   "cell_type": "markdown",
   "id": "32991498-961d-4d72-91df-0e6a0715336b",
   "metadata": {},
   "source": [
    "## Ques 10:"
   ]
  },
  {
   "cell_type": "markdown",
   "id": "39ef43c1-6598-43ee-ac43-e1614299a6e9",
   "metadata": {},
   "source": [
    "### Ans: Covariance measures how two variables vary together. It is a measure of the extent to which two variables move in the same direction or in opposite directions. A positive covariance indicates that the two variables tend to move together, while a negative covariance indicates that they tend to move in opposite directions. However, covariance does not tell us the strength or direction of the relationship.\n",
    "### Correlation, on the other hand, measures both the strength and direction of the linear relationship between two variables. Correlation coefficients range from -1 to +1, where -1 indicates a perfectly negative correlation, +1 indicates a perfectly positive correlation, and 0 indicates no linear correlation. A correlation coefficient of 0 does not necessarily mean that there is no relationship between the variables, only that there is no linear relationship."
   ]
  },
  {
   "cell_type": "markdown",
   "id": "5e6cb1ea-7851-4dd7-80ca-4f3d44b98e97",
   "metadata": {},
   "source": [
    "## Ques 11:"
   ]
  },
  {
   "cell_type": "code",
   "execution_count": 23,
   "id": "be5ff817-03e2-4add-9575-b265ab35855b",
   "metadata": {},
   "outputs": [],
   "source": [
    "# Ans: Farmula for calculating sample mean is the (sum of all the values in the sample)/total no of values in the sample "
   ]
  },
  {
   "cell_type": "code",
   "execution_count": 24,
   "id": "4641ba27-1dac-4e10-bb4a-19708c1da018",
   "metadata": {},
   "outputs": [],
   "source": [
    "# For example\n",
    "sample = [2,5,3,9,10,2,5,1,9,2]"
   ]
  },
  {
   "cell_type": "code",
   "execution_count": 26,
   "id": "924ade1d-d267-43ab-b33d-dacfa6af3682",
   "metadata": {},
   "outputs": [],
   "source": [
    "sum_of_sample =  0\n",
    "no_of_values_in_sample = len(sample)\n",
    "for i in sample:\n",
    "    sum_of_sample = sum_of_sample + i"
   ]
  },
  {
   "cell_type": "code",
   "execution_count": 28,
   "id": "f94f9188-e802-4c44-8377-a265a52ad185",
   "metadata": {},
   "outputs": [],
   "source": [
    "mean = sum_of_sample/no_of_values_in_sample"
   ]
  },
  {
   "cell_type": "code",
   "execution_count": 30,
   "id": "f7847c67-2942-473f-92d5-e80a0fea984b",
   "metadata": {},
   "outputs": [
    {
     "name": "stdout",
     "output_type": "stream",
     "text": [
      "The mean of the sample is 4.8\n"
     ]
    }
   ],
   "source": [
    "print(\"The mean of the sample is\",mean)"
   ]
  },
  {
   "cell_type": "markdown",
   "id": "441d4cee-bbbc-40b2-8b75-52355244dacc",
   "metadata": {},
   "source": [
    "## Ques 12:"
   ]
  },
  {
   "cell_type": "markdown",
   "id": "db720665-8624-4588-9ee8-0320e3bef067",
   "metadata": {},
   "source": [
    "### Ans: For a normal distribution data the mean, median and mode all are perfectly at the center which means:\n",
    "### mean = median = mode"
   ]
  },
  {
   "cell_type": "markdown",
   "id": "54fe9d5d-af0d-4f49-9e50-ea4423101e3e",
   "metadata": {},
   "source": [
    "## Ques 13:"
   ]
  },
  {
   "cell_type": "markdown",
   "id": "0fc5eafd-9be6-4c26-ad9f-d4698b45e059",
   "metadata": {},
   "source": [
    "### Ans:  Covariance measures how two variables vary together. It is a measure of the extent to which two variables move in the same direction or in opposite directions.\n",
    "### Correlation, on the other hand, measures both the strength and direction of the linear relationship between two variables. Correlation coefficients range from -1 to +1, where -1 indicates a perfectly negative correlation, +1 indicates a perfectly positive correlation, and 0 indicates no linear correlation."
   ]
  },
  {
   "cell_type": "markdown",
   "id": "b71ffdff-806a-4ae0-8c73-33cdbf8e8556",
   "metadata": {},
   "source": [
    "## Ques 14:"
   ]
  },
  {
   "cell_type": "markdown",
   "id": "1cab781e-37d3-40da-a404-036137a79062",
   "metadata": {},
   "source": [
    "### Ans: Outliers are data points that lie far away from the other observations in a dataset. They can greatly affect measures of central tendency and dispersion in a dataset.\n",
    "### For example, let's consider a dataset of exam scores for a class of 10 students: 70, 75, 80, 85, 90, 92, 95, 97, 98, and 100. The mean, median, and mode of this dataset are all fairly close together, with values of 86.2, 90, and 92, respectively. The range of the dataset is 30.\n",
    "### Now, let's say that there was a mistake in recording one of the scores, and it was actually a 50 instead of a 90. This outlier greatly affects the measures of central tendency and dispersion. The mean is now 77.2, the median is still 85, but the mode is now 75. The range of the dataset is now 50, which is much larger than before."
   ]
  },
  {
   "cell_type": "code",
   "execution_count": null,
   "id": "898e360f-1e3a-4116-89d3-8e841e4fd2a7",
   "metadata": {},
   "outputs": [],
   "source": []
  }
 ],
 "metadata": {
  "kernelspec": {
   "display_name": "Python 3 (ipykernel)",
   "language": "python",
   "name": "python3"
  },
  "language_info": {
   "codemirror_mode": {
    "name": "ipython",
    "version": 3
   },
   "file_extension": ".py",
   "mimetype": "text/x-python",
   "name": "python",
   "nbconvert_exporter": "python",
   "pygments_lexer": "ipython3",
   "version": "3.10.8"
  }
 },
 "nbformat": 4,
 "nbformat_minor": 5
}
