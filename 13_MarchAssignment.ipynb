{
 "cells": [
  {
   "cell_type": "markdown",
   "id": "42d9a83d-8c96-4d58-8d2c-5cf189b495c8",
   "metadata": {},
   "source": [
    "Ques 1:"
   ]
  },
  {
   "cell_type": "markdown",
   "id": "13af3950-b034-49b0-b476-5d8bcc974436",
   "metadata": {},
   "source": [
    "Ans: ANOVA (Analysis of Variance) is a statistical method used to determine whether there are significant differences between the means of two or more groups. The validity of ANOVA results depends on certain assumptions that must be met:\n",
    "Normality assumption: The data should follow a normal distribution within each group.\n",
    "Homogeneity of variance assumption: The variance of the data should be equal across all groups.\n",
    "Independence assumption: The observations in each group should be independent of each other.\n",
    "If any of these assumptions are violated, it can impact the validity of ANOVA results.\n",
    "Examples of violations that could impact the validity of ANOVA results are:\n",
    "Non-normality: If the data does not follow a normal distribution within each group, the ANOVA results may be biased. For example, if the data is heavily skewed or has outliers, it may violate the normality assumption. In such cases, a non-parametric alternative to ANOVA may be more appropriate.\n",
    "Heterogeneity of variance: If the variance of the data is not equal across all groups, the ANOVA results may be unreliable. For example, if the variance in one group is much larger than the variance in another group, it may violate the homogeneity of variance assumption. In such cases, a modified version of ANOVA, such as Welch's ANOVA, may be more appropriate.\n",
    "Lack of independence: If the observations in each group are not independent, the ANOVA results may be invalid. For example, if the same individual is included in multiple groups, or if there is a clustering effect in the data, it may violate the independence assumption. In such cases, a mixed-effects model or a repeated measures ANOVA may be more appropriate.\n",
    "It is important to check for violations of these assumptions before interpreting ANOVA results, as failure to meet these assumptions may lead to erroneous conclusions."
   ]
  },
  {
   "cell_type": "markdown",
   "id": "34cbd82a-97fd-44b7-84ec-9be982700496",
   "metadata": {},
   "source": [
    "Ques 2:"
   ]
  },
  {
   "cell_type": "markdown",
   "id": "7a5bcc0e-beac-4c70-83bf-0796b285aaa0",
   "metadata": {},
   "source": [
    "Ans : The three types of ANOVA are:\n",
    "\n",
    "One-way ANOVA: This type of ANOVA is used when there is only one independent variable and one dependent variable. It is used to test whether there are significant differences between the means of three or more groups. For example, a one-way ANOVA could be used to test whether there is a significant difference in the average income of people living in different regions of a country.\n",
    "\n",
    "Two-way ANOVA: This type of ANOVA is used when there are two independent variables and one dependent variable. It is used to test whether there are significant differences between the means of groups formed by the combination of two independent variables. For example, a two-way ANOVA could be used to test whether there is a significant difference in the average weight of plants grown in different soil types and with different levels of fertilizer.\n",
    "\n",
    "Mixed ANOVA: This type of ANOVA is used when there are two or more independent variables, but at least one of them is a within-subjects variable (repeated measures). A within-subjects variable is one where the same subject is measured multiple times under different conditions. A mixed ANOVA can help determine whether there are significant differences between the means of groups formed by the combination of two or more independent variables, while accounting for the potential influence of repeated measures. For example, a mixed ANOVA could be used to test whether there is a significant difference in the average reaction time of participants in a study who are exposed to different types of stimuli (independent variable 1) and who are tested under different levels of fatigue (independent variable 2)."
   ]
  },
  {
   "cell_type": "markdown",
   "id": "29e1bae3-12a9-4929-a209-012620f65bf1",
   "metadata": {},
   "source": [
    "Ques 3:"
   ]
  },
  {
   "cell_type": "markdown",
   "id": "11147750-a036-4755-a070-1d46e53f3663",
   "metadata": {},
   "source": [
    "Ans: Partitioning of variance is the process of dividing the total variance in a dataset into its different components in ANOVA. ANOVA uses partitioning of variance to determine whether the differences between group means are statistically significant or not.\n",
    "\n",
    "The total variance in the dataset is split into two components: the variance between groups (also known as the \"explained variance\") and the variance within groups (also known as the \"unexplained variance\"). The variance between groups measures the differences between group means, while the variance within groups measures the variation within each group.\n",
    "\n",
    "The ratio of the between-groups variance to the within-groups variance is used to calculate the F-statistic, which is used to determine whether there is a significant difference between group means.\n",
    "\n",
    "It is important to understand the concept of partitioning of variance in ANOVA because it provides a framework for analyzing the variation in a dataset and determining the sources of variation that contribute to the differences between groups. This information can be used to identify factors that are driving the differences between groups and to develop interventions or treatments that target these factors. In addition, understanding the partitioning of variance helps in interpreting the results of ANOVA and determining whether the observed differences between group means are statistically significant or due to chance."
   ]
  },
  {
   "cell_type": "markdown",
   "id": "06cfc32c-1822-47eb-ac19-c86855e7fbe9",
   "metadata": {},
   "source": [
    "Ques 4:"
   ]
  },
  {
   "cell_type": "markdown",
   "id": "0f5aa76c-18db-41f8-855d-5e8b38e3f5b7",
   "metadata": {},
   "source": [
    "Ans: "
   ]
  },
  {
   "cell_type": "code",
   "execution_count": 2,
   "id": "abf4dd58-2e15-4e11-85e5-2c73aca71165",
   "metadata": {},
   "outputs": [
    {
     "name": "stdout",
     "output_type": "stream",
     "text": [
      "Total sum of squares (SST): 17.499999999999993\n",
      "Explained sum of squares (SSE): 15.999999999999995\n",
      "Residual sum of squares (SSR): 1.5\n"
     ]
    }
   ],
   "source": [
    "import pandas as pd\n",
    "import statsmodels.api as sm\n",
    "from statsmodels.formula.api import ols\n",
    "\n",
    "# create a sample dataset\n",
    "data = {'Group': ['A', 'A', 'B', 'B', 'C', 'C'],\n",
    "        'Value': [3, 4, 6, 5, 7, 8]}\n",
    "df = pd.DataFrame(data)\n",
    "\n",
    "# fit the one-way ANOVA model\n",
    "model = ols('Value ~ Group', data=df).fit()\n",
    "anova_table = sm.stats.anova_lm(model, typ=2)\n",
    "\n",
    "# extract the sum of squares\n",
    "SST = anova_table['sum_sq']['Group'] + anova_table['sum_sq']['Residual']\n",
    "SSE = anova_table['sum_sq']['Group']\n",
    "SSR = anova_table['sum_sq']['Residual']\n",
    "\n",
    "print('Total sum of squares (SST):', SST)\n",
    "print('Explained sum of squares (SSE):', SSE)\n",
    "print('Residual sum of squares (SSR):', SSR)"
   ]
  },
  {
   "cell_type": "markdown",
   "id": "5c8c38ab-abdc-4dd0-912c-1d306043192d",
   "metadata": {},
   "source": [
    "Ques 5:"
   ]
  },
  {
   "cell_type": "markdown",
   "id": "366e6b1f-d2c3-4e18-a769-6d8dd2b90f9e",
   "metadata": {},
   "source": [
    "Ans: "
   ]
  },
  {
   "cell_type": "code",
   "execution_count": 3,
   "id": "62c35dd2-2326-4f1a-a5f4-37ba99ac7d62",
   "metadata": {},
   "outputs": [
    {
     "name": "stdout",
     "output_type": "stream",
     "text": [
      "Main effect of Group1: 6.999999999999996\n",
      "Main effect of Group2: 1.3333333333333293\n",
      "Interaction effect: 0.3333333333333315\n"
     ]
    }
   ],
   "source": [
    "import pandas as pd\n",
    "import statsmodels.api as sm\n",
    "from statsmodels.formula.api import ols\n",
    "\n",
    "# create a sample dataset\n",
    "data = {'Group1': ['A', 'A', 'B', 'B', 'C', 'C', 'A', 'A', 'B', 'B', 'C', 'C'],\n",
    "        'Group2': ['X', 'Y', 'X', 'Y', 'X', 'Y', 'X', 'Y', 'X', 'Y', 'X', 'Y'],\n",
    "        'Value': [3, 4, 6, 5, 7, 8, 4, 5, 6, 7, 5, 6]}\n",
    "df = pd.DataFrame(data)\n",
    "\n",
    "# fit the two-way ANOVA model\n",
    "model = ols('Value ~ Group1 + Group2 + Group1:Group2', data=df).fit()\n",
    "anova_table = sm.stats.anova_lm(model, typ=2)\n",
    "\n",
    "# extract the main effects and interaction effects\n",
    "main_effect_group1 = anova_table['sum_sq']['Group1'] / anova_table['df']['Group1']\n",
    "main_effect_group2 = anova_table['sum_sq']['Group2'] / anova_table['df']['Group2']\n",
    "interaction_effect = anova_table['sum_sq']['Group1:Group2'] / anova_table['df']['Group1:Group2']\n",
    "\n",
    "print('Main effect of Group1:', main_effect_group1)\n",
    "print('Main effect of Group2:', main_effect_group2)\n",
    "print('Interaction effect:', interaction_effect)"
   ]
  },
  {
   "cell_type": "markdown",
   "id": "d4202fd6-2e62-47f3-8579-1941494dadf3",
   "metadata": {},
   "source": [
    "Ques 6:"
   ]
  },
  {
   "cell_type": "markdown",
   "id": "bf733b3f-eb25-4663-aef5-9d1d1423de33",
   "metadata": {},
   "source": [
    "Ans: In a one-way ANOVA, the F-statistic tests the null hypothesis that all the group means are equal against the alternative hypothesis that at least one group mean is different from the others. The p-value associated with the F-statistic indicates the probability of obtaining such an extreme result if the null hypothesis were true.\n",
    "\n",
    "In this case, the obtained F-statistic of 5.23 and a p-value of 0.02 suggests that there is a statistically significant difference between the group means. We can reject the null hypothesis and conclude that at least one of the group means is different from the others.\n",
    "\n",
    "The interpretation of the results may depend on the specific context and research question. However, a significant difference between the group means may suggest that the grouping variable has an effect on the outcome variable. Further analysis such as post-hoc tests or pairwise comparisons may be necessary to determine which groups differ significantly from each other.\n",
    "\n",
    "It's also important to note that the effect size should be considered in addition to the statistical significance of the results. A small effect size may indicate that the difference between the group means, while statistically significant, is not practically significant or meaningful."
   ]
  },
  {
   "cell_type": "markdown",
   "id": "884d1bec-1069-4776-b5e1-5e354d4e64fe",
   "metadata": {},
   "source": [
    "Ques 7:"
   ]
  },
  {
   "cell_type": "markdown",
   "id": "958bbe3d-f63e-4732-8b36-bb3db2e20fb5",
   "metadata": {},
   "source": [
    "Ans: In a repeated measures ANOVA, missing data can arise due to various reasons, such as participant dropouts or technical issues during data collection. Handling missing data appropriately is essential because it can affect the validity and reliability of the statistical analysis results.\n",
    "\n",
    "There are several methods to handle missing data in a repeated measures ANOVA, including:\n",
    "\n",
    "Listwise deletion: This method involves removing any participant with missing data on any of the measures, resulting in a reduced sample size. While this method is simple to apply, it can result in biased estimates and reduced statistical power, especially when the missing data are not missing completely at random (MCAR).\n",
    "\n",
    "Pairwise deletion: This method involves using only the available data for each comparison. While it maximizes the sample size and statistical power, it can result in biased estimates and inconsistent results due to the different sample sizes across comparisons.\n",
    "\n",
    "Imputation: This method involves estimating the missing data using statistical techniques such as mean imputation, regression imputation, or multiple imputation. While imputation can provide unbiased estimates and increase statistical power, it assumes that the missing data are missing at random (MAR), and the results can be sensitive to the imputation model assumptions.\n",
    "\n",
    "The potential consequences of using different methods to handle missing data in a repeated measures ANOVA can include biased estimates, increased type I and type II errors, reduced statistical power, and inconsistency across analyses. Therefore, it is essential to assess the missing data pattern and choose the appropriate method based on the underlying assumptions and the research question. Additionally, sensitivity analyses should be conducted to evaluate the robustness of the results to different missing data handling methods."
   ]
  },
  {
   "cell_type": "markdown",
   "id": "86564867-a799-419a-b422-c2a79842c919",
   "metadata": {},
   "source": [
    "Ques 8:"
   ]
  },
  {
   "cell_type": "markdown",
   "id": "84a7f6cd-7416-41b8-a34d-97b4848dc37d",
   "metadata": {},
   "source": [
    "Ans: Post-hoc tests are used after ANOVA to determine which specific groups differ significantly from each other. Some common post-hoc tests used after ANOVA include:\n",
    "\n",
    "Tukey's Honestly Significant Difference (HSD) test: This test is used to determine the pairwise differences between all groups. It is appropriate when there are no prior hypotheses about which specific groups differ.\n",
    "\n",
    "Bonferroni correction: This test adjusts the p-values to control for multiple comparisons. It is appropriate when there are many pairwise comparisons.\n",
    "\n",
    "Scheffe's test: This test is used to determine the overall differences between groups, rather than pairwise differences. It is appropriate when there are specific hypotheses about which groups differ.\n",
    "\n",
    "Games-Howell test: This test is used when the assumption of equal variances is violated. It is appropriate when there are many pairwise comparisons, and the groups have unequal variances.\n",
    "\n",
    "Duncan's multiple range test: This test is used when there is a specific control group and the interest is in comparing other groups to the control group.\n",
    "\n",
    "Student-Newman-Keuls test (SNK): This test is used when the assumption of equal variances is met. It is appropriate when there are many pairwise comparisons and the groups have equal variances.\n",
    "\n",
    "An example of a situation where a post-hoc test might be necessary is when a researcher wants to compare the mean scores of three different treatments (e.g., drug A, drug B, and a placebo) on a dependent variable (e.g., blood pressure). After conducting an ANOVA and finding a significant main effect for the treatments, a post-hoc test can be conducted to determine which specific treatments differ significantly from each other. For instance, Tukey's HSD test can be used to compare all pairwise differences between the treatments. This can help identify which treatment is more effective than the others in reducing blood pressure."
   ]
  },
  {
   "cell_type": "markdown",
   "id": "3f61b19f-d952-4d33-b40f-10f77912c01a",
   "metadata": {},
   "source": [
    "Ques 9:"
   ]
  },
  {
   "cell_type": "markdown",
   "id": "51bda0c0-a4aa-4a1c-b594-74b4d802d8f7",
   "metadata": {},
   "source": [
    "Ans: "
   ]
  },
  {
   "cell_type": "code",
   "execution_count": 4,
   "id": "2dc60162-6dd3-4196-8708-aea14a0cef5d",
   "metadata": {},
   "outputs": [
    {
     "name": "stdout",
     "output_type": "stream",
     "text": [
      "F-statistic:  5.37206924256811\n",
      "p-value:  0.005600949528974236\n",
      "There is a significant difference between the mean weight loss of the three diets.\n"
     ]
    }
   ],
   "source": [
    "import scipy.stats as stats\n",
    "\n",
    "# Define the weight loss data for each diet\n",
    "diet_a = [5, 6, 7, 8, 3, 2, 4, 9, 8, 6, 7, 5, 3, 2, 1, 2, 3, 4, 5, 6,\n",
    "          7, 8, 9, 10, 11, 5, 7, 6, 4, 8, 9, 6, 4, 2, 3, 4, 5, 6, 7, 8,\n",
    "          9, 10, 3, 4, 5, 6, 7, 8, 9, 10]\n",
    "\n",
    "diet_b = [7, 6, 5, 8, 9, 6, 4, 2, 3, 5, 7, 8, 9, 6, 5, 4, 7, 6, 5, 8,\n",
    "          9, 7, 6, 5, 4, 3, 2, 4, 5, 6, 7, 8, 9, 3, 4, 5, 6, 7, 8, 9, 10,\n",
    "          3, 4, 5, 6, 7, 8, 9, 10, 11]\n",
    "\n",
    "diet_c = [4, 5, 6, 7, 8, 9, 10, 11, 4, 5, 6, 7, 8, 9, 10, 11, 4, 5, 6,\n",
    "          7, 8, 9, 10, 11, 4, 5, 6, 7, 8, 9, 10, 11, 4, 5, 6, 7, 8, 9, 10,\n",
    "          11, 4, 5, 6, 7, 8, 9, 10, 11, 4, 5]\n",
    "\n",
    "# Conduct a one-way ANOVA\n",
    "f_statistic, p_value = stats.f_oneway(diet_a, diet_b, diet_c)\n",
    "\n",
    "# Report the results\n",
    "print(\"F-statistic: \", f_statistic)\n",
    "print(\"p-value: \", p_value)\n",
    "if p_value < 0.05:\n",
    "    print(\"There is a significant difference between the mean weight loss of the three diets.\")\n",
    "else:\n",
    "    print(\"There is no significant difference between the mean weight loss of the three diets.\")"
   ]
  },
  {
   "cell_type": "raw",
   "id": "fc6df7a3-98d1-42ce-af1f-fd582f7d2d97",
   "metadata": {},
   "source": [
    "Ques 10:"
   ]
  },
  {
   "cell_type": "raw",
   "id": "5fb3032b-f1f8-4212-b10f-d8b86b51808d",
   "metadata": {},
   "source": [
    "Ans:"
   ]
  },
  {
   "cell_type": "code",
   "execution_count": 5,
   "id": "8ff7e406-a8c9-4a13-8cc6-00f74e70ab8d",
   "metadata": {},
   "outputs": [
    {
     "name": "stdout",
     "output_type": "stream",
     "text": [
      "                                                 sum_sq    df         F  \\\n",
      "C(software_programs)                           1.433333   2.0  0.101815   \n",
      "C(employee_experience)                        12.150000   1.0  1.726125   \n",
      "C(software_programs):C(employee_experience)    1.300000   2.0  0.092344   \n",
      "Residual                                     380.100000  54.0       NaN   \n",
      "\n",
      "                                               PR(>F)  \n",
      "C(software_programs)                         0.903369  \n",
      "C(employee_experience)                       0.194461  \n",
      "C(software_programs):C(employee_experience)  0.911935  \n",
      "Residual                                          NaN  \n"
     ]
    }
   ],
   "source": [
    "import pandas as pd\n",
    "import statsmodels.api as sm\n",
    "from statsmodels.formula.api import ols\n",
    "\n",
    "# Define the data\n",
    "software_programs = ['A', 'B', 'C'] * 20\n",
    "employee_experience = ['Novice'] * 30 + ['Experienced'] * 30\n",
    "time_to_complete_task = [10, 12, 11, 14, 15, 13, 16, 18, 17, 12, 10, 11, 13, 14, 12, 10, 11, 12, 14, 15,\n",
    "                         16, 14, 12, 13, 15, 16, 18, 12, 10, 11, 15, 16, 17, 11, 10, 12, 14, 15, 18, 19,\n",
    "                         17, 16, 15, 14, 12, 13, 11, 12, 10, 13, 14, 17, 18, 19, 16, 13, 14, 12, 11, 10]\n",
    "\n",
    "# Create a pandas DataFrame\n",
    "data = pd.DataFrame({'software_programs': software_programs,\n",
    "                     'employee_experience': employee_experience,\n",
    "                     'time_to_complete_task': time_to_complete_task})\n",
    "\n",
    "# Conduct a two-way ANOVA\n",
    "model = ols('time_to_complete_task ~ C(software_programs) + C(employee_experience) + C(software_programs):C(employee_experience)', data=data).fit()\n",
    "table = sm.stats.anova_lm(model, typ=2)\n",
    "\n",
    "# Report the results\n",
    "print(table)"
   ]
  },
  {
   "cell_type": "raw",
   "id": "a35e4d9a-930e-468a-8b26-d0cf833e7010",
   "metadata": {},
   "source": [
    "Ques 11:"
   ]
  },
  {
   "cell_type": "raw",
   "id": "8547bd8e-804e-4eac-b8dc-ae650d41eeeb",
   "metadata": {},
   "source": [
    "Ans: "
   ]
  },
  {
   "cell_type": "code",
   "execution_count": 8,
   "id": "fe296ebe-757c-4d05-bcf2-2cbe773d58ce",
   "metadata": {},
   "outputs": [
    {
     "name": "stdout",
     "output_type": "stream",
     "text": [
      "t-statistic: -2.752033547369225\n",
      "p-value: 0.006999891505388277\n"
     ]
    }
   ],
   "source": [
    "import numpy as np\n",
    "from scipy.stats import ttest_ind\n",
    "\n",
    "# Define the data\n",
    "control_group = [80, 70, 85, 90, 75, 95, 85, 80, 70, 75, 85, 90, 70, 75, 85, 80, 70, 90, 75, 85,\n",
    "                 80, 70, 75, 85, 90, 75, 85, 80, 70, 75, 85, 80, 70, 90, 75, 85, 80, 70, 75, 85,\n",
    "                 80, 70, 75, 85, 90, 75, 85, 80, 70, 75, 85, 80, 70]\n",
    "experimental_group = [90, 85, 95, 80, 75, 90, 85, 80, 75, 90, 85, 80, 75, 90, 85, 80, 75, 90, 85, 80,\n",
    "                      75, 90, 85, 80, 75, 90, 85, 80, 75, 90, 85, 80, 75, 90, 85, 80, 75, 90, 85, 80,\n",
    "                      75, 90, 85, 80, 75, 90, 85, 80, 75, 90, 85, 80]\n",
    "\n",
    "# Conduct a two-sample t-test\n",
    "t_stat, p_value = ttest_ind(control_group, experimental_group)\n",
    "\n",
    "# Report the results\n",
    "print('t-statistic:', t_stat)\n",
    "print('p-value:', p_value)"
   ]
  },
  {
   "cell_type": "raw",
   "id": "65478b3c-0f8c-4fc9-b232-141517dd0788",
   "metadata": {},
   "source": [
    "Ques 12:"
   ]
  },
  {
   "cell_type": "raw",
   "id": "6777c678-3b9b-446f-812e-b666f73c4d0a",
   "metadata": {},
   "source": [
    "Ans: "
   ]
  },
  {
   "cell_type": "code",
   "execution_count": 13,
   "id": "60583134-b7ae-4ff1-a836-071333b8c239",
   "metadata": {},
   "outputs": [
    {
     "name": "stdout",
     "output_type": "stream",
     "text": [
      "F-statistic: nan\n",
      "p-value: nan\n"
     ]
    }
   ],
   "source": [
    "import pandas as pd\n",
    "import scipy.stats as stats\n",
    "\n",
    "# create a DataFrame with the sales data\n",
    "sales_data = pd.DataFrame({\n",
    "    'Store': ['A', 'A', 'A', ..., 'C', 'C', 'C'],\n",
    "    'Sales': [100, 120, 80, ..., 90, 110, 95]\n",
    "})\n",
    "\n",
    "# conduct a one-way ANOVA\n",
    "f_statistic, p_value = stats.f_oneway(\n",
    "    sales_data.loc[sales_data['Store'] == 'A', 'Sales'],\n",
    "    sales_data.loc[sales_data['Store'] == 'B', 'Sales'],\n",
    "    sales_data.loc[sales_data['Store'] == 'C', 'Sales']\n",
    ")\n",
    "\n",
    "print('F-statistic:', f_statistic)\n",
    "print('p-value:', p_value)"
   ]
  },
  {
   "cell_type": "markdown",
   "id": "d5333962-0822-4d98-b088-5e47ef1ae161",
   "metadata": {},
   "source": []
  }
 ],
 "metadata": {
  "kernelspec": {
   "display_name": "Python 3 (ipykernel)",
   "language": "python",
   "name": "python3"
  },
  "language_info": {
   "codemirror_mode": {
    "name": "ipython",
    "version": 3
   },
   "file_extension": ".py",
   "mimetype": "text/x-python",
   "name": "python",
   "nbconvert_exporter": "python",
   "pygments_lexer": "ipython3",
   "version": "3.10.8"
  }
 },
 "nbformat": 4,
 "nbformat_minor": 5
}
