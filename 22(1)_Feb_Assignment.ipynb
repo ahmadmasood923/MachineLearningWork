{
 "cells": [
  {
   "cell_type": "markdown",
   "id": "6a2676cf-830c-4489-986b-c87029aa3f70",
   "metadata": {},
   "source": [
    "### Ques 1:"
   ]
  },
  {
   "cell_type": "markdown",
   "id": "70516b98-c02e-4612-af48-6d63239f8d7f",
   "metadata": {},
   "source": [
    "### Ans: "
   ]
  },
  {
   "cell_type": "code",
   "execution_count": 8,
   "id": "523db82c-cb7b-438b-b23c-61cd091a2234",
   "metadata": {},
   "outputs": [
    {
     "name": "stdout",
     "output_type": "stream",
     "text": [
      "0     4\n",
      "1     8\n",
      "2    15\n",
      "3    16\n",
      "4    23\n",
      "5    42\n",
      "dtype: int64\n"
     ]
    }
   ],
   "source": [
    "import pandas as pd\n",
    "data = [4,8,15,16,23,42]\n",
    "series = pd.Series(data)\n",
    "print(series)"
   ]
  },
  {
   "cell_type": "markdown",
   "id": "8982c468-308b-46a1-a16a-b19d7f5fcaa6",
   "metadata": {},
   "source": [
    "### Ques 2:"
   ]
  },
  {
   "cell_type": "markdown",
   "id": "462d0e61-76b7-4929-896f-597750a101eb",
   "metadata": {},
   "source": [
    "### Ans: "
   ]
  },
  {
   "cell_type": "code",
   "execution_count": 10,
   "id": "1195eefe-21a1-42a1-a9b2-58cc5f6c1310",
   "metadata": {},
   "outputs": [
    {
     "name": "stdout",
     "output_type": "stream",
     "text": [
      "0           1\n",
      "1           2\n",
      "2           5\n",
      "3      Masood\n",
      "4        Asif\n",
      "5        Imad\n",
      "6      Sameer\n",
      "7      Faizan\n",
      "8       Yusuf\n",
      "9    PWSkills\n",
      "dtype: object\n"
     ]
    }
   ],
   "source": [
    "import pandas as pd\n",
    "var = [1, 2, 5, 'Masood', 'Asif', 'Imad', 'Sameer','Faizan', 'Yusuf', 'PWSkills']\n",
    "series = pd.Series(var)\n",
    "print(series)"
   ]
  },
  {
   "cell_type": "markdown",
   "id": "3141f45a-5a24-46ec-b5db-64dba23da52e",
   "metadata": {},
   "source": [
    "### Ques 3:"
   ]
  },
  {
   "cell_type": "markdown",
   "id": "07c8ff6b-7d48-4cae-96f4-8aebd2746fd8",
   "metadata": {},
   "source": [
    "### Ans:"
   ]
  },
  {
   "cell_type": "code",
   "execution_count": 15,
   "id": "fb7aa8d7-8461-438c-b8a9-d65a09f82b24",
   "metadata": {},
   "outputs": [
    {
     "data": {
      "text/html": [
       "<div>\n",
       "<style scoped>\n",
       "    .dataframe tbody tr th:only-of-type {\n",
       "        vertical-align: middle;\n",
       "    }\n",
       "\n",
       "    .dataframe tbody tr th {\n",
       "        vertical-align: top;\n",
       "    }\n",
       "\n",
       "    .dataframe thead th {\n",
       "        text-align: right;\n",
       "    }\n",
       "</style>\n",
       "<table border=\"1\" class=\"dataframe\">\n",
       "  <thead>\n",
       "    <tr style=\"text-align: right;\">\n",
       "      <th></th>\n",
       "      <th>Name</th>\n",
       "      <th>Age</th>\n",
       "      <th>Gender</th>\n",
       "    </tr>\n",
       "  </thead>\n",
       "  <tbody>\n",
       "    <tr>\n",
       "      <th>0</th>\n",
       "      <td>Alice</td>\n",
       "      <td>25</td>\n",
       "      <td>Female</td>\n",
       "    </tr>\n",
       "    <tr>\n",
       "      <th>1</th>\n",
       "      <td>Bob</td>\n",
       "      <td>30</td>\n",
       "      <td>Male</td>\n",
       "    </tr>\n",
       "    <tr>\n",
       "      <th>2</th>\n",
       "      <td>Claire</td>\n",
       "      <td>27</td>\n",
       "      <td>Female</td>\n",
       "    </tr>\n",
       "  </tbody>\n",
       "</table>\n",
       "</div>"
      ],
      "text/plain": [
       "     Name  Age  Gender\n",
       "0   Alice   25  Female\n",
       "1     Bob   30    Male\n",
       "2  Claire   27  Female"
      ]
     },
     "execution_count": 15,
     "metadata": {},
     "output_type": "execute_result"
    }
   ],
   "source": [
    "import pandas as pd\n",
    "\n",
    "dict1 = {'Name': ['Alice','Bob','Claire'],\n",
    "                  'Age' : [25,30,27],\n",
    "                  'Gender': ['Female','Male','Female']\n",
    "                 }\n",
    "df = pd.DataFrame(dict1)\n",
    "df"
   ]
  },
  {
   "cell_type": "markdown",
   "id": "fbb582ef-e1c1-4edb-ba77-e29e42547d21",
   "metadata": {},
   "source": [
    "### Ques 4:"
   ]
  },
  {
   "cell_type": "markdown",
   "id": "86ef60fd-eb40-4b96-b62a-d10144970294",
   "metadata": {},
   "source": [
    "### Ans: In pandas, a DataFrame is a two-dimensional labeled data structure that represents tabular data. It is similar to a table in a relational database or a spreadsheet, where data is organized in rows and columns. A DataFrame can hold heterogeneous data types, such as numbers, strings, and dates, within its columns.\n",
    "### A pandas Series, on the other hand, is a one-dimensional labeled array that can hold data of any type. It can be thought of as a single column of a DataFrame. A Series also has an index that labels each element of the series, allowing for easy access and alignment of data."
   ]
  },
  {
   "cell_type": "markdown",
   "id": "f6ca6270-f5d0-439e-86ff-d73de1be3275",
   "metadata": {},
   "source": [
    "### Ques 5:"
   ]
  },
  {
   "cell_type": "markdown",
   "id": "d323bdb0-8b22-4949-966b-ffb298a530ed",
   "metadata": {},
   "source": [
    "### Ans: There are numerous functions and methods available in pandas to manipulate data in a DataFrame. Some common functions include:\n",
    "### head() and tail(): These functions allow you to view the top and bottom rows of the DataFrame, respectively. They are useful for quickly inspecting the data and getting a sense of its structure.\n",
    "### info(): This function provides a summary of the DataFrame, including the column names, data types, and memory usage. It helps in understanding the overall data structure.\n",
    "### describe(): This function generates descriptive statistics of the DataFrame, such as count, mean, standard deviation, minimum, maximum, and quartiles, for each numeric column. It provides insights into the distribution and summary statistics of the data.\n",
    "### shape: This attribute returns the dimensions of the DataFrame as a tuple (rows, columns). It helps in understanding the size of the data.\n",
    "### isnull() and notnull(): These functions allow you to identify missing or non-missing values in the DataFrame. They return a boolean mask indicating the presence or absence of null values in the data.\n",
    "### dropna(): This function is used to remove rows or columns that contain missing values from the DataFrame. It helps in data cleaning and handling missing data.\n",
    "### fillna(): This function is used to fill missing values in the DataFrame with specified values or strategies. It helps in data imputation and handling missing data.\n",
    "### groupby(): This function is used for grouping the DataFrame based on one or more columns. It allows you to perform operations on grouped data, such as aggregations, transformations, or custom calculations.\n",
    "### sort_values(): This function is used to sort the DataFrame based on one or more columns. It allows you to arrange the data in a specified order, either ascending or descending.\n",
    "### apply(): This function is used to apply a custom function to each element, row, or column of the DataFrame. It enables custom data transformations and calculations."
   ]
  },
  {
   "cell_type": "markdown",
   "id": "bd92a2de-1e8f-4750-ba6e-d9b70f238a9d",
   "metadata": {},
   "source": [
    "### Ques 6:"
   ]
  },
  {
   "cell_type": "markdown",
   "id": "d3eee0e4-3176-4fed-a88a-47a9e61d3b0a",
   "metadata": {},
   "source": [
    "### Ans: Series: A pandas Series is a one-dimensional labeled array that can hold data of any type. It is mutable, allowing you to modify individual values, add or remove elements, and change the index labels.\n",
    "### DataFrame: A pandas DataFrame is a two-dimensional labeled data structure with columns of potentially different types. It is mutable, allowing modifications to the values, columns, and index labels. You can add or remove columns, modify existing values, and perform various operations to manipulate the data.\n",
    "### Panel: A pandas Panel is a three-dimensional data structure that can hold multiple DataFrames. However, it is considered deprecated and no longer recommended for use in recent versions of pandas. Panels are immutable, meaning their values cannot be modified once they are created."
   ]
  },
  {
   "cell_type": "markdown",
   "id": "53b006ae-2d35-4752-b71b-2a640c78d512",
   "metadata": {},
   "source": [
    "### Ques 7:"
   ]
  },
  {
   "cell_type": "markdown",
   "id": "ee4ea41b-543b-4a71-8b1d-b0d4aba39575",
   "metadata": {},
   "source": [
    "### Ans: "
   ]
  },
  {
   "cell_type": "code",
   "execution_count": 16,
   "id": "9b7d9bf5-884a-4cec-9d11-ab24301ffae4",
   "metadata": {},
   "outputs": [
    {
     "name": "stdout",
     "output_type": "stream",
     "text": [
      "      Name  Age      City\n",
      "0    Alice   25  New York\n",
      "1      Bob   30    London\n",
      "2  Charlie   35     Paris\n"
     ]
    }
   ],
   "source": [
    "import pandas as pd\n",
    "\n",
    "name = pd.Series(['Alice', 'Bob', 'Charlie'])\n",
    "age = pd.Series([25, 30, 35])\n",
    "city = pd.Series(['New York', 'London', 'Paris'])\n",
    "\n",
    "data = {'Name': name, 'Age': age, 'City': city}\n",
    "df = pd.DataFrame(data)\n",
    "\n",
    "print(df)"
   ]
  },
  {
   "cell_type": "code",
   "execution_count": null,
   "id": "b35f009c-41c2-4ed9-b295-2d2048e34343",
   "metadata": {},
   "outputs": [],
   "source": []
  }
 ],
 "metadata": {
  "kernelspec": {
   "display_name": "Python 3 (ipykernel)",
   "language": "python",
   "name": "python3"
  },
  "language_info": {
   "codemirror_mode": {
    "name": "ipython",
    "version": 3
   },
   "file_extension": ".py",
   "mimetype": "text/x-python",
   "name": "python",
   "nbconvert_exporter": "python",
   "pygments_lexer": "ipython3",
   "version": "3.10.8"
  }
 },
 "nbformat": 4,
 "nbformat_minor": 5
}
