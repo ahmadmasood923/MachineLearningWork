{
 "cells": [
  {
   "cell_type": "markdown",
   "id": "2d8d2d57-6dfb-4149-8e65-9e80a332a189",
   "metadata": {},
   "source": [
    "## Ques 1:"
   ]
  },
  {
   "cell_type": "markdown",
   "id": "046c9058-55e9-4c8a-9c76-875c86644f65",
   "metadata": {},
   "source": [
    "### Ans: Abstraction is used to hide the internal functionality of the function from the users. The users only interact with the basic implementation of the function, but inner working is hidden. User is familiar with that \"what function does\" but they don't know \"how it does.\"\n",
    "### In simple words, we all use the smartphone and very much familiar with its functions such as camera, voice-recorder, call-dialing, etc., but we don't know how these operations are happening in the background. Let's take another example - When we use the TV remote to increase the volume. We don't know how pressing a key increases the volume of the TV. We only know to press the \"+\" button to increase the volume."
   ]
  },
  {
   "cell_type": "markdown",
   "id": "eeaa524a-a4e9-4479-a7b1-3b0c60073f2c",
   "metadata": {},
   "source": [
    "## Ques 2:"
   ]
  },
  {
   "cell_type": "markdown",
   "id": "d5a4275e-fca4-4c1f-97d1-da274ad9495d",
   "metadata": {},
   "source": [
    "### Ans: Abstraction sloves the problem in design level whereas Encapsulation solves the problem at implementation level.\n",
    "###      Abstraction is used for hiding unwanted data and giving relevant data whereas Encapsulation means hiding the code and data into a single unitto protect the data from outside world.\n",
    "###      Abstraction lets you focus what the object does instead of how it does it whereas Encapsulation means hiding the internal details or mechanics of how an object does something.\n",
    "###      Abstraction: Outer layout in terms of design. For example- Outer look of a mobile phone, like it has display screen and keypad buttons to dial numbers.\n",
    "###      Encapsulation: Inner layout used in terms of implementation. For example- Inner implementation details of a mobile phone, how keypad button    and display screen are connected with each other using circuits."
   ]
  },
  {
   "cell_type": "markdown",
   "id": "526176f5-ae3d-4a9b-b9f9-00c6496dd848",
   "metadata": {},
   "source": [
    "## Ques 3:"
   ]
  },
  {
   "cell_type": "markdown",
   "id": "f28c6ae6-dc05-46f7-9c94-a3253eaa9ff2",
   "metadata": {},
   "source": [
    "### Ans: The main goal of the abstract base class is to provide a standardized way to test whether an object adheres to a given specification. It can also prevent any attempt to instantiate a subclass that doesn’t override a particular method in the superclass. And finally, using an abstract class, a class can derive identity from another class without any object inheritance.\n",
    "###      It is necessary to verify whether an object implements a given method or property, especially while creating a library where other developers make use of it. A developer can use hasattr or isinstance methods to check whether the input conforms to a particular identity. But sometimes it is inconvenient to use those methods to check a myriad of different properties and methods. As a solution to this inconvenience, Python introduced a concept called abstract base class (abc). "
   ]
  },
  {
   "cell_type": "markdown",
   "id": "e5c9a19e-bf93-452d-98c0-47bfb5f42463",
   "metadata": {},
   "source": [
    "## Ques 4:"
   ]
  },
  {
   "cell_type": "markdown",
   "id": "c9ffe39f-3bfd-44ab-9b68-d67e2ce6590d",
   "metadata": {},
   "source": [
    "### Ans: Data Abstraction in Python can be achieved through creating abstract classes and inheriting them later. The classes that cannot be instantiated. This means that we cannot create objects of an abstract class and these are only meant to be inherited. Then an object of the derived class is used to access the features of the base class. These are specifically defined to lay a foundation of other classes that exhibit common behavior or characteristics.\n",
    "### The abstract class is an interface. Interfaces in OOP enable a class to inherit data and functions from a base class by extending it. In Python, we use the NotImplementedError to restrict the instantiation of a class. Any class having this error inside method definitions cannot be instantiated."
   ]
  },
  {
   "cell_type": "markdown",
   "id": "cb90c19f-6bd1-4b20-9aab-45e1bbc7e3ac",
   "metadata": {},
   "source": [
    "## Ques 5:"
   ]
  },
  {
   "cell_type": "markdown",
   "id": "24c66b74-71dd-4a7b-8176-a5d4289a1200",
   "metadata": {},
   "source": [
    "### Ans: Abstract classes are similar to interfaces. You cannot instantiate them, and they may contain a mix of methods declared with or without an implementation. However, with abstract classes, you can declare fields that are not static and final, and define public, protected, and private concrete methods. With interfaces, all fields are automatically public, static, and final, and all methods that you declare or define (as default methods) are public. In addition, you can extend only one class, whether or not it is abstract, whereas you can implement any number of interfaces."
   ]
  },
  {
   "cell_type": "code",
   "execution_count": null,
   "id": "65a24920-588d-4ee7-adcf-c8b6517b026c",
   "metadata": {},
   "outputs": [],
   "source": []
  }
 ],
 "metadata": {
  "kernelspec": {
   "display_name": "Python 3 (ipykernel)",
   "language": "python",
   "name": "python3"
  },
  "language_info": {
   "codemirror_mode": {
    "name": "ipython",
    "version": 3
   },
   "file_extension": ".py",
   "mimetype": "text/x-python",
   "name": "python",
   "nbconvert_exporter": "python",
   "pygments_lexer": "ipython3",
   "version": "3.10.8"
  }
 },
 "nbformat": 4,
 "nbformat_minor": 5
}
