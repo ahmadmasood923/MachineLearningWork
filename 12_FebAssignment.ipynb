{
 "cells": [
  {
   "cell_type": "markdown",
   "id": "3d5839b6-c233-4b5c-8eff-c896d8adc1d9",
   "metadata": {},
   "source": [
    "## Ques 1:"
   ]
  },
  {
   "cell_type": "markdown",
   "id": "3956f04f-d31c-4362-9fcf-64730cf490e2",
   "metadata": {},
   "source": [
    "### Ans: In Python, an exception is an error that occurs during the execution of a program, interrupting its normal flow. When an exception occurs, Python generates an object that represents the exception and raises it, which causes the program to stop unless the exception is caught and handled. Exceptions are typically caused by things like invalid input, unexpected behavior, or programming errors.\n",
    "### A syntax error, on the other hand, is a type of error that occurs when you have written invalid Python code. Syntax errors are detected by the Python interpreter when it attempts to parse the code, and they prevent the program from running at all. Examples of syntax errors include forgetting to close a parenthesis or quotation mark, misspelling a keyword, or using an operator incorrectly."
   ]
  },
  {
   "cell_type": "markdown",
   "id": "2d7b9967-a6b0-48e2-a28f-dafeab3fbfad",
   "metadata": {},
   "source": [
    "## Ques 2:"
   ]
  },
  {
   "cell_type": "markdown",
   "id": "f8a31722-1ba7-4d40-bc8f-fa45ce04ff1a",
   "metadata": {},
   "source": [
    "### Ans : When an exception in Python is not handled, it causes the program to terminate and displays an error message that includes the type of exception that occurred, a message describing the exception, and a traceback that shows the sequence of function calls and line numbers leading up to the exception."
   ]
  },
  {
   "cell_type": "code",
   "execution_count": 2,
   "id": "8b14e6ed-4d21-4ba6-92a0-c0040e91b3d1",
   "metadata": {},
   "outputs": [
    {
     "name": "stdin",
     "output_type": "stream",
     "text": [
      "Enter a number:  5\n"
     ]
    },
    {
     "ename": "ZeroDivisionError",
     "evalue": "division by zero",
     "output_type": "error",
     "traceback": [
      "\u001b[0;31m---------------------------------------------------------------------------\u001b[0m",
      "\u001b[0;31mZeroDivisionError\u001b[0m                         Traceback (most recent call last)",
      "Cell \u001b[0;32mIn[2], line 3\u001b[0m\n\u001b[1;32m      1\u001b[0m \u001b[38;5;66;03m# Example\u001b[39;00m\n\u001b[1;32m      2\u001b[0m num \u001b[38;5;241m=\u001b[39m \u001b[38;5;28mint\u001b[39m(\u001b[38;5;28minput\u001b[39m(\u001b[38;5;124m\"\u001b[39m\u001b[38;5;124mEnter a number: \u001b[39m\u001b[38;5;124m\"\u001b[39m))\n\u001b[0;32m----> 3\u001b[0m a \u001b[38;5;241m=\u001b[39m \u001b[43mnum\u001b[49m\u001b[38;5;241;43m/\u001b[39;49m\u001b[38;5;241;43m0\u001b[39;49m\n\u001b[1;32m      4\u001b[0m \u001b[38;5;66;03m# It will give zero division error\u001b[39;00m\n",
      "\u001b[0;31mZeroDivisionError\u001b[0m: division by zero"
     ]
    }
   ],
   "source": [
    "# Example\n",
    "num = int(input(\"Enter a number: \"))\n",
    "a = num/0\n",
    "# It will give zero division error"
   ]
  },
  {
   "cell_type": "markdown",
   "id": "f7a570a8-2a5e-466a-ba04-b430ac47ee5e",
   "metadata": {},
   "source": [
    "## Ques 3:"
   ]
  },
  {
   "cell_type": "markdown",
   "id": "322c81b3-90ac-4caf-9fe2-27b104d85ac5",
   "metadata": {},
   "source": [
    "### Ans : The try and except block in python is used to catch and handle exceptions.  Python executes code following the try statement as a “normal” part of the program. The code that follows the except statement is the program's response to any exceptions in the preceding try clause."
   ]
  },
  {
   "cell_type": "code",
   "execution_count": 4,
   "id": "5eb56c93-93ee-47d6-8b5a-6873ca8ae6ca",
   "metadata": {},
   "outputs": [
    {
     "name": "stdout",
     "output_type": "stream",
     "text": [
      "division by zero\n"
     ]
    }
   ],
   "source": [
    "# Example\n",
    "try:\n",
    "    a = 5/0\n",
    "    print(a)\n",
    "except Exception as e:\n",
    "    print(e) #--> This will give zero division error"
   ]
  },
  {
   "cell_type": "markdown",
   "id": "17f49f63-29cd-4451-8940-a21a2c3ea39f",
   "metadata": {},
   "source": [
    "## Ques 4:"
   ]
  },
  {
   "cell_type": "code",
   "execution_count": 5,
   "id": "5dd62eea-288f-48ba-bb58-236d307137fc",
   "metadata": {},
   "outputs": [
    {
     "name": "stdout",
     "output_type": "stream",
     "text": [
      "This is try block\n",
      "This block is exected only if else block is executed successfully\n"
     ]
    }
   ],
   "source": [
    "# try and else\n",
    "try :\n",
    "    print(\"This is try block\")\n",
    "except Exceptioneption as e:\n",
    "    print(\"This is except block\")\n",
    "else:\n",
    "    print(\"This block is exected only if else block is executed successfully\")"
   ]
  },
  {
   "cell_type": "code",
   "execution_count": 6,
   "id": "e470ed5e-0470-4942-a21e-6da88efe6bf7",
   "metadata": {},
   "outputs": [
    {
     "name": "stdout",
     "output_type": "stream",
     "text": [
      "This is try block\n",
      "This block is exected only if else block is executed successfully\n",
      "This block will get executed no matter what\n"
     ]
    }
   ],
   "source": [
    "# finally\n",
    "# try and else\n",
    "try :\n",
    "    print(\"This is try block\")\n",
    "except Exceptioneption as e:\n",
    "    print(\"This is except block\")\n",
    "else:\n",
    "    print(\"This block is exected only if else block is executed successfully\")\n",
    "finally:\n",
    "    print(\"This block will get executed no matter what\")"
   ]
  },
  {
   "cell_type": "code",
   "execution_count": 7,
   "id": "c4c4e5e8-ecbf-4671-aca0-0f934a5c41b1",
   "metadata": {},
   "outputs": [
    {
     "ename": "Exception",
     "evalue": "Sorry, no numbers below zero",
     "output_type": "error",
     "traceback": [
      "\u001b[0;31m---------------------------------------------------------------------------\u001b[0m",
      "\u001b[0;31mException\u001b[0m                                 Traceback (most recent call last)",
      "Cell \u001b[0;32mIn[7], line 5\u001b[0m\n\u001b[1;32m      2\u001b[0m x \u001b[38;5;241m=\u001b[39m \u001b[38;5;241m-\u001b[39m\u001b[38;5;241m1\u001b[39m\n\u001b[1;32m      4\u001b[0m \u001b[38;5;28;01mif\u001b[39;00m x \u001b[38;5;241m<\u001b[39m \u001b[38;5;241m0\u001b[39m:\n\u001b[0;32m----> 5\u001b[0m   \u001b[38;5;28;01mraise\u001b[39;00m \u001b[38;5;167;01mException\u001b[39;00m(\u001b[38;5;124m\"\u001b[39m\u001b[38;5;124mSorry, no numbers below zero\u001b[39m\u001b[38;5;124m\"\u001b[39m)\n",
      "\u001b[0;31mException\u001b[0m: Sorry, no numbers below zero"
     ]
    }
   ],
   "source": [
    "# raise \n",
    "x = -1\n",
    "\n",
    "if x < 0:\n",
    "  raise Exception(\"Sorry, no numbers below zero\")"
   ]
  },
  {
   "cell_type": "markdown",
   "id": "bd735f50-22f7-4a98-bdae-588927be6fea",
   "metadata": {},
   "source": [
    "## Ques 5:"
   ]
  },
  {
   "cell_type": "markdown",
   "id": "8b052c4e-eaea-4ec6-9887-7db104477026",
   "metadata": {},
   "source": [
    "### Ans : In Python, custom exceptions are user-defined exceptions that can be created by inheriting from the built-in Exception class or any of its subclasses. Custom exceptions allow you to define your own exception types that can be raised when certain conditions occur in your code.\n",
    "### Here is an example of how to define and use a custom exception in Python:"
   ]
  },
  {
   "cell_type": "code",
   "execution_count": 7,
   "id": "0b37cb8b-646f-4ed4-91e9-1e38f3e7e915",
   "metadata": {},
   "outputs": [
    {
     "name": "stdin",
     "output_type": "stream",
     "text": [
      "Enter a number:  17\n"
     ]
    },
    {
     "name": "stdout",
     "output_type": "stream",
     "text": [
      "Exception occurred: Invalid Age\n"
     ]
    }
   ],
   "source": [
    "# define Python user-defined exceptions\n",
    "class InvalidAgeException(Exception):\n",
    "    \"Raised when the input value is less than 18\"\n",
    "    pass\n",
    "\n",
    "# you need to guess this number\n",
    "number = 18\n",
    "\n",
    "try:\n",
    "    input_num = int(input(\"Enter a number: \"))\n",
    "    if input_num < number:\n",
    "        raise InvalidAgeException\n",
    "    else:\n",
    "        print(\"Eligible to Vote\")\n",
    "        \n",
    "except InvalidAgeException:\n",
    "    print(\"Exception occurred: Invalid Age\")"
   ]
  },
  {
   "cell_type": "markdown",
   "id": "7d6338ae-65b6-40ab-9eda-70d9097cbdc8",
   "metadata": {},
   "source": [
    "## Ques 6:"
   ]
  },
  {
   "cell_type": "code",
   "execution_count": 1,
   "id": "77c77f06-51f8-4926-9c5d-43a388d39a80",
   "metadata": {},
   "outputs": [],
   "source": [
    "class validate_age(Exception):\n",
    "    def __init__(self, msg):\n",
    "        self.msg = msg"
   ]
  },
  {
   "cell_type": "code",
   "execution_count": 2,
   "id": "9aeb3099-d596-45c0-b0b8-7570aedeb45a",
   "metadata": {},
   "outputs": [],
   "source": [
    "def validateage(age):\n",
    "    if age<0:\n",
    "        raise validate_age(\"Age is negative\")\n",
    "    elif age>200:\n",
    "        raise validate_age(\"Age is too high\")\n",
    "    else:\n",
    "        raise validate_age(\"Valid age\")"
   ]
  },
  {
   "cell_type": "code",
   "execution_count": 3,
   "id": "1de8bf34-9d85-4530-b298-1c79c82fbf94",
   "metadata": {},
   "outputs": [
    {
     "name": "stdin",
     "output_type": "stream",
     "text": [
      "Enter your age -10\n"
     ]
    },
    {
     "name": "stdout",
     "output_type": "stream",
     "text": [
      "Age is negative\n"
     ]
    }
   ],
   "source": [
    "try :\n",
    "    age = int(input(\"Enter your age\"))\n",
    "    validateage(age)\n",
    "except validate_age as e:\n",
    "    print(e)"
   ]
  },
  {
   "cell_type": "code",
   "execution_count": null,
   "id": "11053e4e-f9c0-4381-8c11-755c01520942",
   "metadata": {},
   "outputs": [],
   "source": []
  }
 ],
 "metadata": {
  "kernelspec": {
   "display_name": "Python 3 (ipykernel)",
   "language": "python",
   "name": "python3"
  },
  "language_info": {
   "codemirror_mode": {
    "name": "ipython",
    "version": 3
   },
   "file_extension": ".py",
   "mimetype": "text/x-python",
   "name": "python",
   "nbconvert_exporter": "python",
   "pygments_lexer": "ipython3",
   "version": "3.10.8"
  }
 },
 "nbformat": 4,
 "nbformat_minor": 5
}
