{
 "cells": [
  {
   "cell_type": "markdown",
   "id": "d85da4c7-bdb7-41b3-a46b-4f7958ab3cd4",
   "metadata": {},
   "source": [
    "## Ques 1:"
   ]
  },
  {
   "cell_type": "markdown",
   "id": "f544e0b4-92f3-48d5-a75e-0031d38c6942",
   "metadata": {},
   "source": [
    "### Ans: Multithreading is a programming technique in which multiple threads are created within a single process to execute tasks concurrently. In Python, multithreading is used to improve the performance of applications that perform CPU-bound tasks or that need to handle multiple I/O-bound tasks simultaneously.\n",
    "### Multithreading allows different parts of a program to run simultaneously and independently, which can lead to faster execution times and better resource utilization. It is particularly useful when working with I/O-bound tasks, such as reading from and writing to files or network sockets, because it allows other parts of the program to execute while waiting for I/O operations to complete."
   ]
  },
  {
   "cell_type": "markdown",
   "id": "3ef4133c-db77-48c9-8dc8-d3bdc09aeaf9",
   "metadata": {},
   "source": [
    "## Ques 2:"
   ]
  },
  {
   "cell_type": "markdown",
   "id": "2aba6b2d-b046-47cd-aa5e-2c655460d393",
   "metadata": {},
   "source": [
    "### Ans: The threading module is used in Python to create and manage threads. It provides a simple and efficient way to run multiple threads in a program, allowing for better utilization of system resources and improved performance.\n",
    "### activeCount(): This function returns the number of Thread objects that are active in the current program. An active Thread is a Thread that has been started and has not yet finished running. This function can be useful for monitoring the progress of a multi-threaded application.\n",
    "### currentThread(): This function returns a reference to the Thread object representing the current thread of execution. This can be useful for accessing information about the current thread, such as its name or thread ID.\n",
    "### enumerate(): This function returns a list of all Thread objects that are active in the current program. The list includes both daemon and non-daemon threads. This function can be useful for debugging multi-threaded applications or for monitoring the progress of a long-running thread."
   ]
  },
  {
   "cell_type": "markdown",
   "id": "22ed17b8-6215-46e3-8cc2-a0f9aa0672c0",
   "metadata": {},
   "source": [
    "## Ques 3:"
   ]
  },
  {
   "cell_type": "markdown",
   "id": "67ede55b-0321-4d6b-b859-c0c2f0d136c2",
   "metadata": {},
   "source": [
    "### Ans: run(): This method is called when a thread is started using the start() method. The run() method defines the code that the thread will execute.\n",
    "### start(): This method starts the execution of a thread. When called, the start() method calls the run() method of the thread.\n",
    "### join(): This method blocks the calling thread until the thread on which it is called has completed. It is commonly used to ensure that all threads in a program have finished executing before the program exits.\n",
    "### isAlive(): This method returns a Boolean value that indicates whether the thread is currently executing. If the thread is still running, this method returns True. Otherwise, it returns False."
   ]
  },
  {
   "cell_type": "markdown",
   "id": "ffb90845-693e-40f6-b061-f37a20c851dc",
   "metadata": {},
   "source": [
    "## Ques 4:"
   ]
  },
  {
   "cell_type": "markdown",
   "id": "df68cbb0-d2a9-408b-ae79-eb70d345facf",
   "metadata": {},
   "source": [
    "### Ans: "
   ]
  },
  {
   "cell_type": "code",
   "execution_count": 4,
   "id": "fce0b9fa-89f9-434f-9c05-751e99284ed3",
   "metadata": {},
   "outputs": [
    {
     "name": "stdout",
     "output_type": "stream",
     "text": [
      "Square of 1 is 1\n",
      "Square of 2 is 4\n",
      "Square of 3 is 9\n",
      "Square of 4 is 16\n",
      "Square of 5 is 25\n",
      "Square of 6 is 36\n",
      "Square of 7 is 49\n",
      "Square of 8 is 64\n",
      "Square of 9 is 81\n",
      "Square of 10 is 100\n",
      "Cube of 1 is 1\n",
      "Cube of 2 is 8\n",
      "Cube of 3 is 27\n",
      "Cube of 4 is 64\n",
      "Cube of 5 is 125\n",
      "Cube of 6 is 216\n",
      "Cube of 7 is 343\n",
      "Cube of 8 is 512\n",
      "Cube of 9 is 729\n",
      "Cube of 10 is 1000\n"
     ]
    }
   ],
   "source": [
    "import threading\n",
    "\n",
    "def print_squares():\n",
    "    for i in range(1, 11):\n",
    "        print(f\"Square of {i} is {i**2}\")\n",
    "\n",
    "def print_cubes():\n",
    "    for i in range(1, 11):\n",
    "        print(f\"Cube of {i} is {i**3}\")\n",
    "\n",
    "t1 = threading.Thread(target=print_squares)\n",
    "t2 = threading.Thread(target=print_cubes)\n",
    "\n",
    "t1.start()\n",
    "t2.start()\n",
    "\n",
    "t1.join()\n",
    "t2.join()"
   ]
  },
  {
   "cell_type": "markdown",
   "id": "b1c23b56-3256-40dc-b0da-cb5714342792",
   "metadata": {},
   "source": [
    "## Ques 5:"
   ]
  },
  {
   "cell_type": "markdown",
   "id": "d21f1cff-978f-441a-87a3-722f73cfca3a",
   "metadata": {},
   "source": [
    "### Ans: Advantages of multithreading:\n",
    "\n",
    "- Improved performance and responsiveness\n",
    "- Efficient use of CPU resources\n",
    "- Better utilization of I/O operations\n",
    "- Simplified code structure\n",
    "### Disadvantages of multithreading:\n",
    "- Increased complexity and potential for errors\n",
    "- Difficulty in debugging and testing\n",
    "- Synchronization and coordination issues\n",
    "- Risk of deadlock and race conditions"
   ]
  },
  {
   "cell_type": "markdown",
   "id": "f9688eae-fcee-4b57-b61b-601802c9a8dd",
   "metadata": {},
   "source": [
    "## Ques 6:"
   ]
  },
  {
   "cell_type": "markdown",
   "id": "467b284c-ae54-4be6-8353-5b7795b1f34f",
   "metadata": {},
   "source": [
    "### Ans: Deadlock refers to a situation in concurrent programming where two or more threads are blocked waiting for each other to release resources they hold, resulting in a standstill. Deadlocks occur when two or more threads acquire resources and are waiting for additional resources held by the other thread(s). In this situation, the threads are unable to proceed, and the system may become unresponsive. Deadlocks can be difficult to detect and can result in a system crash or hang.\n",
    "### Race condition refers to a situation in concurrent programming where the behavior of a program depends on the relative timing of events in different threads. A race condition occurs when two or more threads access a shared resource concurrently, and the outcome of the program depends on the order in which the threads execute. Race conditions can lead to incorrect results, crashes, or other unexpected behavior. To prevent race conditions, access to shared resources must be synchronized through locking mechanisms such as mutexes or semaphores to ensure that only one thread can access the resource at a time."
   ]
  },
  {
   "cell_type": "code",
   "execution_count": null,
   "id": "f332d4a5-b162-44c8-83ba-42f9cee032b3",
   "metadata": {},
   "outputs": [],
   "source": []
  }
 ],
 "metadata": {
  "kernelspec": {
   "display_name": "Python 3 (ipykernel)",
   "language": "python",
   "name": "python3"
  },
  "language_info": {
   "codemirror_mode": {
    "name": "ipython",
    "version": 3
   },
   "file_extension": ".py",
   "mimetype": "text/x-python",
   "name": "python",
   "nbconvert_exporter": "python",
   "pygments_lexer": "ipython3",
   "version": "3.10.8"
  }
 },
 "nbformat": 4,
 "nbformat_minor": 5
}
