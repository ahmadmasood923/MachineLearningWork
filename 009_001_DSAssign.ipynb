{
 "cells": [
  {
   "cell_type": "markdown",
   "id": "e4342593",
   "metadata": {},
   "source": [
    "1. Write a Python program to reverse a string without using any built-in string reversal functions.\n"
   ]
  },
  {
   "cell_type": "code",
   "execution_count": 3,
   "id": "65106b61",
   "metadata": {},
   "outputs": [
    {
     "data": {
      "text/plain": [
       "'4321'"
      ]
     },
     "execution_count": 3,
     "metadata": {},
     "output_type": "execute_result"
    }
   ],
   "source": [
    "def reverse_string(s):\n",
    "    reversed_str = \"\"\n",
    "    for i in range(len(s) - 1, -1, -1):\n",
    "        reversed_str += s[i]\n",
    "    return reversed_str\n",
    "s = '1234'\n",
    "reverse_string(s)"
   ]
  },
  {
   "cell_type": "markdown",
   "id": "046980c0",
   "metadata": {},
   "source": [
    "2. Implement a function to check if a given string is a palindrome."
   ]
  },
  {
   "cell_type": "code",
   "execution_count": 8,
   "id": "1b6cde0d",
   "metadata": {},
   "outputs": [
    {
     "data": {
      "text/plain": [
       "True"
      ]
     },
     "execution_count": 8,
     "metadata": {},
     "output_type": "execute_result"
    }
   ],
   "source": [
    "def is_palindrome(s):\n",
    "    left = 0\n",
    "    right = len(s) - 1\n",
    "\n",
    "    while left < right:\n",
    "        if s[left] != s[right]:\n",
    "            return False\n",
    "        left += 1\n",
    "        right -= 1\n",
    "\n",
    "    return True\n",
    "s = 'eye'\n",
    "is_palindrome(s)"
   ]
  },
  {
   "cell_type": "markdown",
   "id": "a2322f6d",
   "metadata": {},
   "source": [
    "3. Write a program to find the largest element in a given list.\n"
   ]
  },
  {
   "cell_type": "code",
   "execution_count": 11,
   "id": "f3edcd57",
   "metadata": {},
   "outputs": [
    {
     "data": {
      "text/plain": [
       "20"
      ]
     },
     "execution_count": 11,
     "metadata": {},
     "output_type": "execute_result"
    }
   ],
   "source": [
    "def find_largest(l):\n",
    "    largest = l[0]\n",
    "    for i in range(1,len(l)):\n",
    "        if l[i]>largest:\n",
    "            largest = l[i]\n",
    "    return largest\n",
    "l = [1,20,3,4,10,-10]\n",
    "find_largest(l)"
   ]
  },
  {
   "cell_type": "markdown",
   "id": "cc2ebf78",
   "metadata": {},
   "source": [
    "4. Implement a function to count the occurrence of each element in a list."
   ]
  },
  {
   "cell_type": "code",
   "execution_count": 13,
   "id": "db77de15",
   "metadata": {},
   "outputs": [
    {
     "data": {
      "text/plain": [
       "{1: 3, 2: 3, 3: 1, 4: 1, 0: 1}"
      ]
     },
     "execution_count": 13,
     "metadata": {},
     "output_type": "execute_result"
    }
   ],
   "source": [
    "def freqOccurrence(l1):\n",
    "    freqmap = {}\n",
    "    for i in l1:\n",
    "        if i in freqmap:\n",
    "            freqmap[i]+=1\n",
    "        else:\n",
    "            freqmap[i]=1\n",
    "    return freqmap\n",
    "l1 = [1,2,3,2,2,1,4,0,1]\n",
    "freqOccurrence(l1)"
   ]
  },
  {
   "cell_type": "markdown",
   "id": "3da68bf3",
   "metadata": {},
   "source": [
    "5. Write a Python program to find the second largest number in a list."
   ]
  },
  {
   "cell_type": "code",
   "execution_count": 15,
   "id": "cce2d134",
   "metadata": {},
   "outputs": [
    {
     "data": {
      "text/plain": [
       "31"
      ]
     },
     "execution_count": 15,
     "metadata": {},
     "output_type": "execute_result"
    }
   ],
   "source": [
    "def find_second_largest(lst):\n",
    "    if len(lst) < 2:\n",
    "        return None\n",
    "\n",
    "    largest = max(lst[0], lst[1])\n",
    "    second_largest = min(lst[0], lst[1])\n",
    "\n",
    "    for num in lst[2:]:\n",
    "        if num > largest:\n",
    "            second_largest = largest\n",
    "            largest = num\n",
    "        elif num > second_largest and num < largest:\n",
    "            second_largest = num\n",
    "\n",
    "    return second_largest\n",
    "lst = [1,2,10,20,4,35,31]\n",
    "find_second_largest(lst)"
   ]
  },
  {
   "cell_type": "markdown",
   "id": "b0a3de49",
   "metadata": {},
   "source": [
    "6. Implement a function to remove duplicate elements from a list."
   ]
  },
  {
   "cell_type": "code",
   "execution_count": 16,
   "id": "0e607ce9",
   "metadata": {},
   "outputs": [
    {
     "data": {
      "text/plain": [
       "[1, 2, 3, 4, 5]"
      ]
     },
     "execution_count": 16,
     "metadata": {},
     "output_type": "execute_result"
    }
   ],
   "source": [
    "def remove_duplicates(lst):\n",
    "    return list(set(lst))\n",
    "lst = [1,1,2,2,3,1,4,3,5]\n",
    "remove_duplicates(lst)"
   ]
  },
  {
   "cell_type": "markdown",
   "id": "61eab8ff",
   "metadata": {},
   "source": [
    "7. Write a program to calculate the factorial of a given number."
   ]
  },
  {
   "cell_type": "code",
   "execution_count": 18,
   "id": "55214c31",
   "metadata": {},
   "outputs": [
    {
     "data": {
      "text/plain": [
       "24"
      ]
     },
     "execution_count": 18,
     "metadata": {},
     "output_type": "execute_result"
    }
   ],
   "source": [
    "def factorial(n):\n",
    "    if n < 0:\n",
    "        return None\n",
    "\n",
    "    result = 1\n",
    "\n",
    "    for i in range(1, n + 1):\n",
    "        result *= i\n",
    "\n",
    "    return result\n",
    "n = 4\n",
    "factorial(n)"
   ]
  },
  {
   "cell_type": "markdown",
   "id": "e43462c7",
   "metadata": {},
   "source": [
    "8. Implement a function to check if a given number is prime.\n"
   ]
  },
  {
   "cell_type": "code",
   "execution_count": 20,
   "id": "ff9a18d3",
   "metadata": {},
   "outputs": [
    {
     "data": {
      "text/plain": [
       "False"
      ]
     },
     "execution_count": 20,
     "metadata": {},
     "output_type": "execute_result"
    }
   ],
   "source": [
    "def is_prime(num):\n",
    "    if num < 2:\n",
    "        return False\n",
    "\n",
    "    for i in range(2, int(num ** 0.5) + 1):\n",
    "        if num % i == 0:\n",
    "            return False\n",
    "\n",
    "    return True\n",
    "num = 4\n",
    "is_prime(num)"
   ]
  },
  {
   "cell_type": "markdown",
   "id": "5335ef04",
   "metadata": {},
   "source": [
    "9. Write a Python program to sort a list of integers in ascending order."
   ]
  },
  {
   "cell_type": "code",
   "execution_count": 21,
   "id": "dd3e9845",
   "metadata": {},
   "outputs": [
    {
     "data": {
      "text/plain": [
       "[-1, 1, 2, 3, 4, 10]"
      ]
     },
     "execution_count": 21,
     "metadata": {},
     "output_type": "execute_result"
    }
   ],
   "source": [
    "def list_sort(lst):\n",
    "    n = len(lst)\n",
    "\n",
    "    for i in range(n - 1):\n",
    "        swapped = False\n",
    "\n",
    "        for j in range(n - 1 - i):\n",
    "            if lst[j] > lst[j + 1]:\n",
    "                lst[j], lst[j + 1] = lst[j + 1], lst[j]\n",
    "                swapped = True\n",
    "\n",
    "        if not swapped:\n",
    "            break\n",
    "\n",
    "    return lst\n",
    "lst = [3,4,1,2,-1,10]\n",
    "list_sort(lst)"
   ]
  },
  {
   "cell_type": "markdown",
   "id": "4d599115",
   "metadata": {},
   "source": [
    "10. Implement a function to find the sum of all numbers in a list."
   ]
  },
  {
   "cell_type": "code",
   "execution_count": 23,
   "id": "950835e9",
   "metadata": {},
   "outputs": [
    {
     "data": {
      "text/plain": [
       "4"
      ]
     },
     "execution_count": 23,
     "metadata": {},
     "output_type": "execute_result"
    }
   ],
   "source": [
    "def find_sum(lst):\n",
    "    sum = 0\n",
    "    for i in lst:\n",
    "        sum = sum + i\n",
    "    return sum\n",
    "lst = [1,2,-1,4,-2]\n",
    "find_sum(lst)"
   ]
  },
  {
   "cell_type": "markdown",
   "id": "8b534f93",
   "metadata": {},
   "source": [
    "11. Write a program to find the common elements between two lists."
   ]
  },
  {
   "cell_type": "code",
   "execution_count": 25,
   "id": "f6567ef6",
   "metadata": {},
   "outputs": [
    {
     "data": {
      "text/plain": [
       "[1, 2, 4]"
      ]
     },
     "execution_count": 25,
     "metadata": {},
     "output_type": "execute_result"
    }
   ],
   "source": [
    "def find_common_elements(list1, list2):\n",
    "    common_elements = []\n",
    "    for element in list1:\n",
    "        if element in list2:\n",
    "            common_elements.append(element)\n",
    "    return common_elements\n",
    "list1 = [1,2,3,4]\n",
    "list2 = [1,2,4,5]\n",
    "find_common_elements(list1,list2)"
   ]
  },
  {
   "cell_type": "markdown",
   "id": "2f5c69cc",
   "metadata": {},
   "source": [
    "12. Implement a function to check if a given string is an anagram of another string.\n"
   ]
  },
  {
   "cell_type": "code",
   "execution_count": 26,
   "id": "e1636738",
   "metadata": {},
   "outputs": [
    {
     "data": {
      "text/plain": [
       "True"
      ]
     },
     "execution_count": 26,
     "metadata": {},
     "output_type": "execute_result"
    }
   ],
   "source": [
    "def is_anagram(str1, str2):\n",
    "    sorted_str1 = sorted(str1)\n",
    "    sorted_str2 = sorted(str2)\n",
    "    return sorted_str1 == sorted_str2\n",
    "str1 = 'abcd'\n",
    "str2 = 'badc'\n",
    "is_anagram(str1,str2)"
   ]
  },
  {
   "cell_type": "markdown",
   "id": "88fac56d",
   "metadata": {},
   "source": [
    "13. Write a Python program to generate all permutations of a given string."
   ]
  },
  {
   "cell_type": "code",
   "execution_count": 30,
   "id": "5a47c240",
   "metadata": {},
   "outputs": [
    {
     "data": {
      "text/plain": [
       "['abc', 'acb', 'bac', 'bca', 'cab', 'cba']"
      ]
     },
     "execution_count": 30,
     "metadata": {},
     "output_type": "execute_result"
    }
   ],
   "source": [
    "def generate_permutations(s):\n",
    "    if len(s) == 0:\n",
    "        return []\n",
    "\n",
    "    if len(s) == 1:\n",
    "        return [s]\n",
    "\n",
    "    permutations = []\n",
    "\n",
    "    for i in range(len(s)):\n",
    "        first = s[i]\n",
    "        remaining = s[:i] + s[i+1:]\n",
    "        for perm in generate_permutations(remaining):\n",
    "            permutations.append(first + perm)\n",
    "\n",
    "    return permutations\n",
    "s = \"abc\"\n",
    "generate_permutations(s)"
   ]
  },
  {
   "cell_type": "markdown",
   "id": "305178b6",
   "metadata": {},
   "source": [
    "14. Implement a function to calculate the Fibonacci sequence up to a given number of terms."
   ]
  },
  {
   "cell_type": "code",
   "execution_count": 32,
   "id": "6c0a03de",
   "metadata": {},
   "outputs": [
    {
     "data": {
      "text/plain": [
       "[0, 1, 1, 2, 3, 5]"
      ]
     },
     "execution_count": 32,
     "metadata": {},
     "output_type": "execute_result"
    }
   ],
   "source": [
    "def fibonacci_sequence(n):\n",
    "    sequence = []\n",
    "\n",
    "    if n >= 1:\n",
    "        sequence.append(0)\n",
    "\n",
    "    if n >= 2:\n",
    "        sequence.append(1)\n",
    "\n",
    "    for i in range(2, n):\n",
    "        next_number = sequence[i-1] + sequence[i-2]\n",
    "        sequence.append(next_number)\n",
    "\n",
    "    return sequence\n",
    "n = 6\n",
    "fibonacci_sequence(n)"
   ]
  },
  {
   "cell_type": "markdown",
   "id": "3e1c3a7f",
   "metadata": {},
   "source": [
    "15. Write a program to find the median of a list of numbers."
   ]
  },
  {
   "cell_type": "code",
   "execution_count": 33,
   "id": "13b02138",
   "metadata": {},
   "outputs": [
    {
     "data": {
      "text/plain": [
       "3.5"
      ]
     },
     "execution_count": 33,
     "metadata": {},
     "output_type": "execute_result"
    }
   ],
   "source": [
    "def find_median(numbers):\n",
    "    numbers.sort()\n",
    "    length = len(numbers)\n",
    "    if length % 2 == 0:\n",
    "        # List has an even number of elements, median is average of middle two\n",
    "        mid = length // 2\n",
    "        median = (numbers[mid - 1] + numbers[mid]) / 2\n",
    "    else:\n",
    "        # List has an odd number of elements, median is middle element\n",
    "        mid = length // 2\n",
    "        median = numbers[mid]\n",
    "    return median\n",
    "numbers = [1,2,3,4,10,9,8,3]\n",
    "find_median(numbers)"
   ]
  },
  {
   "cell_type": "markdown",
   "id": "108debeb",
   "metadata": {},
   "source": [
    "16. Implement a function to check if a given list is sorted in non-decreasing order.\n"
   ]
  },
  {
   "cell_type": "code",
   "execution_count": 35,
   "id": "6bd72b5a",
   "metadata": {},
   "outputs": [
    {
     "data": {
      "text/plain": [
       "True"
      ]
     },
     "execution_count": 35,
     "metadata": {},
     "output_type": "execute_result"
    }
   ],
   "source": [
    "def is_sorted(lst):\n",
    "    for i in range(len(lst) - 1):\n",
    "        if lst[i] > lst[i + 1]:\n",
    "            return False\n",
    "    return True\n",
    "lst = [1,2,4,5]\n",
    "is_sorted(lst)"
   ]
  },
  {
   "cell_type": "markdown",
   "id": "6849e8bf",
   "metadata": {},
   "source": [
    "17. Write a Python program to find the intersection of two lists.\n"
   ]
  },
  {
   "cell_type": "code",
   "execution_count": 37,
   "id": "b089332a",
   "metadata": {},
   "outputs": [
    {
     "data": {
      "text/plain": [
       "[2, 3]"
      ]
     },
     "execution_count": 37,
     "metadata": {},
     "output_type": "execute_result"
    }
   ],
   "source": [
    "def find_intersection(list1, list2):\n",
    "    set1 = set(list1)\n",
    "    set2 = set(list2)\n",
    "    intersection = set1.intersection(set2)\n",
    "    return list(intersection)\n",
    "list1 = [1,2,3]\n",
    "list2 = [2,3,4]\n",
    "find_intersection(list1,list2)"
   ]
  },
  {
   "cell_type": "markdown",
   "id": "1319eca2",
   "metadata": {},
   "source": [
    "18. Implement a function to find the maximum subarray sum in a given list.\n"
   ]
  },
  {
   "cell_type": "code",
   "execution_count": 43,
   "id": "8fefe370",
   "metadata": {},
   "outputs": [
    {
     "data": {
      "text/plain": [
       "31"
      ]
     },
     "execution_count": 43,
     "metadata": {},
     "output_type": "execute_result"
    }
   ],
   "source": [
    "def find_max_subarray_sum(lst):\n",
    "    if not lst:\n",
    "        return None\n",
    "\n",
    "    max_sum = lst[0]\n",
    "    current_sum = lst[0]\n",
    "\n",
    "    for num in lst[1:]:\n",
    "        current_sum = max(num, current_sum + num)\n",
    "        max_sum = max(max_sum, current_sum)\n",
    "\n",
    "    return max_sum\n",
    "lst = [1,-2,3,4,5,10,9,-10]\n",
    "find_max_subarray_sum(lst)"
   ]
  },
  {
   "cell_type": "markdown",
   "id": "66ceb519",
   "metadata": {},
   "source": [
    "19. Write a program to remove all vowels from a given string."
   ]
  },
  {
   "cell_type": "code",
   "execution_count": 44,
   "id": "7d187da2",
   "metadata": {},
   "outputs": [
    {
     "data": {
      "text/plain": [
       "'msdkhn'"
      ]
     },
     "execution_count": 44,
     "metadata": {},
     "output_type": "execute_result"
    }
   ],
   "source": [
    "def remove_vowels(s):\n",
    "    vowels = 'aeiouAEIOU'\n",
    "    result = ''\n",
    "\n",
    "    for char in s:\n",
    "        if char not in vowels:\n",
    "            result += char\n",
    "\n",
    "    return result\n",
    "s = 'masoodkhan'\n",
    "remove_vowels(s)"
   ]
  },
  {
   "cell_type": "markdown",
   "id": "b28ed08f",
   "metadata": {},
   "source": [
    "20. Implement a function to reverse the order of words in a given sentence.\n"
   ]
  },
  {
   "cell_type": "code",
   "execution_count": 45,
   "id": "0ea954bc",
   "metadata": {},
   "outputs": [
    {
     "data": {
      "text/plain": [
       "'Scientist Data great a be to going am I'"
      ]
     },
     "execution_count": 45,
     "metadata": {},
     "output_type": "execute_result"
    }
   ],
   "source": [
    "def reverse_sentence(sentence):\n",
    "    words = sentence.split()\n",
    "    reversed_words = words[::-1]\n",
    "    reversed_sentence = ' '.join(reversed_words)\n",
    "    return reversed_sentence\n",
    "sentence = \"I am going to be a great Data Scientist\"\n",
    "reverse_sentence(sentence)"
   ]
  },
  {
   "cell_type": "markdown",
   "id": "94b79920",
   "metadata": {},
   "source": [
    "21. Write a Python program to check if two strings are anagrams of each other.\n"
   ]
  },
  {
   "cell_type": "code",
   "execution_count": 49,
   "id": "9b07e6c2",
   "metadata": {},
   "outputs": [
    {
     "data": {
      "text/plain": [
       "True"
      ]
     },
     "execution_count": 49,
     "metadata": {},
     "output_type": "execute_result"
    }
   ],
   "source": [
    "def are_anagrams(str1, str2):\n",
    "    sorted_str1 = sorted(str1)\n",
    "    sorted_str2 = sorted(str2)\n",
    "    return sorted_str1 == sorted_str2\n",
    "str1 = 'abcd'\n",
    "str2 = 'bcda'\n",
    "are_anagrams(str1,str2)"
   ]
  },
  {
   "cell_type": "markdown",
   "id": "41a1e746",
   "metadata": {},
   "source": [
    "22. Implement a function to find the first non-repeating character in a string.\n"
   ]
  },
  {
   "cell_type": "code",
   "execution_count": 50,
   "id": "8491c194",
   "metadata": {},
   "outputs": [
    {
     "data": {
      "text/plain": [
       "'m'"
      ]
     },
     "execution_count": 50,
     "metadata": {},
     "output_type": "execute_result"
    }
   ],
   "source": [
    "def find_first_non_repeating_char(s):\n",
    "    char_frequency = {}\n",
    "\n",
    "    for char in s:\n",
    "        if char in char_frequency:\n",
    "            char_frequency[char] += 1\n",
    "        else:\n",
    "            char_frequency[char] = 1\n",
    "\n",
    "    for char in s:\n",
    "        if char_frequency[char] == 1:\n",
    "            return char\n",
    "\n",
    "    return None \n",
    "s = \"mabacdef\"\n",
    "find_first_non_repeating_char(s)"
   ]
  },
  {
   "cell_type": "markdown",
   "id": "ec7f3ee0",
   "metadata": {},
   "source": [
    "23. Write a program to find the prime factors of a given number.\n"
   ]
  },
  {
   "cell_type": "code",
   "execution_count": 56,
   "id": "7a367349",
   "metadata": {},
   "outputs": [
    {
     "data": {
      "text/plain": [
       "[2, 2, 2, 3]"
      ]
     },
     "execution_count": 56,
     "metadata": {},
     "output_type": "execute_result"
    }
   ],
   "source": [
    "def find_prime_factors(num):\n",
    "    prime_factors = []\n",
    "\n",
    "    while num % 2 == 0:\n",
    "        prime_factors.append(2)\n",
    "        num //= 2\n",
    "    i = 3\n",
    "    while i * i <= num:\n",
    "        if num % i == 0:\n",
    "            prime_factors.append(i)\n",
    "            num //= i\n",
    "        else:\n",
    "            i += 2\n",
    "\n",
    "    if num > 1:\n",
    "        prime_factors.append(num)\n",
    "\n",
    "    return prime_factors\n",
    "num = 24\n",
    "find_prime_factors(num)"
   ]
  },
  {
   "cell_type": "markdown",
   "id": "95f4d2ee",
   "metadata": {},
   "source": [
    "24. Implement a function to check if a given number is a power of two."
   ]
  },
  {
   "cell_type": "code",
   "execution_count": 57,
   "id": "59736285",
   "metadata": {},
   "outputs": [
    {
     "data": {
      "text/plain": [
       "True"
      ]
     },
     "execution_count": 57,
     "metadata": {},
     "output_type": "execute_result"
    }
   ],
   "source": [
    "def is_power_of_two(num):\n",
    "    if num <= 0:\n",
    "        return False\n",
    "\n",
    "    return (num & (num - 1)) == 0\n",
    "num = 64\n",
    "is_power_of_two(num)"
   ]
  },
  {
   "cell_type": "markdown",
   "id": "6de20660",
   "metadata": {},
   "source": [
    "25. Write a Python program to merge two sorted lists into a single sorted list.\n"
   ]
  },
  {
   "cell_type": "code",
   "execution_count": 58,
   "id": "3c82fb56",
   "metadata": {},
   "outputs": [
    {
     "data": {
      "text/plain": [
       "[1, 2, 3, 4, 5, 9, 10, 12, 13]"
      ]
     },
     "execution_count": 58,
     "metadata": {},
     "output_type": "execute_result"
    }
   ],
   "source": [
    "def merge_sorted_lists(list1, list2):\n",
    "    merged_list = []\n",
    "    i = j = 0\n",
    "\n",
    "    while i < len(list1) and j < len(list2):\n",
    "        if list1[i] <= list2[j]:\n",
    "            merged_list.append(list1[i])\n",
    "            i += 1\n",
    "        else:\n",
    "            merged_list.append(list2[j])\n",
    "            j += 1\n",
    "    while i < len(list1):\n",
    "        merged_list.append(list1[i])\n",
    "        i += 1\n",
    "    while j < len(list2):\n",
    "        merged_list.append(list2[j])\n",
    "        j += 1\n",
    "\n",
    "    return merged_list\n",
    "list1 = [1,2,10,12]\n",
    "list2 = [3,4,5,9,13]\n",
    "merge_sorted_lists(list1,list2)"
   ]
  },
  {
   "cell_type": "markdown",
   "id": "076a2a14",
   "metadata": {},
   "source": [
    "26. Implement a function to find the mode of a list of numbers.\n"
   ]
  },
  {
   "cell_type": "code",
   "execution_count": 59,
   "id": "e40975e8",
   "metadata": {},
   "outputs": [
    {
     "data": {
      "text/plain": [
       "[2]"
      ]
     },
     "execution_count": 59,
     "metadata": {},
     "output_type": "execute_result"
    }
   ],
   "source": [
    "def find_mode(numbers):\n",
    "    frequency = {}\n",
    "    max_frequency = 0\n",
    "    modes = []\n",
    "\n",
    "    for num in numbers:\n",
    "        if num in frequency:\n",
    "            frequency[num] += 1\n",
    "        else:\n",
    "            frequency[num] = 1\n",
    "\n",
    "        if frequency[num] > max_frequency:\n",
    "            max_frequency = frequency[num]\n",
    "\n",
    "    for num, freq in frequency.items():\n",
    "        if freq == max_frequency:\n",
    "            modes.append(num)\n",
    "\n",
    "    return modes\n",
    "numbers = [1,1,2,2,2,3,2,4,1,5,2,10]\n",
    "find_mode(numbers)"
   ]
  },
  {
   "cell_type": "markdown",
   "id": "938fbe6a",
   "metadata": {},
   "source": [
    "27. Write a program to find the greatest common divisor (GCD) of two numbers."
   ]
  },
  {
   "cell_type": "code",
   "execution_count": 62,
   "id": "5efe03cb",
   "metadata": {},
   "outputs": [
    {
     "data": {
      "text/plain": [
       "8"
      ]
     },
     "execution_count": 62,
     "metadata": {},
     "output_type": "execute_result"
    }
   ],
   "source": [
    "def find_gcd(a, b):\n",
    "    while b != 0:\n",
    "        a, b = b, a % b\n",
    "    return a\n",
    "a = 24\n",
    "b = 16\n",
    "find_gcd(a,b)"
   ]
  },
  {
   "cell_type": "markdown",
   "id": "cec19eae",
   "metadata": {},
   "source": [
    "28. Implement a function to calculate the square root of a given number.\n"
   ]
  },
  {
   "cell_type": "code",
   "execution_count": 63,
   "id": "da7850a0",
   "metadata": {},
   "outputs": [
    {
     "data": {
      "text/plain": [
       "9"
      ]
     },
     "execution_count": 63,
     "metadata": {},
     "output_type": "execute_result"
    }
   ],
   "source": [
    "def square_root(num):\n",
    "    if num < 0:\n",
    "        return None\n",
    "\n",
    "    if num == 0:\n",
    "        return 0\n",
    "\n",
    "    x = num\n",
    "    y = (x + 1) // 2\n",
    "\n",
    "    while y < x:\n",
    "        x = y\n",
    "        y = (x + num // x) // 2\n",
    "\n",
    "    return x\n",
    "num = 81\n",
    "square_root(num)"
   ]
  },
  {
   "cell_type": "markdown",
   "id": "03b1c33c",
   "metadata": {},
   "source": [
    "29. Write a Python program to check if a given string is a valid palindrome ignoring non-alphanumeric characters.\n"
   ]
  },
  {
   "cell_type": "code",
   "execution_count": 64,
   "id": "8b4e27f9",
   "metadata": {},
   "outputs": [
    {
     "data": {
      "text/plain": [
       "False"
      ]
     },
     "execution_count": 64,
     "metadata": {},
     "output_type": "execute_result"
    }
   ],
   "source": [
    "def is_valid_palindrome(s):\n",
    "    i = 0\n",
    "    j = len(s) - 1\n",
    "\n",
    "    while i < j:\n",
    "        while i < j and not s[i].isalnum():\n",
    "            i += 1\n",
    "        while i < j and not s[j].isalnum():\n",
    "            j -= 1\n",
    "\n",
    "        if s[i].lower() != s[j].lower():\n",
    "            return False\n",
    "\n",
    "        i += 1\n",
    "        j -= 1\n",
    "\n",
    "    return True\n",
    "s = \"e1ye4\"\n",
    "is_valid_palindrome(s)"
   ]
  },
  {
   "cell_type": "markdown",
   "id": "cf405de1",
   "metadata": {},
   "source": [
    "30. Implement a function to find the minimum element in a rotated sorted list.\n"
   ]
  },
  {
   "cell_type": "code",
   "execution_count": 65,
   "id": "ae1bf0bc",
   "metadata": {},
   "outputs": [
    {
     "data": {
      "text/plain": [
       "0"
      ]
     },
     "execution_count": 65,
     "metadata": {},
     "output_type": "execute_result"
    }
   ],
   "source": [
    "def find_min_element(nums):\n",
    "    left = 0\n",
    "    right = len(nums) - 1\n",
    "\n",
    "    while left < right:\n",
    "        mid = left + (right - left) // 2\n",
    "\n",
    "        if nums[mid] > nums[right]:\n",
    "            left = mid + 1\n",
    "        else:\n",
    "            right = mid\n",
    "\n",
    "    return nums[left]\n",
    "nums = [4,5,6,7,0,1,2]\n",
    "find_min_element(nums)"
   ]
  },
  {
   "cell_type": "markdown",
   "id": "a436591a",
   "metadata": {},
   "source": [
    "31. Write a program to find the sum of all even numbers in a list.\n"
   ]
  },
  {
   "cell_type": "code",
   "execution_count": 66,
   "id": "91e41a3a",
   "metadata": {},
   "outputs": [
    {
     "data": {
      "text/plain": [
       "12"
      ]
     },
     "execution_count": 66,
     "metadata": {},
     "output_type": "execute_result"
    }
   ],
   "source": [
    "def sum_of_even_numbers(numbers):\n",
    "    even_sum = 0\n",
    "\n",
    "    for num in numbers:\n",
    "        if num % 2 == 0:\n",
    "            even_sum += num\n",
    "\n",
    "    return even_sum\n",
    "numbers = [2,4,3,1,5,6]\n",
    "sum_of_even_numbers(numbers)"
   ]
  },
  {
   "cell_type": "markdown",
   "id": "a1d34c2e",
   "metadata": {},
   "source": [
    "32. Implement a function to calculate the power of a number using recursion.\n"
   ]
  },
  {
   "cell_type": "code",
   "execution_count": 67,
   "id": "ffcc1b59",
   "metadata": {},
   "outputs": [
    {
     "data": {
      "text/plain": [
       "64"
      ]
     },
     "execution_count": 67,
     "metadata": {},
     "output_type": "execute_result"
    }
   ],
   "source": [
    "def power(base, exponent):\n",
    "    if exponent == 0:\n",
    "        return 1\n",
    "    elif exponent < 0:\n",
    "        return 1 / power(base, -exponent)\n",
    "    elif exponent % 2 == 0:\n",
    "        result = power(base, exponent // 2)\n",
    "        return result * result\n",
    "    else:\n",
    "        result = power(base, (exponent - 1) // 2)\n",
    "        return base * result * result\n",
    "base = 4\n",
    "exponent = 3\n",
    "power(base,exponent)"
   ]
  },
  {
   "cell_type": "markdown",
   "id": "90c1db95",
   "metadata": {},
   "source": [
    "33. Write a Python program to remove duplicates from a list while preserving the order.\n"
   ]
  },
  {
   "cell_type": "code",
   "execution_count": 68,
   "id": "f1c6e68a",
   "metadata": {},
   "outputs": [
    {
     "data": {
      "text/plain": [
       "[1, 3, 4, 2, 5]"
      ]
     },
     "execution_count": 68,
     "metadata": {},
     "output_type": "execute_result"
    }
   ],
   "source": [
    "def remove_duplicates(lst):\n",
    "    seen = set()\n",
    "    new_lst = []\n",
    "\n",
    "    for item in lst:\n",
    "        if item not in seen:\n",
    "            seen.add(item)\n",
    "            new_lst.append(item)\n",
    "\n",
    "    return new_lst\n",
    "lst = [1,3,4,1,3,2,5,1,5]\n",
    "remove_duplicates(lst)"
   ]
  },
  {
   "cell_type": "markdown",
   "id": "c2454117",
   "metadata": {},
   "source": [
    "34. Implement a function to find the longest common prefix among a list of strings.\n"
   ]
  },
  {
   "cell_type": "code",
   "execution_count": 69,
   "id": "9c90fdbb",
   "metadata": {},
   "outputs": [
    {
     "data": {
      "text/plain": [
       "'fl'"
      ]
     },
     "execution_count": 69,
     "metadata": {},
     "output_type": "execute_result"
    }
   ],
   "source": [
    "def longest_common_prefix(strings):\n",
    "    if not strings:\n",
    "        return \"\"\n",
    "\n",
    "    prefix = \"\"\n",
    "    min_len = min(len(string) for string in strings)\n",
    "\n",
    "    for i in range(min_len):\n",
    "        char = strings[0][i]\n",
    "        if all(string[i] == char for string in strings):\n",
    "            prefix += char\n",
    "        else:\n",
    "            break\n",
    "\n",
    "    return prefix\n",
    "strings = [\"flower\", \"flow\", \"flight\"]\n",
    "longest_common_prefix(strings)"
   ]
  },
  {
   "cell_type": "markdown",
   "id": "5cdf3c7a",
   "metadata": {},
   "source": [
    "35. Write a program to check if a given number is a perfect square.\n"
   ]
  },
  {
   "cell_type": "code",
   "execution_count": 70,
   "id": "a4c39475",
   "metadata": {},
   "outputs": [
    {
     "data": {
      "text/plain": [
       "True"
      ]
     },
     "execution_count": 70,
     "metadata": {},
     "output_type": "execute_result"
    }
   ],
   "source": [
    "def is_perfect_square(num):\n",
    "    if num < 0:\n",
    "        return False\n",
    "\n",
    "    root = int(num ** 0.5)\n",
    "    return root * root == num\n",
    "num = 81\n",
    "is_perfect_square(num)"
   ]
  },
  {
   "cell_type": "markdown",
   "id": "d5394aac",
   "metadata": {},
   "source": [
    "36. Implement a function to calculate the product of all elements in a list.\n"
   ]
  },
  {
   "cell_type": "code",
   "execution_count": 71,
   "id": "1fad9021",
   "metadata": {},
   "outputs": [
    {
     "data": {
      "text/plain": [
       "120"
      ]
     },
     "execution_count": 71,
     "metadata": {},
     "output_type": "execute_result"
    }
   ],
   "source": [
    "def calculate_product(numbers):\n",
    "    product = 1\n",
    "\n",
    "    for num in numbers:\n",
    "        product *= num\n",
    "\n",
    "    return product\n",
    "numbers = [5,2,3,4]\n",
    "calculate_product(numbers)"
   ]
  },
  {
   "cell_type": "markdown",
   "id": "ea14d778",
   "metadata": {},
   "source": [
    "37. Write a Python program to reverse the order of words in a sentence while preserving the word order."
   ]
  },
  {
   "cell_type": "code",
   "execution_count": 72,
   "id": "01d2593f",
   "metadata": {},
   "outputs": [
    {
     "data": {
      "text/plain": [
       "'Ahmad Masood am I'"
      ]
     },
     "execution_count": 72,
     "metadata": {},
     "output_type": "execute_result"
    }
   ],
   "source": [
    "def reverse_sentence(sentence):\n",
    "    words = sentence.split()\n",
    "    reversed_words = words[::-1]\n",
    "    reversed_sentence = ' '.join(reversed_words)\n",
    "    return reversed_sentence\n",
    "sentence = \"I am Masood Ahmad\"\n",
    "reverse_sentence(sentence)"
   ]
  },
  {
   "cell_type": "markdown",
   "id": "fc9001eb",
   "metadata": {},
   "source": [
    "38. Implement a function to find the missing number in a given list of consecutive numbers."
   ]
  },
  {
   "cell_type": "code",
   "execution_count": 73,
   "id": "aa9e74b4",
   "metadata": {},
   "outputs": [
    {
     "data": {
      "text/plain": [
       "2"
      ]
     },
     "execution_count": 73,
     "metadata": {},
     "output_type": "execute_result"
    }
   ],
   "source": [
    "def find_missing_number(nums):\n",
    "    n = len(nums)\n",
    "    expected_sum = (n + 1) * (nums[0] + nums[-1]) // 2\n",
    "    actual_sum = sum(nums)\n",
    "    missing_number = expected_sum - actual_sum\n",
    "    return missing_number\n",
    "nums = [1,3,4,5]\n",
    "find_missing_number(nums)"
   ]
  },
  {
   "cell_type": "markdown",
   "id": "68a14b09",
   "metadata": {},
   "source": [
    "39. Write a program to find the sum of digits of a given number.\n"
   ]
  },
  {
   "cell_type": "code",
   "execution_count": 74,
   "id": "9e135099",
   "metadata": {},
   "outputs": [
    {
     "data": {
      "text/plain": [
       "6"
      ]
     },
     "execution_count": 74,
     "metadata": {},
     "output_type": "execute_result"
    }
   ],
   "source": [
    "def sum_of_digits(number):\n",
    "    sum = 0\n",
    "\n",
    "    while number > 0:\n",
    "        digit = number % 10\n",
    "        sum += digit\n",
    "        number //= 10\n",
    "\n",
    "    return sum\n",
    "number = 123\n",
    "sum_of_digits(number)"
   ]
  },
  {
   "cell_type": "markdown",
   "id": "3b3c46a9",
   "metadata": {},
   "source": [
    "40. Implement a function to check if a given string is a valid palindrome considering case sensitivity.\n"
   ]
  },
  {
   "cell_type": "code",
   "execution_count": 75,
   "id": "5be798a2",
   "metadata": {},
   "outputs": [
    {
     "data": {
      "text/plain": [
       "False"
      ]
     },
     "execution_count": 75,
     "metadata": {},
     "output_type": "execute_result"
    }
   ],
   "source": [
    "def is_valid_palindrome(s):\n",
    "    i = 0\n",
    "    j = len(s) - 1\n",
    "\n",
    "    while i < j:\n",
    "        if s[i] != s[j]:\n",
    "            return False\n",
    "        i += 1\n",
    "        j -= 1\n",
    "\n",
    "    return True\n",
    "s = 'Eye'\n",
    "is_valid_palindrome(s)"
   ]
  },
  {
   "cell_type": "markdown",
   "id": "35ccfb72",
   "metadata": {},
   "source": [
    "41. Write a Python program to find the smallest missing positive integer in a list.\n"
   ]
  },
  {
   "cell_type": "code",
   "execution_count": 76,
   "id": "0a827215",
   "metadata": {},
   "outputs": [
    {
     "data": {
      "text/plain": [
       "2"
      ]
     },
     "execution_count": 76,
     "metadata": {},
     "output_type": "execute_result"
    }
   ],
   "source": [
    "def find_smallest_missing_positive(nums):\n",
    "    n = len(nums)\n",
    "    for i in range(n):\n",
    "        while 0 < nums[i] <= n and nums[nums[i] - 1] != nums[i]:\n",
    "            nums[nums[i] - 1], nums[i] = nums[i], nums[nums[i] - 1]\n",
    "    for i in range(n):\n",
    "        if nums[i] != i + 1:\n",
    "            return i + 1\n",
    "    return n + 1\n",
    "nums = [3,4,-1,1,-2]\n",
    "find_smallest_missing_positive(nums)"
   ]
  },
  {
   "cell_type": "markdown",
   "id": "6e37d97b",
   "metadata": {},
   "source": [
    "42. Implement a function to find the longest palindrome substring in a given string.\n"
   ]
  },
  {
   "cell_type": "code",
   "execution_count": 77,
   "id": "be6b130e",
   "metadata": {},
   "outputs": [
    {
     "data": {
      "text/plain": [
       "'aba'"
      ]
     },
     "execution_count": 77,
     "metadata": {},
     "output_type": "execute_result"
    }
   ],
   "source": [
    "def longest_palindrome(s):\n",
    "    n = len(s)\n",
    "    table = [[False] * n for _ in range(n)]\n",
    "\n",
    "    for i in range(n):\n",
    "        table[i][i] = True\n",
    "\n",
    "    start = 0\n",
    "    max_length = 1\n",
    "\n",
    "    for i in range(n - 1):\n",
    "        if s[i] == s[i + 1]:\n",
    "            table[i][i + 1] = True\n",
    "            start = i\n",
    "            max_length = 2\n",
    "\n",
    "    for length in range(3, n + 1):\n",
    "        for i in range(n - length + 1):\n",
    "            j = i + length - 1\n",
    "            if s[i] == s[j] and table[i + 1][j - 1]:\n",
    "                table[i][j] = True\n",
    "                start = i\n",
    "                max_length = length\n",
    "\n",
    "    return s[start:start + max_length]\n",
    "s = \"babad\"\n",
    "longest_palindrome(s)"
   ]
  },
  {
   "cell_type": "markdown",
   "id": "85a0626b",
   "metadata": {},
   "source": [
    "43. Write a program to find the number of occurrences of a given element in a list.\n"
   ]
  },
  {
   "cell_type": "code",
   "execution_count": 78,
   "id": "bdaf7d09",
   "metadata": {},
   "outputs": [
    {
     "data": {
      "text/plain": [
       "3"
      ]
     },
     "execution_count": 78,
     "metadata": {},
     "output_type": "execute_result"
    }
   ],
   "source": [
    "def count_occurrences(lst, element):\n",
    "    count = 0\n",
    "\n",
    "    for item in lst:\n",
    "        if item == element:\n",
    "            count += 1\n",
    "\n",
    "    return count\n",
    "lst = [1,2,3,4,2,5,2,6,10]\n",
    "element = 2\n",
    "count_occurrences(lst, element)"
   ]
  },
  {
   "cell_type": "markdown",
   "id": "938439fc",
   "metadata": {},
   "source": [
    "44. Implement a function to check if a given number is a perfect number.\n"
   ]
  },
  {
   "cell_type": "code",
   "execution_count": 80,
   "id": "0fac1d5b",
   "metadata": {},
   "outputs": [
    {
     "data": {
      "text/plain": [
       "True"
      ]
     },
     "execution_count": 80,
     "metadata": {},
     "output_type": "execute_result"
    }
   ],
   "source": [
    "def is_perfect_number(num):\n",
    "    if num <= 0:\n",
    "        return False\n",
    "\n",
    "    divisor_sum = 0\n",
    "\n",
    "    for i in range(1, num):\n",
    "        if num % i == 0:\n",
    "            divisor_sum += i\n",
    "\n",
    "    return divisor_sum == num\n",
    "num = 28\n",
    "is_perfect_number(num)"
   ]
  },
  {
   "cell_type": "markdown",
   "id": "dbf22226",
   "metadata": {},
   "source": [
    "45. Write a Python program to remove all duplicates from a string.\n"
   ]
  },
  {
   "cell_type": "code",
   "execution_count": 81,
   "id": "3b41debb",
   "metadata": {},
   "outputs": [
    {
     "data": {
      "text/plain": [
       "'asdmo'"
      ]
     },
     "execution_count": 81,
     "metadata": {},
     "output_type": "execute_result"
    }
   ],
   "source": [
    "def remove_duplicates(string):\n",
    "    unique_chars = set(string)\n",
    "    new_string = ''.join(unique_chars)\n",
    "    return new_string\n",
    "string = \"masood\"\n",
    "remove_duplicates(string)"
   ]
  },
  {
   "cell_type": "markdown",
   "id": "14028bc4",
   "metadata": {},
   "source": [
    "46. Implement a function to find the first missing positive\n"
   ]
  },
  {
   "cell_type": "code",
   "execution_count": 83,
   "id": "67bc3cbf",
   "metadata": {},
   "outputs": [
    {
     "data": {
      "text/plain": [
       "2"
      ]
     },
     "execution_count": 83,
     "metadata": {},
     "output_type": "execute_result"
    }
   ],
   "source": [
    "def find_first_missing_positive(nums):\n",
    "    n = len(nums)\n",
    "\n",
    "    for i in range(n):\n",
    "        while 0 < nums[i] <= n and nums[nums[i] - 1] != nums[i]:\n",
    "            nums[nums[i] - 1], nums[i] = nums[i], nums[nums[i] - 1]\n",
    "\n",
    "    for i in range(n):\n",
    "        if nums[i] != i + 1:\n",
    "            return i + 1\n",
    "\n",
    "    return n + 1\n",
    "nums = [3,4,-1,1]\n",
    "find_first_missing_positive(nums)"
   ]
  }
 ],
 "metadata": {
  "kernelspec": {
   "display_name": "Python 3 (ipykernel)",
   "language": "python",
   "name": "python3"
  },
  "language_info": {
   "codemirror_mode": {
    "name": "ipython",
    "version": 3
   },
   "file_extension": ".py",
   "mimetype": "text/x-python",
   "name": "python",
   "nbconvert_exporter": "python",
   "pygments_lexer": "ipython3",
   "version": "3.9.12"
  }
 },
 "nbformat": 4,
 "nbformat_minor": 5
}
