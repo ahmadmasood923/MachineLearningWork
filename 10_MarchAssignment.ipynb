{
 "cells": [
  {
   "cell_type": "markdown",
   "id": "b1aa0463-654e-4444-bc67-a7d9fa14a68e",
   "metadata": {},
   "source": [
    "## Ques 1:"
   ]
  },
  {
   "cell_type": "markdown",
   "id": "105bc171-acb9-4223-af5e-d9778418f9b3",
   "metadata": {},
   "source": [
    "### Ans: Estimation is the process by which the numerical value of unknown population values are inferred from incomplete data, such as a sample.\n",
    "### A point estimate is a single value estimate of a parameter. For instance, a sample mean is a point estimate of a population mean.\n",
    "### An interval estimate gives you a range of values where the parameter is expected to lie. A confidence interval is the most common type of interval estimate."
   ]
  },
  {
   "cell_type": "markdown",
   "id": "37fe9ac6-df8d-42ab-98a5-41ed12906689",
   "metadata": {},
   "source": [
    "## Ques 2:"
   ]
  },
  {
   "cell_type": "markdown",
   "id": "76785f25-fe36-44b8-a439-044dbd23f157",
   "metadata": {},
   "source": [
    "### Ans: "
   ]
  },
  {
   "cell_type": "code",
   "execution_count": 1,
   "id": "c60560e5-32b6-4695-b482-30896225940e",
   "metadata": {},
   "outputs": [
    {
     "data": {
      "text/plain": [
       "(48.04, 51.96)"
      ]
     },
     "execution_count": 1,
     "metadata": {},
     "output_type": "execute_result"
    }
   ],
   "source": [
    "def estimate_pop_mean(sample_mean, sample_std_dev, sample_size):\n",
    "    import math\n",
    "    standard_error = sample_std_dev / math.sqrt(sample_size)\n",
    "    margin_of_error = 1.96 * standard_error # Using 1.96 for 95% confidence level\n",
    "    lower_bound = sample_mean - margin_of_error\n",
    "    upper_bound = sample_mean + margin_of_error\n",
    "    return (lower_bound, upper_bound)\n",
    "estimate_pop_mean(50, 10, 100)"
   ]
  },
  {
   "cell_type": "markdown",
   "id": "a4dea66d-a722-4f88-a30f-14d8590d0a43",
   "metadata": {},
   "source": [
    "## Ques 3:"
   ]
  },
  {
   "cell_type": "markdown",
   "id": "c88b6bb9-48d7-4725-bf93-d05f129bd68a",
   "metadata": {},
   "source": [
    "### Ans: Hypothesis testing is a systematic procedure for deciding whether the results of a research study support a particular theory which applies to a population. Hypothesis testing uses sample data to evaluate a hypothesis about a population.\n",
    "### Hypothesis testing is used in a wide range of fields, including science, business, and social sciences. It is particularly important in scientific research, where it is used to determine whether an experimental intervention has a statistically significant effect compared to a control group. Hypothesis testing can also be used in quality control and decision-making in business and industry, as well as in social sciences to evaluate theories and models.\n",
    "### The importance of hypothesis testing lies in its ability to provide a structured approach to testing hypotheses and drawing conclusions about the population based on sample data. Hypothesis testing allows researchers to make evidence-based decisions and draw meaningful conclusions about the phenomenon under study."
   ]
  },
  {
   "cell_type": "markdown",
   "id": "fd63a95b-2a7f-4608-83f8-f22628406623",
   "metadata": {},
   "source": [
    "## Ques 4:"
   ]
  },
  {
   "cell_type": "markdown",
   "id": "c3c9f00c-a97b-485f-9c84-5e772d2e332d",
   "metadata": {},
   "source": [
    "### Ans: Null Hypothesis: The average weight of male college students is greater than average weight of female college students.\n",
    "### Alternate Hypothesis: The average weight of male college students is not greater than average weight of female college students."
   ]
  },
  {
   "cell_type": "markdown",
   "id": "e9fa567c-e13c-473e-a3cc-e5d1c2d8d2a0",
   "metadata": {},
   "source": [
    "## Ques 5:"
   ]
  },
  {
   "cell_type": "markdown",
   "id": "da7d6d3b-8195-410e-bb0a-d08e5f618bb8",
   "metadata": {},
   "source": [
    "### Ans: "
   ]
  },
  {
   "cell_type": "code",
   "execution_count": 2,
   "id": "89f1573d-ff03-47d6-b867-bdd4957cf79f",
   "metadata": {},
   "outputs": [
    {
     "name": "stdout",
     "output_type": "stream",
     "text": [
      "Reject the null hypothesis\n"
     ]
    }
   ],
   "source": [
    "import numpy as np\n",
    "from scipy.stats import t\n",
    "\n",
    "# Set the significance level\n",
    "alpha = 0.05\n",
    "\n",
    "# Enter the sample data\n",
    "sample1 = np.array([1, 2, 3, 4, 5])\n",
    "sample2 = np.array([6, 7, 8, 9, 10])\n",
    "\n",
    "# Calculate the sample means and standard deviations\n",
    "mean1 = np.mean(sample1)\n",
    "mean2 = np.mean(sample2)\n",
    "std1 = np.std(sample1, ddof=1)\n",
    "std2 = np.std(sample2, ddof=1)\n",
    "\n",
    "# Calculate the standard error of the difference between the means\n",
    "se_diff = np.sqrt((std1**2/len(sample1)) + (std2**2/len(sample2)))\n",
    "\n",
    "# Calculate the t-statistic and degrees of freedom\n",
    "t_stat = (mean1 - mean2) / se_diff\n",
    "df = len(sample1) + len(sample2) - 2\n",
    "\n",
    "# Calculate the p-value\n",
    "p_val = 2 * (1 - t.cdf(abs(t_stat), df))\n",
    "\n",
    "# Compare the p-value to the significance level\n",
    "if p_val < alpha:\n",
    "    print(\"Reject the null hypothesis\")\n",
    "else:\n",
    "    print(\"Fail to reject the null hypothesis\")\n"
   ]
  },
  {
   "cell_type": "markdown",
   "id": "db21580f-3698-4560-bca9-93c93d276463",
   "metadata": {},
   "source": [
    "## Ques 6:"
   ]
  },
  {
   "cell_type": "markdown",
   "id": "46a81631-ad96-4bef-b165-f0f36ac25546",
   "metadata": {},
   "source": [
    "### Ans: In statistics, a null hypothesis (denoted as H0) is a statement that there is no significant difference between two groups or variables, while an alternative hypothesis (denoted as H1 or Ha) proposes that there is a significant difference between them.\n",
    "### Null hypothesis and alternative hypothesis are often used in hypothesis testing, where a statistical test is performed to determine whether the data supports the null hypothesis or the alternative hypothesis.\n",
    "### For exmple: Null Hypothesis: There is no significant difference in the mean height of men and women.\n",
    "### Alternative Hypothesis: There is a significant difference in the mean height of men and women."
   ]
  },
  {
   "cell_type": "markdown",
   "id": "dc3550b9-0fdf-4fa6-b2ff-df6177929bcf",
   "metadata": {},
   "source": [
    "## Ques 7:"
   ]
  },
  {
   "cell_type": "markdown",
   "id": "5016f8d1-e42b-4428-a42e-e1ff1585d525",
   "metadata": {},
   "source": [
    "### Ans: 1. Null Hypothesis - The assumptions you are beginning with.\n",
    "### 2. Alternate Hypothesis - Opposite of Null Hypothesis\n",
    "### 3. Experiments - Statistical Analysis\n",
    "### 4. Aceept the Null Hypothesis or reject the Null Hypothesis"
   ]
  },
  {
   "cell_type": "markdown",
   "id": "bfede7ec-9a88-4975-8332-75fa72771968",
   "metadata": {},
   "source": [
    "## Ques 8:"
   ]
  },
  {
   "cell_type": "markdown",
   "id": "1055f200-7093-4bed-b39e-4b5178d0d6a5",
   "metadata": {},
   "source": [
    "### Ans: In statistics, the p-value is the probability of obtaining a test statistic at least as extreme as the one observed in a sample, assuming the null hypothesis is true. It is a way to determine the statistical significance of the results obtained from a hypothesis test.\n",
    "### The p-value is used to determine the strength of evidence against the null hypothesis. If the p-value is small (typically, less than 0.05), we reject the null hypothesis in favor of the alternative hypothesis, concluding that there is sufficient evidence to support the claim that there is a significant difference between the observed sample data and the expected value. On the other hand, if the p-value is large, we fail to reject the null hypothesis, concluding that there is insufficient evidence to support the claim that there is a significant difference between the observed sample data and the expected value."
   ]
  },
  {
   "cell_type": "markdown",
   "id": "d1ebed2c-0f62-4530-807a-2768053d49d9",
   "metadata": {},
   "source": [
    "## Ques 9:"
   ]
  },
  {
   "cell_type": "markdown",
   "id": "b349d812-4cc5-4b9c-b800-6fb8997f4f8d",
   "metadata": {},
   "source": [
    "### Ans: "
   ]
  },
  {
   "cell_type": "code",
   "execution_count": 1,
   "id": "a87a5f6e-0a30-4fca-a267-d22868a7f39d",
   "metadata": {},
   "outputs": [
    {
     "data": {
      "image/png": "[encoded data removed]",
      "text/plain": [
       "<Figure size 640x480 with 1 Axes>"
      ]
     },
     "metadata": {},
     "output_type": "display_data"
    }
   ],
   "source": [
    "import numpy as np\n",
    "import matplotlib.pyplot as plt\n",
    "from scipy.stats import t\n",
    "\n",
    "# Generate x values\n",
    "x = np.linspace(-5, 5, num=500)\n",
    "\n",
    "# Set degrees of freedom\n",
    "df = 10\n",
    "\n",
    "# Generate Student's t-distribution with df degrees of freedom\n",
    "t_dist = t.pdf(x, df)\n",
    "\n",
    "# Plot the distribution\n",
    "plt.plot(x, t_dist, label='t-distribution')\n",
    "\n",
    "# Add title and labels to the plot\n",
    "plt.title('Student\\'s t-distribution with df=10')\n",
    "plt.xlabel('x')\n",
    "plt.ylabel('Probability density')\n",
    "\n",
    "# Display the plot\n",
    "plt.show()"
   ]
  },
  {
   "cell_type": "markdown",
   "id": "faf648d7-d9ba-4dc8-8abc-c7682b81a23e",
   "metadata": {},
   "source": [
    "## Ques 10:"
   ]
  },
  {
   "cell_type": "markdown",
   "id": "c4dc725a-7a9e-43a0-af53-c5b48bb4e943",
   "metadata": {},
   "source": [
    "### Ans: "
   ]
  },
  {
   "cell_type": "code",
   "execution_count": 2,
   "id": "6fb3e100-a374-4367-9a8f-3666483a5bc0",
   "metadata": {},
   "outputs": [
    {
     "name": "stdout",
     "output_type": "stream",
     "text": [
      "Null hypothesis: The population means are equal.\n",
      "Sample 1 mean: 4.65\n",
      "Sample 2 mean: 7.09\n",
      "t-statistic: -5.79\n",
      "p-value: 0.0000\n",
      "Reject null hypothesis: Population means are different.\n"
     ]
    }
   ],
   "source": [
    "import numpy as np\n",
    "from scipy.stats import ttest_ind\n",
    "\n",
    "# Generate two random samples of equal size\n",
    "sample1 = np.random.normal(5, 2, size=50)\n",
    "sample2 = np.random.normal(7, 2, size=50)\n",
    "\n",
    "# Set null hypothesis\n",
    "null_hypothesis = \"The population means are equal.\"\n",
    "\n",
    "# Perform two-sample t-test assuming equal variances\n",
    "t_stat, p_val = ttest_ind(sample1, sample2, equal_var=True)\n",
    "\n",
    "# Print results\n",
    "print(f\"Null hypothesis: {null_hypothesis}\")\n",
    "print(f\"Sample 1 mean: {np.mean(sample1):.2f}\")\n",
    "print(f\"Sample 2 mean: {np.mean(sample2):.2f}\")\n",
    "print(f\"t-statistic: {t_stat:.2f}\")\n",
    "print(f\"p-value: {p_val:.4f}\")\n",
    "\n",
    "# Interpret results based on p-value\n",
    "if p_val < 0.05:\n",
    "    print(\"Reject null hypothesis: Population means are different.\")\n",
    "else:\n",
    "    print(\"Fail to reject null hypothesis: Population means are the same.\")"
   ]
  },
  {
   "cell_type": "markdown",
   "id": "291577bb-f298-4e72-8f7f-27d6456f0efc",
   "metadata": {},
   "source": [
    "## Ques 11:"
   ]
  },
  {
   "cell_type": "markdown",
   "id": "2bf1875a-1949-413e-b69f-a01c9c9cf3ba",
   "metadata": {},
   "source": [
    "### Ans: The t-distribution, also known as the Student's t-distribution, is a type of probability distribution that is similar to the normal distribution with its bell shape but has heavier tails. It is used for estimating population parameters for small sample sizes or unknown variances."
   ]
  },
  {
   "cell_type": "markdown",
   "id": "15429c3a-2824-4d6f-8130-0d88c87ad1e1",
   "metadata": {},
   "source": [
    "## Ques 12:"
   ]
  },
  {
   "cell_type": "markdown",
   "id": "e20a391f-a028-4713-b39e-42ebfb8a3b38",
   "metadata": {},
   "source": [
    "### Ans: The t-value is one type of test statistic that results from performing either t-tests or regression tests. Evaluating the t-value requires testing a null hypothesis where the means of both test samples are equal. If you perform a t-test or regression rest and find the means are not equal, you reject the null hypothesis for the alternative hypothesis. You can calculate a t-value using a common t-test with the formula:\n",
    "### t = (X‾ - μ0) / (s / √n), where X‾ is the sample mean, μ0 represents the population mean, s is the standard deviation of the sample and n stands for the size of the sample."
   ]
  },
  {
   "cell_type": "markdown",
   "id": "5ffa6a69-d19b-4b59-8232-9a6be8641d93",
   "metadata": {},
   "source": [
    "## Ques 13:"
   ]
  },
  {
   "cell_type": "markdown",
   "id": "7988e3f6-a734-4d7d-b025-8cf6e027a255",
   "metadata": {},
   "source": [
    "### Ans: Confidence interval = sample mean ± (critical value) x (standard error)\n",
    "### Where the critical value is based on the desired level of confidence (95%) and the sample size (50), and the standard error is calculated as the standard deviation divided by the square root of the sample size.\n",
    "### First, we need to find the critical value from the t-distribution table. Since the sample size is 50, the degrees of freedom are 50-1=49. From the table, for a 95% confidence level and 49 degrees of freedom, the critical value is 2.009.\n",
    "### Next, we can calculate the standard error:\n",
    "### standard error = standard deviation / √sample size\n",
    "### = $50 / √50\n",
    "### = $7.07\n",
    "### Finally, we can construct the confidence interval:\n",
    "### Confidence interval = $500 ± (2.009) x ($7.07)\n",
    "### = $500 ± $14.19\n",
    "### The 95% confidence interval for the population mean revenue is therefore:\n",
    "### $485.81 to $514.19\n",
    "### We can interpret this as: \"We are 95% confident that the true average daily revenue for the coffee shop falls between $485.81 and $514.19 based on this sample of 50 days.\""
   ]
  },
  {
   "cell_type": "markdown",
   "id": "bf9229f9-6b1a-42a9-9149-35ec4308379d",
   "metadata": {},
   "source": [
    "## Ques 14:"
   ]
  },
  {
   "cell_type": "markdown",
   "id": "94b22197-8e03-4ccf-96e8-abb968d4cf61",
   "metadata": {},
   "source": [
    "### Ans: To test the hypothesis that the new drug decreases blood pressure by 10 mmHg with a significance level of 0.05, we can use a one-sample t-test.\n",
    "### The null hypothesis is that the true mean decrease in blood pressure is equal to 10 mmHg, and the alternative hypothesis is that the true mean decrease is less than 10 mmHg.\n",
    "### We can calculate the t-statistic as follows:\n",
    "### t = (sample mean - hypothesized mean) / (standard error)\n",
    "### = (8 - 10) / (3 / √100)\n",
    "### = -2.82\n",
    "### where the hypothesized mean is 10 mmHg, and the standard error is the standard deviation divided by the square root of the sample size.\n",
    "### The degrees of freedom for the test are n-1, where n is the sample size. In this case, the degrees of freedom are 100-1=99.\n",
    "### Using a t-table or a statistical software, we can find the critical t-value for a one-tailed test with 99 degrees of freedom and a significance level of 0.05. The critical t-value is -1.660.\n",
    "### Since our calculated t-statistic (-2.82) is smaller than the critical t-value (-1.660), we can reject the null hypothesis and conclude that there is evidence to support the alternative hypothesis that the true mean decrease in blood pressure is less than 10 mmHg.\n",
    "### In other words, we can say that with a significance level of 0.05, the new drug appears to decrease blood pressure by less than 10 mmHg."
   ]
  },
  {
   "cell_type": "markdown",
   "id": "6f8305d5-ee8f-4f17-93da-42df2b25dfd0",
   "metadata": {},
   "source": [
    "## Ques 15:"
   ]
  },
  {
   "cell_type": "markdown",
   "id": "096af031-11c8-4e4f-9afd-057b5fccde37",
   "metadata": {},
   "source": [
    "### Ans: \n",
    "To test the hypothesis that the true mean weight of the products is less than 5 pounds with a significance level of 0.01, we need to perform a one-tailed hypothesis test with the following null and alternative hypotheses:\n",
    "\n",
    "Null hypothesis: The true mean weight of the products is 5 pounds or more.\n",
    "Alternative hypothesis: The true mean weight of the products is less than 5 pounds.\n",
    "We can use a t-test with a t-distribution to test this hypothesis, given that the population standard deviation is unknown and the sample size is relatively small (n=25).\n",
    "\n",
    "The test statistic can be calculated as:\n",
    "\n",
    "t = (sample mean - population mean) / (sample standard deviation / sqrt(sample size))\n",
    "\n",
    "where the sample mean is 4.8 pounds, the population mean is 5 pounds, the sample standard deviation is 0.5 pounds, and the sample size is 25.\n",
    "\n",
    "Plugging in the values, we get:\n",
    "\n",
    "t = (4.8 - 5) / (0.5 / sqrt(25)) = -2.0\n",
    "\n",
    "The corresponding p-value can be calculated using the t-distribution with degrees of freedom equal to n-1=24:\n",
    "\n",
    "p-value = P(t < -2.0) = 0.0273\n",
    "\n",
    "Since the p-value (0.0273) is less than the significance level of 0.01, we reject the null hypothesis and conclude that there is sufficient evidence to support the alternative hypothesis that the true mean weight of the products is less than 5 pounds.\n",
    "\n",
    "Therefore, the electronics company should investigate the manufacturing process to see if there are any factors that may be contributing to the lower than expected weight of the products."
   ]
  },
  {
   "cell_type": "markdown",
   "id": "dd8d43dc-53f5-4270-9262-4e72c702096f",
   "metadata": {},
   "source": [
    "## Ques 16:"
   ]
  },
  {
   "cell_type": "markdown",
   "id": "029e8745-b070-45c3-b8c9-c197be5e6a05",
   "metadata": {},
   "source": [
    "### Ans: \n",
    "To test the hypothesis that the population means for the two groups are equal, we can use a two-sample t-test.\n",
    "The null hypothesis is that the population means are equal:\n",
    "H0: μ1 = μ2\n",
    "The alternative hypothesis is that the population means are not equal:\n",
    "Ha: μ1 ≠ μ2\n",
    "We will use a significance level of 0.01, which means that we will reject the null hypothesis if the p-value is less than 0.01.\n",
    "The formula for the two-sample t-test is:\n",
    "t = (x̄1 - x̄2) / sqrt((s1^2/n1) + (s2^2/n2))\n",
    "\n",
    "where x̄1 and x̄2 are the sample means, s1 and s2 are the sample standard deviations, and n1 and n2 are the sample sizes.\n",
    "Substituting the values given in the problem, we get:\n",
    "\n",
    "t = (80 - 75) / sqrt((10^2/30) + (8^2/40))\n",
    "t = 2.31\n",
    "\n",
    "The degrees of freedom for the t-distribution are (n1 - 1) + (n2 - 1) = 68.\n",
    "Using a t-table or a calculator, we can find the p-value associated with t = 2.31 and 68 degrees of freedom to be approximately 0.023.\n",
    "\n",
    "Since the p-value is greater than the significance level of 0.01, we fail to reject the null hypothesis. Therefore, we do not have enough evidence to conclude that the population means for the two groups are different at a significance level of 0.01."
   ]
  },
  {
   "cell_type": "markdown",
   "id": "8ec69d7a-86c9-43c4-a712-98a2965f87c1",
   "metadata": {},
   "source": [
    "## Ques 17:"
   ]
  },
  {
   "cell_type": "markdown",
   "id": "0a4d95d5-b7f3-4f8e-9111-11a8ba77087b",
   "metadata": {},
   "source": [
    "### Ans: \n",
    "To estimate the population mean with a 99% confidence interval, we can use the following formula:\n",
    "CI = x̄ ± z* (σ/√n)\n",
    "where:\n",
    "x̄ is the sample mean\n",
    "z* is the critical value of the standard normal distribution corresponding to the confidence level (99% confidence level corresponds to a z* value of 2.576)\n",
    "σ is the population standard deviation (unknown)\n",
    "n is the sample size\n",
    "Substituting the given values, we have:\n",
    "CI = 4 ± 2.576 * (1.5 / √50)\n",
    "   = 4 ± 0.666\n",
    "So the 99% confidence interval for the population mean is (3.334, 4.666).\n",
    "\n",
    "Therefore, we can be 99% confident that the true population mean of the number of ads watched by viewers during a TV program lies within this interval."
   ]
  },
  {
   "cell_type": "code",
   "execution_count": null,
   "id": "25933bfb-6720-4cf8-b106-5087f51891b0",
   "metadata": {},
   "outputs": [],
   "source": []
  }
 ],
 "metadata": {
  "kernelspec": {
   "display_name": "Python 3 (ipykernel)",
   "language": "python",
   "name": "python3"
  },
  "language_info": {
   "codemirror_mode": {
    "name": "ipython",
    "version": 3
   },
   "file_extension": ".py",
   "mimetype": "text/x-python",
   "name": "python",
   "nbconvert_exporter": "python",
   "pygments_lexer": "ipython3",
   "version": "3.10.8"
  }
 },
 "nbformat": 4,
 "nbformat_minor": 5
}
