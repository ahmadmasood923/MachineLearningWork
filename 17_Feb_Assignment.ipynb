{
 "cells": [
  {
   "cell_type": "markdown",
   "id": "7c6550da-d47f-4443-824c-cc423effc56d",
   "metadata": {},
   "source": [
    "## Ques 1:"
   ]
  },
  {
   "cell_type": "markdown",
   "id": "fdf10e61-582a-41ad-a825-3ef39bb33d17",
   "metadata": {},
   "source": [
    "### Ans: MongoDB is a popular document-oriented NoSQL database that provides high performance, scalability, and flexibility for managing unstructured and semi-structured data. It uses a flexible schema model called BSON (Binary JSON) to store and retrieve data, making it well-suited for handling diverse and evolving data formats.\n",
    "### Non-relational databases, also known as NoSQL databases, are database management systems that differ from traditional SQL (relational) databases in their data models, query languages, and architectural designs. In short, here are some key characteristics of non-relational databases:\n",
    "### Handling Unstructured Data: MongoDB is well-suited for managing unstructured and semi-structured data, such as JSON-like documents or hierarchical data. It allows for flexible schema design and effortless handling of complex and evolving data structures.\n",
    "### Scalability and High Performance: MongoDB excels in scenarios that require high scalability and performance. It can handle large amounts of data and high traffic loads by distributing data across multiple servers in a horizontal scalable manner.\n",
    "### Real-time Analytics and Big Data: MongoDB's flexible data model and distributed architecture make it suitable for real-time analytics and big data processing, where the ability to handle high volumes of data with low latency is essential.\n",
    "### Rapid Prototyping and Agile Development: MongoDB's flexible schema and ease of use make it a preferred choice for rapid prototyping and agile development scenarios, where frequent changes to data structures and quick iterations are required."
   ]
  },
  {
   "cell_type": "markdown",
   "id": "3b440680-697d-49e5-9da3-91f7807aba30",
   "metadata": {},
   "source": [
    "### Ques 2:"
   ]
  },
  {
   "cell_type": "markdown",
   "id": "3cce8acd-37c9-4748-a0d8-441b9e4e2c92",
   "metadata": {},
   "source": [
    "### Ans: MongoDB is a popular document-oriented NoSQL database that offers a range of features that make it a versatile and powerful choice for managing data. Here are some key features of MongoDB:\n",
    "### Document-Oriented Model: MongoDB stores data in flexible, JSON-like documents called BSON (Binary JSON). This allows for easy representation of hierarchical relationships and complex data structures.\n",
    "### Dynamic Schema: MongoDB has a dynamic schema, meaning that documents in a collection do not need to follow a predefined structure. Fields can be added, modified, or removed without requiring alterations to other documents in the collection.\n",
    "### High Scalability: MongoDB is designed to scale horizontally, allowing for distributed storage and load balancing across multiple servers. This enables seamless handling of large amounts of data and high traffic loads.\n",
    "### Automatic Sharding: MongoDB provides automatic sharding, which is the process of distributing data across multiple machines or shards. This helps in scaling out the database and ensures efficient data distribution and retrieval.\n",
    "### Replication and High Availability: MongoDB supports replica sets, which are self-healing clusters of database nodes. Replica sets provide redundancy and automatic failover, ensuring high availability and data durability.\n",
    "### Rich Query Language: MongoDB offers a powerful query language with support for a wide range of operations, including filtering, sorting, aggregations, and geospatial queries. It allows for efficient and flexible retrieval of data.\n",
    "### Indexing: MongoDB supports the creation of indexes to improve query performance. Indexes can be created on single or multiple fields, including text search indexes and geospatial indexes.\n",
    "### Full-text Search: MongoDB provides full-text search capabilities, allowing for efficient text-based search across collections. It supports features like stemming, text indexing, and relevance-based matching.\n",
    "### GridFS: MongoDB includes GridFS, which allows for storing and retrieving large files and binary data as chunks across multiple documents. It provides an efficient way to handle large media files and other binary data.\n",
    "### Ad Hoc Queries: MongoDB supports ad hoc queries, meaning that you can query and filter data without needing to predefine specific indexes or join operations. This enables agility in development and quick iterations."
   ]
  },
  {
   "cell_type": "markdown",
   "id": "08b916d2-ee50-4b8a-8b7c-92aa4865e2b6",
   "metadata": {},
   "source": [
    "### Ques 3:"
   ]
  },
  {
   "cell_type": "markdown",
   "id": "af800a0b-efde-4426-b593-f79adab2c40e",
   "metadata": {},
   "source": [
    "### Ans: "
   ]
  },
  {
   "cell_type": "code",
   "execution_count": 4,
   "id": "c626dad3-f57a-4f48-9cea-81685f05bc21",
   "metadata": {},
   "outputs": [],
   "source": [
    "import pymongo\n",
    "\n",
    "client = pymongo.MongoClient(\"mongodb://localhost:27017\")\n",
    "\n",
    "mydb = client[\"mydatabase\"]\n",
    "\n",
    "mycol = mydb[\"customers\"]"
   ]
  },
  {
   "cell_type": "markdown",
   "id": "3435d311-32cc-4b78-8e50-7b6fc43ccc3f",
   "metadata": {},
   "source": [
    "### Ques 4:"
   ]
  },
  {
   "cell_type": "markdown",
   "id": "64eb0de7-557a-4522-b0c3-e5545e424238",
   "metadata": {},
   "source": [
    "### Ans: "
   ]
  },
  {
   "cell_type": "code",
   "execution_count": null,
   "id": "ddfabbf8-822b-43fe-9050-e50f29259053",
   "metadata": {},
   "outputs": [],
   "source": [
    "import pymongo\n",
    "\n",
    "client = pymongo.MongoClient(\"mongodb://localhost:27017\")\n",
    "\n",
    "mydb = client[\"mydatabase\"]\n",
    "mycol = mydb[\"customers\"]\n",
    "\n",
    "record = {\"name\": \"John Doe\", \"email\": \"john@example.com\"}\n",
    "result = mycol.insert_one(record)\n",
    "print(\"Inserted record ID:\", result.inserted_id)\n",
    "\n",
    "records = [\n",
    "    {\"name\": \"Jane Smith\", \"email\": \"jane@example.com\"},\n",
    "    {\"name\": \"Mike Johnson\", \"email\": \"mike@example.com\"},\n",
    "    {\"name\": \"Emily Davis\", \"email\": \"emily@example.com\"}\n",
    "]\n",
    "results = mycol.insert_many(records)\n",
    "print(\"Inserted record IDs:\", results.inserted_ids)\n",
    "\n",
    "# Retrieving inserted records\n",
    "print(\"All inserted records:\")\n",
    "for document in mycol.find():\n",
    "    print(document)\n",
    "\n",
    "# Retrieving one inserted record\n",
    "print(\"One inserted record:\")\n",
    "one_record = mycol.find_one({\"name\": \"John Doe\"})\n",
    "print(one_record)"
   ]
  },
  {
   "cell_type": "markdown",
   "id": "f80bd7be-61b9-4732-bebb-90ce30cac215",
   "metadata": {},
   "source": [
    "### Ques 5:"
   ]
  },
  {
   "cell_type": "markdown",
   "id": "b71dce53-01f1-4e90-a6f7-4292aaa3da7d",
   "metadata": {},
   "source": [
    "### Ans: "
   ]
  },
  {
   "cell_type": "code",
   "execution_count": null,
   "id": "840d9bc2-9ecf-4398-81c6-d58803f0086b",
   "metadata": {},
   "outputs": [],
   "source": [
    "import pymongo\n",
    "\n",
    "client = pymongo.MongoClient(\"mongodb://localhost:27017\")\n",
    "\n",
    "mydb = client[\"mydatabase\"]\n",
    "mycol = mydb[\"customers\"]\n",
    "\n",
    "query = {\"age\": {\"$gte\": 18}}  \n",
    "results = mycol.find(query)\n",
    "\n",
    "for document in results:\n",
    "    print(document)"
   ]
  },
  {
   "cell_type": "markdown",
   "id": "b361320b-a763-4b82-9d51-0d98eaa25316",
   "metadata": {},
   "source": [
    "### Ques 6:"
   ]
  },
  {
   "cell_type": "markdown",
   "id": "4e17de87-85cb-40dc-bbbc-100714ef6dbe",
   "metadata": {},
   "source": [
    "### Ans: In MongoDB, the sort() method is used to sort the results of a query in ascending or descending order based on one or more fields. It allows you to specify the field(s) to sort by and the sorting order. Here's an explanation of the sort() method along with an example to demonstrate sorting in MongoDB:\n",
    "### The sort() method accepts a parameter that defines the sorting criteria. This parameter is a dictionary where the keys represent the fields to sort by, and the values indicate the sorting order. The sorting order can be specified using 1 for ascending order or -1 for descending order."
   ]
  },
  {
   "cell_type": "markdown",
   "id": "66d30ca5-a78e-4f95-80bd-c4b08d95c9cf",
   "metadata": {},
   "source": [
    "### Ques 7:"
   ]
  },
  {
   "cell_type": "markdown",
   "id": "d28432ab-b6d9-4da9-b478-cfa6bfb819ee",
   "metadata": {},
   "source": [
    "### Ans: In MongoDB, the delete_one(), delete_many(), and drop() methods are used for different purposes related to removing data from collections and databases. Here's an explanation of each method:\n",
    "### delete_one():\n",
    "### The delete_one() method is used to delete a single document that matches a specific condition from a collection. It removes the first document that matches the given filter. If multiple documents match the filter, only the first one encountered will be deleted.\n",
    "### delete_many():\n",
    "### The delete_many() method is used to delete multiple documents that match a specific condition from a collection. It removes all documents that match the given filter.\n",
    "### drop():\n",
    "### The drop() method is used to completely remove a collection from a database. It deletes the entire collection along with all its documents and indexes. This action is irreversible, and the collection cannot be recovered once it is dropped."
   ]
  }
 ],
 "metadata": {
  "kernelspec": {
   "display_name": "Python 3 (ipykernel)",
   "language": "python",
   "name": "python3"
  },
  "language_info": {
   "codemirror_mode": {
    "name": "ipython",
    "version": 3
   },
   "file_extension": ".py",
   "mimetype": "text/x-python",
   "name": "python",
   "nbconvert_exporter": "python",
   "pygments_lexer": "ipython3",
   "version": "3.10.8"
  }
 },
 "nbformat": 4,
 "nbformat_minor": 5
}
