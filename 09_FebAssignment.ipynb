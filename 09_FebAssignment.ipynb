{
 "cells": [
  {
   "cell_type": "markdown",
   "id": "34dd3873-cf3f-458a-9054-5ee1a391e5fa",
   "metadata": {},
   "source": [
    "## Ques 1:"
   ]
  },
  {
   "cell_type": "code",
   "execution_count": 1,
   "id": "993d580c-616b-4a7a-9eb2-68a565b7e5c2",
   "metadata": {},
   "outputs": [],
   "source": [
    "class vehicle:\n",
    "    def __init__(self, name_of_vehicle, max_speed, average_of_vehicle):\n",
    "        self.name_of_vehicle = name_of_vehicle\n",
    "        self.max_speed = max_speed\n",
    "        self.average_of_vehicle = average_of_vehicle"
   ]
  },
  {
   "cell_type": "markdown",
   "id": "715458cc-c4aa-4587-80f4-89a91573e5a0",
   "metadata": {},
   "source": [
    "## Ques 2:"
   ]
  },
  {
   "cell_type": "code",
   "execution_count": 2,
   "id": "5516ef42-d5b6-45a2-a14d-632608a39f64",
   "metadata": {},
   "outputs": [],
   "source": [
    "class car(vehicle):\n",
    "    def seating_capacity(self, capcity):\n",
    "        self.capcity = capcity\n",
    "        return self.name_of_vehicle, self.capacity"
   ]
  },
  {
   "cell_type": "markdown",
   "id": "0a8e2f6c-1564-4146-9277-fec214b3037d",
   "metadata": {},
   "source": [
    "## Ques 3:"
   ]
  },
  {
   "cell_type": "markdown",
   "id": "d338b207-f770-4a77-a451-a7e7b4511344",
   "metadata": {},
   "source": [
    "### Ans : When a class is derived from more than one base class it is called multiple Inheritance. The derived class inherits all the features of the base case."
   ]
  },
  {
   "cell_type": "code",
   "execution_count": 3,
   "id": "922672c1-2dd8-456d-8315-e681d2081e15",
   "metadata": {},
   "outputs": [
    {
     "data": {
      "text/plain": [
       "'This is class3'"
      ]
     },
     "execution_count": 3,
     "metadata": {},
     "output_type": "execute_result"
    }
   ],
   "source": [
    "# Multiple inheritence example\n",
    "# When a class is inherited from more than one class\n",
    "class class1:\n",
    "    def test1(self):\n",
    "        return 'This is class1'\n",
    "class class2:\n",
    "    def test2(self):\n",
    "        return 'This is class2'\n",
    "class class3(class1, class2): # --> This is a class which is inherited both from class1 and class2\n",
    "    def test3(self):\n",
    "        return 'This is class3'\n",
    "obj = class3()\n",
    "obj.test1()\n",
    "obj.test2()\n",
    "obj.test3()"
   ]
  },
  {
   "cell_type": "markdown",
   "id": "cf2cd42e-8415-4acd-a56a-14bd0e1b280a",
   "metadata": {},
   "source": [
    "## Ques 4:"
   ]
  },
  {
   "cell_type": "markdown",
   "id": "04a7b33c-dd54-4edb-b71e-e60dc08bee2a",
   "metadata": {},
   "source": [
    "### Ans: In Python, getters and setters are not the same as those in other object-oriented programming languages. Basically, the main purpose of using getters and setters in object-oriented programs is to ensure data encapsulation. Private variables in python are not actually hidden fields like in other object oriented languages. Getters and Setters in python are often used when:\n",
    "### We use getters & setters to add validation logic around getting and setting a value.\n",
    "### To avoid direct access of a class field i.e. private variables cannot be accessed directly or modified by external user."
   ]
  },
  {
   "cell_type": "code",
   "execution_count": 7,
   "id": "ace65254-ebd8-4342-bfa8-49d9cdf8599e",
   "metadata": {},
   "outputs": [],
   "source": [
    "# code example\n",
    "class pwskills:\n",
    "    def __init__(self, course_name, course_price):\n",
    "        self.course_name = course_name\n",
    "        self.__course_price = course_price\n",
    "    @property\n",
    "    def course_access(self):\n",
    "        print(\"Getter method called\")\n",
    "        return self.__course_price\n",
    "    @course_access.setter\n",
    "    def set_price(self, new_price):\n",
    "        self.__course_price = new_price"
   ]
  },
  {
   "cell_type": "code",
   "execution_count": 8,
   "id": "9bd98d5d-87ca-4b9f-a600-8bbcacdbabf6",
   "metadata": {},
   "outputs": [],
   "source": [
    "pw = pwskills(\"Data Science\", 9000)"
   ]
  },
  {
   "cell_type": "code",
   "execution_count": 10,
   "id": "4351b191-5693-4f18-aac6-9ae94670f885",
   "metadata": {},
   "outputs": [
    {
     "name": "stdout",
     "output_type": "stream",
     "text": [
      "Getter method called\n"
     ]
    },
    {
     "data": {
      "text/plain": [
       "9000"
      ]
     },
     "execution_count": 10,
     "metadata": {},
     "output_type": "execute_result"
    }
   ],
   "source": [
    "pw.course_access"
   ]
  },
  {
   "cell_type": "code",
   "execution_count": 12,
   "id": "a8ed6a24-85e7-4b6b-851c-b57ebb174180",
   "metadata": {},
   "outputs": [],
   "source": [
    "pw.set_price = 10000"
   ]
  },
  {
   "cell_type": "code",
   "execution_count": 13,
   "id": "feccf93c-3885-42f9-afb4-f32747405bcc",
   "metadata": {},
   "outputs": [
    {
     "name": "stdout",
     "output_type": "stream",
     "text": [
      "Getter method called\n"
     ]
    },
    {
     "data": {
      "text/plain": [
       "10000"
      ]
     },
     "execution_count": 13,
     "metadata": {},
     "output_type": "execute_result"
    }
   ],
   "source": [
    "pw.course_access"
   ]
  },
  {
   "cell_type": "markdown",
   "id": "68fd5862-e13b-4a98-9dc7-7dab3c0a8267",
   "metadata": {},
   "source": [
    "## Ques 5:"
   ]
  },
  {
   "cell_type": "markdown",
   "id": "d0381829-4b03-413f-b7f8-8ead49408417",
   "metadata": {},
   "source": [
    "### Ans: Method overriding is an ability of any object-oriented programming language that allows a subclass or child class to provide a specific implementation of a method that is already provided by one of its super-classes or parent classes. When a method in a subclass has the same name, same parameters or signature and same return type(or sub-type) as a method in its super-class, then the method in the subclass is said to override the method in the super-class."
   ]
  },
  {
   "cell_type": "code",
   "execution_count": 1,
   "id": "15a14079-a124-4891-bad7-8a230cc00fcf",
   "metadata": {},
   "outputs": [
    {
     "name": "stdout",
     "output_type": "stream",
     "text": [
      "Inside Parent\n",
      "Inside Child\n"
     ]
    }
   ],
   "source": [
    "# Example of method overriding\n",
    "\n",
    "# Defining parent class\n",
    "class Parent():\n",
    "\t\n",
    "\t# Constructor\n",
    "\tdef __init__(self):\n",
    "\t\tself.value = \"Inside Parent\"\n",
    "\t\t\n",
    "\t# Parent's show method\n",
    "\tdef show(self):\n",
    "\t\tprint(self.value)\n",
    "\t\t\n",
    "# Defining child class\n",
    "class Child(Parent):\n",
    "\t\n",
    "\t# Constructor\n",
    "\tdef __init__(self):\n",
    "\t\tself.value = \"Inside Child\"\n",
    "\t\t\n",
    "\t# Child's show method\n",
    "\tdef show(self):\n",
    "\t\tprint(self.value)\n",
    "\t\t\n",
    "\t\t\n",
    "# Driver's code\n",
    "obj1 = Parent()\n",
    "obj2 = Child()\n",
    "\n",
    "obj1.show()\n",
    "obj2.show()"
   ]
  },
  {
   "cell_type": "code",
   "execution_count": null,
   "id": "f06a7e6f-ded2-418c-8010-e5c60e07ad60",
   "metadata": {},
   "outputs": [],
   "source": []
  }
 ],
 "metadata": {
  "kernelspec": {
   "display_name": "Python 3 (ipykernel)",
   "language": "python",
   "name": "python3"
  },
  "language_info": {
   "codemirror_mode": {
    "name": "ipython",
    "version": 3
   },
   "file_extension": ".py",
   "mimetype": "text/x-python",
   "name": "python",
   "nbconvert_exporter": "python",
   "pygments_lexer": "ipython3",
   "version": "3.10.8"
  }
 },
 "nbformat": 4,
 "nbformat_minor": 5
}
