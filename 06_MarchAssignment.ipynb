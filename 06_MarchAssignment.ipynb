{
 "cells": [
  {
   "cell_type": "markdown",
   "id": "baa2196c-60d3-4c84-ab06-488c2c59c423",
   "metadata": {},
   "source": [
    "## Ques 1:"
   ]
  },
  {
   "cell_type": "markdown",
   "id": "b0825390-34f9-43cf-936e-9c33de4776bf",
   "metadata": {},
   "source": [
    "### Ans: Statistics is the branch of mathematics that deals with the collection, analysis, interpretation, presentation, and organization of data. It involves methods for gathering data, summarizing it, and drawing conclusions from it. Statistics is used in a wide range of fields, including business, science, medicine, and social sciences."
   ]
  },
  {
   "cell_type": "markdown",
   "id": "2115d4d8-3c93-40e4-8132-0e79d99655d7",
   "metadata": {},
   "source": [
    "## Ques 2:"
   ]
  },
  {
   "cell_type": "markdown",
   "id": "d20ed240-3cf3-42a8-ac36-72f49826d8b9",
   "metadata": {},
   "source": [
    "### Ans: There are two types of statistics: Descriptive and Inferential\n",
    "### 1. Descriptive Statistics - It consists of organizing and summarizing data. It is the measuring of central tendency such as mean, median, mode.\n",
    "### It is also the study of different distributions of data.\n",
    "### 2. Inferential Satistics - It consists of using data that have been measured to from conclusions. z test, t test, chi-square test."
   ]
  },
  {
   "cell_type": "markdown",
   "id": "40f1cefd-2116-45fb-9880-a29b52bb83ab",
   "metadata": {},
   "source": [
    "## Ques 3:"
   ]
  },
  {
   "cell_type": "markdown",
   "id": "744769f3-0928-4e5c-b234-ac14fe28ba5f",
   "metadata": {},
   "source": [
    "### Ans: There are two types of data: Quantitative Data and Qualitative Data\n",
    "###      1. Quantitative Data: Discrete (A whole number. Eg - No of children, no of bank accounts etc) and Continuous (weight,height etc).\n",
    "###      2. Qualitative Data: Nominal (There is no order or ranking(Categorical Data. Eg- Gender: Male or Female, Blood Groups etc.)) and Ordinal (There is a order in the categories. Eg - Feedback, Rankings etc)"
   ]
  },
  {
   "cell_type": "markdown",
   "id": "9d3961b5-7622-4b14-98b6-e05a762087bf",
   "metadata": {},
   "source": [
    "## Ques 4:"
   ]
  },
  {
   "cell_type": "markdown",
   "id": "10f4470b-5ec5-45a2-8e77-55fa6b048960",
   "metadata": {},
   "source": [
    "### Ans: (i) - Qualitative \n",
    "###      (ii) - Qualitative \n",
    "###      (iii) - Quantitative\n",
    "###      (iv) - Quantitative"
   ]
  },
  {
   "cell_type": "markdown",
   "id": "fc65f6e9-5d4d-4b1a-8832-1ebad39e1ba8",
   "metadata": {},
   "source": [
    "## Ques 5:"
   ]
  },
  {
   "cell_type": "markdown",
   "id": "a5e83669-e666-4ad0-8cf9-af859e7ea2dc",
   "metadata": {},
   "source": [
    "### Ans: Levels of measurement, also known as scales of measurement, refer to the way data is measured or categorized. There are four levels of measurement: nominal, ordinal, interval, and ratio.\n",
    "\n",
    "### Nominal level of measurement:\n",
    "### At the nominal level, data is categorized into discrete categories, without any numerical order or value. Nominal data can only be described in terms of frequency counts and percentages. An example of a nominal variable is gender, where individuals can be classified as male or female.\n",
    "\n",
    "### Ordinal level of measurement:\n",
    "### At the ordinal level, data is ranked or ordered, but the differences between the values are not meaningful or consistent. Ordinal data can be described in terms of frequency counts, percentages, and rankings. An example of an ordinal variable is the level of education, where individuals can be ranked as having a high school diploma, an associate's degree, a bachelor's degree, etc.\n",
    "\n",
    "### Interval level of measurement:\n",
    "### At the interval level, data is measured on a numerical scale, where the values are meaningful and consistent. However, there is no true zero point. An example of an interval variable is temperature, where 0 degrees does not represent the absence of temperature, but rather a particular point on the Celsius or Fahrenheit scale.\n",
    "\n",
    "### Ratio level of measurement:\n",
    "### At the ratio level, data is measured on a numerical scale, where the values are meaningful and consistent, and there is a true zero point. This means that ratios can be calculated and meaningful comparisons can be made between the values. An example of a ratio variable is height, where 0 represents the absence of height, and ratios can be calculated to compare the heights of different individuals."
   ]
  },
  {
   "cell_type": "markdown",
   "id": "965da302-1461-4398-8df7-0f2f4d4ae689",
   "metadata": {},
   "source": [
    "## Ques 6:"
   ]
  },
  {
   "cell_type": "markdown",
   "id": "698da130-c9e3-4774-975c-9b5dd7353861",
   "metadata": {},
   "source": [
    "### Ans: It is important to understand the level of measurement when analyzing data because it determines the type of statistical analysis that can be performed, as well as the appropriate measures of central tendency and dispersion to use. Different levels of measurement require different statistical techniques and tests, and using the wrong analysis can lead to inaccurate or misleading conclusions.\n",
    "### For example, if a researcher wants to compare the average income of individuals with different levels of education, they would need to understand that education level is an ordinal variable. "
   ]
  },
  {
   "cell_type": "markdown",
   "id": "3f1ed628-b701-491a-9890-171ffb0ce247",
   "metadata": {},
   "source": [
    "## Ques 7:"
   ]
  },
  {
   "cell_type": "markdown",
   "id": "c2035a80-db03-4244-914a-8bc5a89a9e2f",
   "metadata": {},
   "source": [
    "### Ans: Nominal data and ordinal data are both categorical data types, but they differ in the level of measurement and the type of information they convey.\n",
    "### Nominal data is a categorical data type where the data are unordered and have no numerical significance. In nominal data, the categories are simply labels used to classify or group the data. For example, a person's gender (male or female) is nominal data. In this case, the categories are labels that represent the two groups of people, and there is no inherent order or ranking between the two categories.\n",
    "### Ordinal data, on the other hand, is a categorical data type where the data are ordered or ranked, but the differences between the values are not meaningful or consistent. In ordinal data, the categories have an inherent order or ranking."
   ]
  },
  {
   "cell_type": "markdown",
   "id": "22541902-45bb-4528-ba32-d22775e78b65",
   "metadata": {},
   "source": [
    "## Ques 8:"
   ]
  },
  {
   "cell_type": "markdown",
   "id": "88738a2c-53e8-412b-8de1-993fd6a5a83a",
   "metadata": {},
   "source": [
    "### Ans: A box plot, also known as a box-and-whisker plot, is a type of plot that can be used to display data in terms of range."
   ]
  },
  {
   "cell_type": "markdown",
   "id": "3bfbbd42-b0aa-4bb2-88df-0c9e1d2f7dd3",
   "metadata": {},
   "source": [
    "## Ques 9:"
   ]
  },
  {
   "cell_type": "markdown",
   "id": "dc6f8e58-b191-40f2-be1e-aaa3e0f87bd9",
   "metadata": {},
   "source": [
    "### Ans: Descriptive statistics is the branch of statistics that involves the collection, organization, and summarization of data. Descriptive statistics is used to describe the basic features of the data, such as the mean, median, mode, standard deviation, range, and frequency distribution. Descriptive statistics can be used to summarize and display data graphically using charts and tables. For example, a survey of a sample of customers can use descriptive statistics to calculate the average age of the customers, the percentage of male and female customers, and the distribution of income levels among the sample.\n",
    "### Inferential statistics, on the other hand, is the branch of statistics that involves making predictions or generalizations about a population based on a sample of data. Inferential statistics is used to test hypotheses and draw conclusions about the population based on the sample data. Inferential statistics uses probability theory to make inferences about the population based on the sample data."
   ]
  },
  {
   "cell_type": "markdown",
   "id": "5bb6dddb-4bbe-447b-a276-dae7c0f19719",
   "metadata": {},
   "source": [
    "## Ques 10:"
   ]
  },
  {
   "cell_type": "markdown",
   "id": "929f6b47-82c2-472a-9176-fde993ae49eb",
   "metadata": {},
   "source": [
    "### Ans: Measures of central tendency and variability are commonly used in statistics to describe the characteristics of a dataset. The main measures of central tendency are the mean, median, and mode, while the main measures of variability are the range, standard deviation, and variance.\n",
    "### The mean is the most commonly used measure of central tendency and is calculated by summing up all the values in a dataset and dividing by the number of values. The mean provides an estimate of the \"typical\" value in a dataset and is influenced by all the values in the dataset. However, the mean can be sensitive to outliers, which can greatly influence its value.\n",
    "### The median is the middle value in a dataset, with half the values above and half below it. The median is useful when there are extreme values or outliers that could significantly affect the mean. The median is less affected by outliers than the mean and is a more robust measure of central tendency.\n",
    "### The mode is the value that occurs most frequently in a dataset. The mode is useful when looking for the most common value in a dataset, such as in a distribution of exam grades where the mode represents the most frequently achieved grade.\n",
    "### The range is the difference between the maximum and minimum values in a dataset. The range provides a simple measure of variability that indicates the spread of the data.\n",
    "### The standard deviation is a measure of variability that indicates how much the data deviates from the mean. \n",
    "### The variance is a measure of variability that is calculated by taking the average of the squared deviations from the mean. \n",
    "### "
   ]
  },
  {
   "cell_type": "code",
   "execution_count": null,
   "id": "0a1c855c-1ac5-4c45-a859-cfeb8940fc37",
   "metadata": {},
   "outputs": [],
   "source": []
  }
 ],
 "metadata": {
  "kernelspec": {
   "display_name": "Python 3 (ipykernel)",
   "language": "python",
   "name": "python3"
  },
  "language_info": {
   "codemirror_mode": {
    "name": "ipython",
    "version": 3
   },
   "file_extension": ".py",
   "mimetype": "text/x-python",
   "name": "python",
   "nbconvert_exporter": "python",
   "pygments_lexer": "ipython3",
   "version": "3.10.8"
  }
 },
 "nbformat": 4,
 "nbformat_minor": 5
}
