{
 "cells": [
  {
   "cell_type": "markdown",
   "id": "4b051ecb-bab4-4976-884f-8e6b84e84678",
   "metadata": {},
   "source": [
    "## Ques 1:"
   ]
  },
  {
   "cell_type": "markdown",
   "id": "0f887542-4c83-4a5c-9372-4b63fd9ff2d0",
   "metadata": {},
   "source": [
    "###  Ans : In python, we use the open() method to open files.\n",
    "###        There are multiple modes of opening a file in python like: \n",
    "###        'r' -> open a file for reading(Default)\n",
    "###        'w' -> Open a file for writing. Creates a new file if it does not exist or truncates the file if it exists.\n",
    "###        'x' -> Open a file for exclusive creation. If the file already exists, the operation fails.\n",
    "###        'a' -> Open a file for appending at the end of the file without truncating it. Creates a new file if it does not exist.\n",
    "###        't' -> Open in text mode. (default)\n",
    "###        'b' -> Open in binary mode."
   ]
  },
  {
   "cell_type": "markdown",
   "id": "fb54acea-0c14-4207-944d-c557fe989d97",
   "metadata": {},
   "source": [
    "## Ques 2:"
   ]
  },
  {
   "cell_type": "markdown",
   "id": "c54f8395-5326-4340-b48e-cba660936bdf",
   "metadata": {},
   "source": [
    "### Ans : The close() method closes an open file. You should always close your files, in some cases, due to buffering, changes made to a file may not show until you close the file."
   ]
  },
  {
   "cell_type": "markdown",
   "id": "2a35f45a-40c4-42e0-becb-0484d29481f8",
   "metadata": {},
   "source": [
    "## Ques 3:"
   ]
  },
  {
   "cell_type": "code",
   "execution_count": 9,
   "id": "8484547f-91f5-4f68-bd62-33f6b90c103a",
   "metadata": {},
   "outputs": [],
   "source": [
    "f = open('abc.txt', 'w')\n",
    "f.write(\"I want to become a Data Scientist\")\n",
    "f.close()"
   ]
  },
  {
   "cell_type": "code",
   "execution_count": 10,
   "id": "a4a39b00-88e5-404d-b034-c974025ae63f",
   "metadata": {},
   "outputs": [
    {
     "data": {
      "text/plain": [
       "'I want to become a Data Scientist'"
      ]
     },
     "execution_count": 10,
     "metadata": {},
     "output_type": "execute_result"
    }
   ],
   "source": [
    "f = open('abc.txt', 'r')\n",
    "f.read()"
   ]
  },
  {
   "cell_type": "markdown",
   "id": "be96c200-2afc-495a-bdd0-b991b2e6054d",
   "metadata": {},
   "source": [
    "## Ques 4:"
   ]
  },
  {
   "cell_type": "code",
   "execution_count": 13,
   "id": "43c7c4b5-4ecf-480c-9946-92fd9a49ea2f",
   "metadata": {},
   "outputs": [
    {
     "data": {
      "text/plain": [
       "'This is my first file'"
      ]
     },
     "execution_count": 13,
     "metadata": {},
     "output_type": "execute_result"
    }
   ],
   "source": [
    "# read()\n",
    "f = open(\"abc1.txt\", 'w')\n",
    "f.write(\"This is my first file\")\n",
    "f.close()\n",
    "f = open(\"abc1.txt\", 'r')\n",
    "f.read()  # --> read() this will read all the content of the file"
   ]
  },
  {
   "cell_type": "code",
   "execution_count": 16,
   "id": "2a428fe1-e1f0-4dc2-a89f-14cfd10da266",
   "metadata": {},
   "outputs": [
    {
     "data": {
      "text/plain": [
       "'This is my'"
      ]
     },
     "execution_count": 16,
     "metadata": {},
     "output_type": "execute_result"
    }
   ],
   "source": [
    "f.seek(0)\n",
    "f.readline(10) # --> In readline() we can print out as many charactres as we want by specifying the number of bytes."
   ]
  },
  {
   "cell_type": "code",
   "execution_count": 21,
   "id": "65e13ebb-d020-40b7-9b27-5257af1b0d60",
   "metadata": {},
   "outputs": [
    {
     "data": {
      "text/plain": [
       "['This is my first file']"
      ]
     },
     "execution_count": 21,
     "metadata": {},
     "output_type": "execute_result"
    }
   ],
   "source": [
    "f.seek(0)\n",
    "f.readlines(1) # --> Return a list of lines"
   ]
  },
  {
   "cell_type": "markdown",
   "id": "9d0743dd-63fe-4dd2-9081-0f11e42e08b8",
   "metadata": {},
   "source": [
    "## Ques 5: "
   ]
  },
  {
   "cell_type": "markdown",
   "id": "1d143c2d-7b73-4949-a6a0-3904348126dd",
   "metadata": {},
   "source": [
    "### Ans : Using with means that the file will be closed as soon as you leave the block. This is beneficial because closing a file is something that can easily be forgotten and ties up resources that you no longer need."
   ]
  },
  {
   "cell_type": "markdown",
   "id": "fcc33247-8b4f-4052-aa76-d26053754dfc",
   "metadata": {},
   "source": [
    "## Ques 6:"
   ]
  },
  {
   "cell_type": "code",
   "execution_count": 26,
   "id": "a929ac2b-ebab-45d0-93b9-b362ada931a5",
   "metadata": {},
   "outputs": [],
   "source": [
    "# write() function\n",
    "with open('abc2.txt', 'w') as f:\n",
    "    f.write(\"This is just a file that I have created to answer a question.\") # This is directly used to write a content into a file"
   ]
  },
  {
   "cell_type": "code",
   "execution_count": 25,
   "id": "f92fd199-5e04-4a24-a7e3-42e8e2da9127",
   "metadata": {},
   "outputs": [],
   "source": [
    "list = [\"i \", ' am ', ' masood ']\n",
    "with open('abc3.txt', 'w') as f:\n",
    "    for i in list:\n",
    "        f.writelines(i) # --> This can be used to write content of a list into a file"
   ]
  },
  {
   "cell_type": "code",
   "execution_count": null,
   "id": "8d0e5433-8b3c-4a02-8dc3-1a14ce5fd113",
   "metadata": {},
   "outputs": [],
   "source": []
  }
 ],
 "metadata": {
  "kernelspec": {
   "display_name": "Python 3 (ipykernel)",
   "language": "python",
   "name": "python3"
  },
  "language_info": {
   "codemirror_mode": {
    "name": "ipython",
    "version": 3
   },
   "file_extension": ".py",
   "mimetype": "text/x-python",
   "name": "python",
   "nbconvert_exporter": "python",
   "pygments_lexer": "ipython3",
   "version": "3.10.8"
  }
 },
 "nbformat": 4,
 "nbformat_minor": 5
}
