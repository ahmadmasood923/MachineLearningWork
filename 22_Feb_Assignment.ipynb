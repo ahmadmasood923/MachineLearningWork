{
 "cells": [
  {
   "cell_type": "markdown",
   "id": "267e7b92-b617-4048-bb29-eeffb2a08be6",
   "metadata": {},
   "source": [
    "### Ques 1:"
   ]
  },
  {
   "cell_type": "markdown",
   "id": "a23f5d4c-627f-4baf-8a0f-481f9327eaac",
   "metadata": {},
   "source": [
    "### Ans: "
   ]
  },
  {
   "cell_type": "code",
   "execution_count": 2,
   "id": "2736673d-bc77-4360-87fa-cd8f8ee279d4",
   "metadata": {},
   "outputs": [],
   "source": [
    "import requests\n",
    "from bs4 import BeautifulSoup\n",
    "\n",
    "channel_url = \"https://www.youtube.com/@PW-Foundation/videos\"\n",
    "\n",
    "response = requests.get(channel_url)\n",
    "\n",
    "soup = BeautifulSoup(response.text, 'html.parser')\n",
    "\n",
    "video_elements = soup.find_all('a', {'class': 'yt-simple-endpoint style-scope ytd-grid-video-renderer'})\n",
    "\n",
    "video_urls = []\n",
    "for video in video_elements[:5]:\n",
    "    video_url = \"https://www.youtube.com\" + video['href']\n",
    "    video_urls.append(video_url)\n",
    "\n",
    "for url in video_urls:\n",
    "    print(url)"
   ]
  },
  {
   "cell_type": "markdown",
   "id": "ea028ec5-a354-4430-9ec5-617bcf6ef012",
   "metadata": {},
   "source": [
    "### Ques 2:"
   ]
  },
  {
   "cell_type": "code",
   "execution_count": 3,
   "id": "ce0092cf-b648-4042-b16f-f093ff7c6368",
   "metadata": {},
   "outputs": [],
   "source": [
    "### Ans: \n",
    "import requests\n",
    "from bs4 import BeautifulSoup\n",
    "\n",
    "channel_url = \"https://www.youtube.com/@PW-Foundation/videos\"\n",
    "\n",
    "response = requests.get(channel_url)\n",
    "\n",
    "soup = BeautifulSoup(response.text, 'html.parser')\n",
    "\n",
    "thumbnail_elements = soup.find_all('a', {'class': 'yt-simple-endpoint style-scope ytd-grid-video-renderer'})\n",
    "\n",
    "thumbnail_urls = []\n",
    "for thumbnail in thumbnail_elements[:5]:\n",
    "    thumbnail_url = thumbnail.find('img')['src']\n",
    "    thumbnail_urls.append(thumbnail_url)\n",
    "\n",
    "for url in thumbnail_urls:\n",
    "    print(url)"
   ]
  },
  {
   "cell_type": "markdown",
   "id": "830c65b4-7563-40fc-9d41-822ac20526ab",
   "metadata": {},
   "source": [
    "### Ques 3:"
   ]
  },
  {
   "cell_type": "code",
   "execution_count": null,
   "id": "da626725-1ca6-4db2-82b5-a959c756533a",
   "metadata": {},
   "outputs": [],
   "source": [
    "### Ans: \n",
    "import requests\n",
    "from bs4 import BeautifulSoup\n",
    "\n",
    "channel_url = \"https://www.youtube.com/@PW-Foundation/videos\"\n",
    "\n",
    "response = requests.get(channel_url)\n",
    "\n",
    "soup = BeautifulSoup(response.text, 'html.parser')\n",
    "\n",
    "title_elements = soup.find_all('a', {'class': 'yt-simple-endpoint style-scope ytd-grid-video-renderer'})\n",
    "\n",
    "video_titles = []\n",
    "for title in title_elements[:5]:\n",
    "    video_title = title.text\n",
    "    video_titles.append(video_title)\n",
    "\n",
    "for title in video_titles:\n",
    "    print(title)"
   ]
  },
  {
   "cell_type": "markdown",
   "id": "8024ad0e-b5d8-4607-92b0-7e3d1ece9090",
   "metadata": {},
   "source": [
    "### Ques 4:"
   ]
  },
  {
   "cell_type": "code",
   "execution_count": 5,
   "id": "e72c2f11-b9db-4558-aabc-a4060120de5f",
   "metadata": {},
   "outputs": [],
   "source": [
    "### Ans: \n",
    "import requests\n",
    "from bs4 import BeautifulSoup\n",
    "\n",
    "channel_url = \"https://www.youtube.com/@PW-Foundation/videos\"\n",
    "\n",
    "response = requests.get(channel_url)\n",
    "\n",
    "soup = BeautifulSoup(response.text, 'html.parser')\n",
    "\n",
    "view_count_elements = soup.find_all('span', {'class': 'style-scope ytd-grid-video-renderer'})\n",
    "\n",
    "view_counts = []\n",
    "for count in view_count_elements[:5]:\n",
    "    view_count = count.text.strip().split()[0]\n",
    "    view_counts.append(view_count)\n",
    "\n",
    "for count in view_counts:\n",
    "    print(count)"
   ]
  },
  {
   "cell_type": "markdown",
   "id": "166f6f36-51b9-4b28-8a89-996f1583b86c",
   "metadata": {},
   "source": [
    "### Ques 5:"
   ]
  },
  {
   "cell_type": "code",
   "execution_count": 6,
   "id": "2e98bb3a-082a-4370-8122-5db3d366db16",
   "metadata": {},
   "outputs": [],
   "source": [
    "### Ans: \n",
    "import requests\n",
    "from bs4 import BeautifulSoup\n",
    "\n",
    "channel_url = \"https://www.youtube.com/@PW-Foundation/videos\"\n",
    "\n",
    "response = requests.get(channel_url)\n",
    "\n",
    "soup = BeautifulSoup(response.text, 'html.parser')\n",
    "\n",
    "upload_time_elements = soup.find_all('span', {'class': 'style-scope ytd-grid-video-renderer'})\n",
    "\n",
    "upload_times = []\n",
    "for time in upload_time_elements[:5]:\n",
    "    upload_time = time.find('span', {'class': 'style-scope ytd-grid-video-renderer'}).text\n",
    "    upload_times.append(upload_time)\n",
    "\n",
    "for time in upload_times:\n",
    "    print(time)"
   ]
  }
 ],
 "metadata": {
  "kernelspec": {
   "display_name": "Python 3 (ipykernel)",
   "language": "python",
   "name": "python3"
  },
  "language_info": {
   "codemirror_mode": {
    "name": "ipython",
    "version": 3
   },
   "file_extension": ".py",
   "mimetype": "text/x-python",
   "name": "python",
   "nbconvert_exporter": "python",
   "pygments_lexer": "ipython3",
   "version": "3.10.8"
  }
 },
 "nbformat": 4,
 "nbformat_minor": 5
}
