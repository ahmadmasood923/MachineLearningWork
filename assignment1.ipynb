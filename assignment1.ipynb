{
 "cells": [
  {
   "cell_type": "markdown",
   "id": "5ce754e0-3e74-4f97-8eeb-22b1c1e081d2",
   "metadata": {},
   "source": [
    "Q1:\n",
    "Ans: Python programming language was developed by Guido Van Rossum, a dutch programmer."
   ]
  },
  {
   "cell_type": "markdown",
   "id": "399f3537-6eb7-4fee-a2ca-ae8e25f353ba",
   "metadata": {},
   "source": [
    "Q2:Ans: Python is multi-paradigm programming language. It supports Object Oriented Programming, Structured Programming and Functional Programming."
   ]
  },
  {
   "cell_type": "markdown",
   "id": "f4bc8246-678a-452c-9155-dbb3101765f0",
   "metadata": {},
   "source": [
    "Q3:Ans: Yes, python is a case sensitive language and it applies to the identifiers as well. "
   ]
  },
  {
   "cell_type": "markdown",
   "id": "fda120c5-c865-4efe-ad6f-06d1a5811552",
   "metadata": {},
   "source": [
    "Q4:Ans: Correct extension of python file is .py"
   ]
  },
  {
   "cell_type": "markdown",
   "id": "fe1b3de3-9c9c-463b-a87a-a0a7b706fc47",
   "metadata": {},
   "source": [
    "Q5:Ans: Python is an interpreted language, which means the source code of python program is first converted into bytecode that is then executed by the         python virtual machines."
   ]
  },
  {
   "cell_type": "markdown",
   "id": "59e39118-1d60-492d-859a-9ba767cc974f",
   "metadata": {},
   "source": [
    "Q6:Ans: Moduel, function body, class definitions are some examples of block of code."
   ]
  },
  {
   "cell_type": "markdown",
   "id": "665a570e-4022-4103-8a46-2f4a880edec9",
   "metadata": {},
   "source": [
    "Q7:Ans: '#' --> This is the character which is used to give single line comment in python."
   ]
  },
  {
   "cell_type": "markdown",
   "id": "41fb199a-639f-4947-94a2-2b7568237d65",
   "metadata": {},
   "source": [
    "Q8:Ans: Using python_version() function or Python - V or sys.version"
   ]
  },
  {
   "cell_type": "markdown",
   "id": "214e50a3-a702-41aa-805c-5bc24a47090a",
   "metadata": {},
   "source": [
    "Q9:Ans: lambda"
   ]
  },
  {
   "cell_type": "markdown",
   "id": "3074b93e-d3aa-42c7-af84-3141e05b47a0",
   "metadata": {},
   "source": [
    "Q10:Ans: Preferred Installer Program"
   ]
  },
  {
   "cell_type": "markdown",
   "id": "d3dbdbba-8bde-430a-88a6-4f431281c9f3",
   "metadata": {},
   "source": [
    "Q11:Ans: print(), type(), input(), len(), .upper(), .lower() --> These are some examples of built in functions in python."
   ]
  },
  {
   "cell_type": "markdown",
   "id": "9c2fcae2-bee8-4e27-933c-4143b20b7bb1",
   "metadata": {},
   "source": [
    "Q12:Ans: 79 characters"
   ]
  },
  {
   "cell_type": "markdown",
   "id": "d9888df7-f198-4da9-b91d-a50c21d2aaea",
   "metadata": {},
   "source": [
    "Q13:Ans: Python is simple to understand and use.                                                                                                       \n",
    "         Its free and open source.                                                                                                                     \n",
    "         It has an extensive library.                                                                                                                 \n",
    "         It is interpreted language.                                                                                                                   \n",
    "         It is multipurpose such as it used in data science, machine learning, web development etc.                                                   \n",
    "         Moreover it has a supportive community."
   ]
  },
  {
   "cell_type": "markdown",
   "id": "e3a6f926-92ae-4114-9259-2e4462969cc6",
   "metadata": {},
   "source": [
    "Q14:Ans:Memory management in Python involves a private heap containing all Python objects and data structures. The management of this private heap is         ensured internally by the Python memory manager.                                                                                               "
   ]
  },
  {
   "cell_type": "markdown",
   "id": "2a1b5b68-972a-46ca-84e7-e80010bbc930",
   "metadata": {},
   "source": [
    "Q15:Ans:                                                                                                                                                       1. Right-clicking This PC and going to Properties.                                                                                             \n",
    "        2. Clicking on the Advanced system settings in the menu on the left.                                                                           \n",
    "        3. Clicking on the Environment Variables button on the bottom right.                                                                           \n",
    "        4. In the System variables section, selecting the Path variable and clicking on Edit. The next screen will show all the directories that are              currently a part of the PATH variable.                                                                                                     \n",
    "        5. Clicking on New and entering Python’s install directory."
   ]
  },
  {
   "cell_type": "markdown",
   "id": "3e6d264c-211b-4b64-8aec-9178f8656305",
   "metadata": {},
   "source": [
    "Q16:Ans: Yes, indentation is required in python"
   ]
  }
 ],
 "metadata": {
  "kernelspec": {
   "display_name": "Python 3 (ipykernel)",
   "language": "python",
   "name": "python3"
  },
  "language_info": {
   "codemirror_mode": {
    "name": "ipython",
    "version": 3
   },
   "file_extension": ".py",
   "mimetype": "text/x-python",
   "name": "python",
   "nbconvert_exporter": "python",
   "pygments_lexer": "ipython3",
   "version": "3.10.8"
  }
 },
 "nbformat": 4,
 "nbformat_minor": 5
}
